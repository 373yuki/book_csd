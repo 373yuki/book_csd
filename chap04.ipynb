{
 "cells": [
  {
   "cell_type": "markdown",
   "metadata": {
    "id": "Vo4mY-6N2yoA"
   },
   "source": [
    "# ４章 線形システムの構造"
   ]
  },
  {
   "cell_type": "code",
   "execution_count": 1,
   "metadata": {
    "id": "gJYRxJfd2yoC"
   },
   "outputs": [],
   "source": [
    "from control.matlab import *\n",
    "import matplotlib.pyplot as plt\n",
    "import numpy as np\n",
    "\n",
    "#plt.rcParams['font.family'] ='sans-serif' #使用するフォント\n",
    "plt.rcParams['font.family'] = 'Times New Roman' # font familyの設定\n",
    "plt.rcParams['mathtext.fontset'] = 'cm' # math fontの設定\n",
    "plt.rcParams['xtick.direction'] = 'in' #x軸の目盛線が内向き('in')か外向き('out')か双方向か('inout')\n",
    "plt.rcParams['ytick.direction'] = 'in' #y軸の目盛線が内向き('in')か外向き('out')か双方向か('inout')\n",
    "plt.rcParams['xtick.major.width'] = 1.0 #x軸主目盛り線の線幅\n",
    "plt.rcParams['ytick.major.width'] = 1.0 #y軸主目盛り線の線幅\n",
    "plt.rcParams['font.size'] = 11 #フォントの大きさ\n",
    "plt.rcParams['axes.linewidth'] = 0.5 # 軸の線幅edge linewidth。囲みの太さ\n",
    "plt.rcParams['mathtext.default'] = 'it'#'regular'\n",
    "plt.rcParams['axes.xmargin'] = '0'\n",
    "plt.rcParams['axes.ymargin'] = '0.05'\n",
    "plt.rcParams['savefig.facecolor'] = 'None'\n",
    "plt.rcParams['savefig.edgecolor'] = 'None'\n",
    "\n",
    "plt.rcParams[\"legend.fancybox\"] = True     # 丸角\n",
    "# plt.rcParams[\"legend.framealpha\"] = 1    # 透明度の指定、0で塗りつぶしなし\n",
    "# plt.rcParams[\"legend.edgecolor\"] = 'gray' # edgeの色を変更\n",
    "plt.rcParams[\"legend.handlelength\"] = 1.8  # 凡例の線の長さを調節\n",
    "plt.rcParams[\"legend.labelspacing\"] = 0.4  # 垂直方向（縦）の距離の各凡例の距離\n",
    "plt.rcParams[\"legend.handletextpad\"] = 0.7 # 凡例の線と文字の距離の長さ\n",
    "plt.rcParams[\"legend.markerscale\"] = 1.0   # 点がある場合のmarker scale"
   ]
  },
  {
   "cell_type": "code",
   "execution_count": 2,
   "metadata": {
    "id": "iOA70Kcj2yoE"
   },
   "outputs": [],
   "source": [
    "def linestyle_generator():\n",
    "    linestyle = ['-', '--', '-.', ':']\n",
    "    lineID = 0\n",
    "    while True:\n",
    "        yield linestyle[lineID]\n",
    "        lineID = (lineID + 1) % len(linestyle)"
   ]
  },
  {
   "cell_type": "code",
   "execution_count": 3,
   "metadata": {
    "id": "EEUYxua92yoE"
   },
   "outputs": [],
   "source": [
    "def plot_set(fig_ax, *args):\n",
    "    fig_ax.set_xlabel(args[0])\n",
    "    fig_ax.set_ylabel(args[1])\n",
    "    fig_ax.grid(ls=':', lw=0.5)\n",
    "    if len(args)==3:\n",
    "        fig_ax.legend(loc=args[2])"
   ]
  },
  {
   "cell_type": "code",
   "execution_count": 4,
   "metadata": {
    "id": "FomeQ5aF2yoE"
   },
   "outputs": [],
   "source": [
    "def bodeplot_set(fig_ax, *args):\n",
    "    fig_ax[0].grid(which=\"both\", ls=':', lw=0.5)\n",
    "    fig_ax[0].set_ylabel('Gain [dB]')\n",
    "\n",
    "    fig_ax[1].grid(which=\"both\", ls=':', lw=0.5)\n",
    "    fig_ax[1].set_xlabel('$\\omega$ [rad/s]')\n",
    "    fig_ax[1].set_ylabel('Phase [deg]')\n",
    "    \n",
    "    if len(args) > 0:\n",
    "        fig_ax[1].legend(loc=args[0])\n",
    "    if len(args) > 1:\n",
    "        fig_ax[0].legend(loc=args[1])"
   ]
  },
  {
   "cell_type": "code",
   "execution_count": 5,
   "metadata": {},
   "outputs": [],
   "source": [
    "# 図を保存するかどうか\n",
    "is_savefig = False\n",
    "# 図の保存パス\n",
    "figpath=\"./notebook_output/\"  "
   ]
  },
  {
   "cell_type": "code",
   "execution_count": 6,
   "metadata": {},
   "outputs": [],
   "source": [
    "# 数式処理のためにsympyをインポート\n",
    "import sympy as sp\n",
    "from sympy.matrices import *"
   ]
  },
  {
   "cell_type": "code",
   "execution_count": 7,
   "metadata": {},
   "outputs": [],
   "source": [
    "from scipy.linalg import expm\n",
    "from numpy.linalg import inv"
   ]
  },
  {
   "cell_type": "markdown",
   "metadata": {},
   "source": [
    "## 4.1〜4.4 可制御性のチェック〜可制御正準形への等価変換"
   ]
  },
  {
   "cell_type": "markdown",
   "metadata": {},
   "source": [
    "例4.1"
   ]
  },
  {
   "cell_type": "code",
   "execution_count": 8,
   "metadata": {},
   "outputs": [],
   "source": [
    "A = np.matrix([[0,1,2],[1,3,4],[0,5,6]])\n",
    "B = np.matrix([[1],[0],[0]])\n",
    "C = np.matrix([1,0,0])\n",
    "D = np.matrix([0])\n",
    "sys = ss(A, B, C, D)"
   ]
  },
  {
   "cell_type": "code",
   "execution_count": 9,
   "metadata": {},
   "outputs": [
    {
     "name": "stdout",
     "output_type": "stream",
     "text": [
      "[[1 0 1]\n",
      " [0 1 3]\n",
      " [0 0 5]]\n"
     ]
    }
   ],
   "source": [
    "Vc=np.block([B,A*B,A*A*B])\n",
    "print(Vc)"
   ]
  },
  {
   "cell_type": "code",
   "execution_count": 10,
   "metadata": {},
   "outputs": [
    {
     "name": "stdout",
     "output_type": "stream",
     "text": [
      "[[1. 0. 1.]\n",
      " [0. 1. 3.]\n",
      " [0. 0. 5.]]\n"
     ]
    }
   ],
   "source": [
    "#controlライブラリのctrb関数を用いても同じ\n",
    "Vc=ctrb(A,B)\n",
    "print(Vc)"
   ]
  },
  {
   "cell_type": "code",
   "execution_count": 11,
   "metadata": {},
   "outputs": [
    {
     "data": {
      "text/plain": [
       "3"
      ]
     },
     "execution_count": 11,
     "metadata": {},
     "output_type": "execute_result"
    }
   ],
   "source": [
    "np.linalg.matrix_rank(Vc)"
   ]
  },
  {
   "cell_type": "code",
   "execution_count": 12,
   "metadata": {},
   "outputs": [],
   "source": [
    "#特性多項式とその係数を求める\n",
    "[_,a2,a1,a0] = np.poly(A)"
   ]
  },
  {
   "cell_type": "code",
   "execution_count": 13,
   "metadata": {},
   "outputs": [
    {
     "data": {
      "text/plain": [
       "(-9.0, -2.999999999999999, -3.999999999999998)"
      ]
     },
     "execution_count": 13,
     "metadata": {},
     "output_type": "execute_result"
    }
   ],
   "source": [
    "a2,a1,a0"
   ]
  },
  {
   "cell_type": "code",
   "execution_count": 14,
   "metadata": {},
   "outputs": [
    {
     "name": "stdout",
     "output_type": "stream",
     "text": [
      "[[-3. -9.  1.]\n",
      " [-9.  1.  0.]\n",
      " [ 1.  0.  0.]]\n"
     ]
    }
   ],
   "source": [
    "T0 = np.matrix([[a1,a2,1],[a2,1,0],[1,0,0]])\n",
    "print(T0)"
   ]
  },
  {
   "cell_type": "code",
   "execution_count": 15,
   "metadata": {},
   "outputs": [
    {
     "name": "stdout",
     "output_type": "stream",
     "text": [
      "[[-0.  -0.   0.2]\n",
      " [-0.   1.   1.2]\n",
      " [ 1.   9.  11.2]]\n"
     ]
    }
   ],
   "source": [
    "T=np.linalg.inv(Vc*T0)\n",
    "print(T)"
   ]
  },
  {
   "cell_type": "code",
   "execution_count": 16,
   "metadata": {},
   "outputs": [
    {
     "name": "stdout",
     "output_type": "stream",
     "text": [
      "[[ 8.88178420e-16  1.00000000e+00  0.00000000e+00]\n",
      " [-7.10542736e-15  0.00000000e+00  1.00000000e+00]\n",
      " [ 4.00000000e+00  3.00000000e+00  9.00000000e+00]]\n"
     ]
    }
   ],
   "source": [
    "Abar=T*A*np.linalg.inv(T)\n",
    "Bbar=T*B\n",
    "print(Abar)"
   ]
  },
  {
   "cell_type": "code",
   "execution_count": 17,
   "metadata": {},
   "outputs": [
    {
     "name": "stdout",
     "output_type": "stream",
     "text": [
      "[[0.]\n",
      " [0.]\n",
      " [1.]]\n"
     ]
    }
   ],
   "source": [
    "print(Bbar)"
   ]
  },
  {
   "cell_type": "markdown",
   "metadata": {},
   "source": [
    "可制御性グラム行列と有限時間到達（式(4.4),(4.5)）については章末問題【１】を参照"
   ]
  },
  {
   "cell_type": "markdown",
   "metadata": {},
   "source": [
    "## 4.5 Kalmanの正準構造分解"
   ]
  },
  {
   "cell_type": "code",
   "execution_count": 18,
   "metadata": {},
   "outputs": [],
   "source": [
    "import scipy"
   ]
  },
  {
   "cell_type": "code",
   "execution_count": 19,
   "metadata": {},
   "outputs": [
    {
     "name": "stdout",
     "output_type": "stream",
     "text": [
      "[[ 1  2  3  4]\n",
      " [ 0 -1  0 -1]\n",
      " [ 0  0  5  6]\n",
      " [ 0  0  0  1]]\n",
      "[[1]\n",
      " [1]\n",
      " [0]\n",
      " [0]]\n",
      "[[ 0 -3  0 -4]]\n"
     ]
    }
   ],
   "source": [
    "Abar = np.matrix([[1,2,3,4],[0,-1,0,-1],[0,0,5,6],[0,0,0,1]])\n",
    "Bbar = np.matrix([[1],[1],[0],[0]])\n",
    "Cbar = np.matrix([0,-3,0,-4])\n",
    "Dbar = np.matrix([0])\n",
    "print(Abar)\n",
    "print(Bbar)\n",
    "print(Cbar)"
   ]
  },
  {
   "cell_type": "code",
   "execution_count": 20,
   "metadata": {},
   "outputs": [],
   "source": [
    "T=np.matrix([[0,1,-1,0],[-1,0,-1,1],[0,0,1,1],[-1,1,-1,1]])"
   ]
  },
  {
   "cell_type": "code",
   "execution_count": 21,
   "metadata": {},
   "outputs": [
    {
     "name": "stdout",
     "output_type": "stream",
     "text": [
      "[[ 0  1 -1  0]\n",
      " [-1  0 -1  1]\n",
      " [ 0  0  1  1]\n",
      " [-1  1 -1  1]]\n"
     ]
    }
   ],
   "source": [
    "print(T)"
   ]
  },
  {
   "cell_type": "code",
   "execution_count": 22,
   "metadata": {},
   "outputs": [
    {
     "data": {
      "text/plain": [
       "-1.0"
      ]
     },
     "execution_count": 22,
     "metadata": {},
     "output_type": "execute_result"
    }
   ],
   "source": [
    "np.linalg.det(T)"
   ]
  },
  {
   "cell_type": "code",
   "execution_count": 23,
   "metadata": {},
   "outputs": [
    {
     "data": {
      "text/plain": [
       "matrix([[ 2.,  1.,  1., -2.],\n",
       "        [ 0., -1.,  0.,  1.],\n",
       "        [-1., -1.,  0.,  1.],\n",
       "        [ 1.,  1.,  1., -1.]])"
      ]
     },
     "execution_count": 23,
     "metadata": {},
     "output_type": "execute_result"
    }
   ],
   "source": [
    "inv(T)"
   ]
  },
  {
   "cell_type": "code",
   "execution_count": null,
   "metadata": {},
   "outputs": [],
   "source": [
    "A=inv(T)*Abar*T\n",
    "print(A)"
   ]
  },
  {
   "cell_type": "code",
   "execution_count": null,
   "metadata": {},
   "outputs": [],
   "source": [
    "B=inv(T)*Bbar\n",
    "print(B)"
   ]
  },
  {
   "cell_type": "code",
   "execution_count": null,
   "metadata": {},
   "outputs": [],
   "source": [
    "C=Cbar*T\n",
    "print(C)"
   ]
  },
  {
   "cell_type": "code",
   "execution_count": null,
   "metadata": {},
   "outputs": [],
   "source": [
    "A = np.matrix([[-14,13,-5,25],[-3,2,-3,3],[3,-3,1,-6],[-9,9,-2,17]])\n",
    "B = np.matrix([[3],[-1],[-2],[2]])\n",
    "C = np.matrix([7,-4,7,-7])\n",
    "D = np.matrix([0])\n",
    "print(A)\n",
    "print(B)\n",
    "print(C)"
   ]
  },
  {
   "cell_type": "code",
   "execution_count": null,
   "metadata": {},
   "outputs": [],
   "source": [
    "#可制御性のチェック\n",
    "Vc=ctrb(A,B)\n",
    "print(Vc)"
   ]
  },
  {
   "cell_type": "markdown",
   "metadata": {},
   "source": [
    "可制御性行列のランクは2で，不可制御です．"
   ]
  },
  {
   "cell_type": "code",
   "execution_count": null,
   "metadata": {},
   "outputs": [],
   "source": [
    "np.linalg.matrix_rank(Vc)"
   ]
  },
  {
   "cell_type": "code",
   "execution_count": null,
   "metadata": {},
   "outputs": [],
   "source": [
    "#可観測性のチェック\n",
    "Vo=obsv(A,C)\n",
    "print(Vo)"
   ]
  },
  {
   "cell_type": "markdown",
   "metadata": {},
   "source": [
    "可観測性行列のランクは2で，不可観測です．"
   ]
  },
  {
   "cell_type": "code",
   "execution_count": null,
   "metadata": {},
   "outputs": [],
   "source": [
    "np.linalg.matrix_rank(Vo)"
   ]
  },
  {
   "cell_type": "markdown",
   "metadata": {},
   "source": [
    "部分空間の構造解析"
   ]
  },
  {
   "cell_type": "code",
   "execution_count": 32,
   "metadata": {},
   "outputs": [],
   "source": [
    "# 準備\n",
    "# 単位行列\n",
    "I=np.eye(A.shape[0])\n",
    "# 射影行列\n",
    "def proj(X):\n",
    "    return X@inv(X.T@X)@X.T"
   ]
  },
  {
   "cell_type": "code",
   "execution_count": 33,
   "metadata": {},
   "outputs": [
    {
     "name": "stdout",
     "output_type": "stream",
     "text": [
      "[[-0.82746882 -0.25552955]\n",
      " [-0.03490737 -0.8653216 ]\n",
      " [ 0.39628072 -0.30489603]\n",
      " [-0.39628072  0.30489603]]\n"
     ]
    }
   ],
   "source": [
    "Tc = scipy.linalg.orth(Vc)  # Image Vcの基底（正規直交）=可制御部分空間\n",
    "print(Tc)"
   ]
  },
  {
   "cell_type": "code",
   "execution_count": 34,
   "metadata": {},
   "outputs": [
    {
     "name": "stdout",
     "output_type": "stream",
     "text": [
      "[[-8.16496581e-01  0.00000000e+00]\n",
      " [-1.11022302e-16  7.37035603e-17]\n",
      " [ 4.08248290e-01  7.07106781e-01]\n",
      " [-4.08248290e-01  7.07106781e-01]]\n"
     ]
    }
   ],
   "source": [
    "Tno = scipy.linalg.null_space(Vo) # Ker Voの基底＝不可観測部分空間\n",
    "print(Tno)"
   ]
  },
  {
   "cell_type": "code",
   "execution_count": 35,
   "metadata": {},
   "outputs": [
    {
     "name": "stdout",
     "output_type": "stream",
     "text": [
      "[[-8.16496581e-01]\n",
      " [-5.55111512e-17]\n",
      " [ 4.08248290e-01]\n",
      " [-4.08248290e-01]]\n"
     ]
    }
   ],
   "source": [
    "#TnoのうちTcと従属な成分=可制御・不可観測部分空間\n",
    "Tc_no=np.matrix(proj(Tc)@Tno)\n",
    "# 実はこの2本の基底は線形従属なので，１本目だけ取り出します．\n",
    "Tc_no = Tc_no[:,0]\n",
    "print(Tc_no)"
   ]
  },
  {
   "cell_type": "code",
   "execution_count": 36,
   "metadata": {},
   "outputs": [
    {
     "name": "stdout",
     "output_type": "stream",
     "text": [
      "[[0.        ]\n",
      " [0.        ]\n",
      " [0.70710678]\n",
      " [0.70710678]]\n"
     ]
    }
   ],
   "source": [
    "#TnoのうちTcと独立な成分=不可制御・不可観測部分空間\n",
    "Tnc_no = np.matrix((I-proj(Tc))@Tno)\n",
    "# 実はこの2本の基底は線形従属なので，2本目だけ取り出します．\n",
    "Tnc_no = Tnc_no[:,1]\n",
    "print(Tnc_no)"
   ]
  },
  {
   "cell_type": "code",
   "execution_count": 37,
   "metadata": {},
   "outputs": [
    {
     "name": "stdout",
     "output_type": "stream",
     "text": [
      "[[-0.01163579]\n",
      " [-0.03490737]\n",
      " [-0.01163579]\n",
      " [ 0.01163579]]\n"
     ]
    }
   ],
   "source": [
    "#TcのうちTnoと独立な成分=可制御・可観測部分空間\n",
    "Tc_o = np.matrix((I-proj(Tno))@Tc)\n",
    "# 実はこの2本の基底は線形従属なので，１本目だけ取り出します．\n",
    "Tc_o = Tc_o[:,0]\n",
    "print(Tc_o)"
   ]
  },
  {
   "cell_type": "code",
   "execution_count": 38,
   "metadata": {},
   "outputs": [
    {
     "name": "stdout",
     "output_type": "stream",
     "text": [
      "[[ 0.25 -0.25  0.25 -0.25]\n",
      " [-0.25  0.25 -0.25  0.25]\n",
      " [ 0.25 -0.25  0.25 -0.25]\n",
      " [-0.25  0.25 -0.25  0.25]]\n"
     ]
    }
   ],
   "source": [
    "#TcともTnoともnoと独立な成分=不可制御・可観測部分空間\n",
    "Tnc_o = np.matrix((I-proj(Tno))@(I-proj(Tc)))\n",
    "print(Tnc_o)"
   ]
  },
  {
   "cell_type": "code",
   "execution_count": 39,
   "metadata": {},
   "outputs": [
    {
     "name": "stdout",
     "output_type": "stream",
     "text": [
      "[[ 0.25]\n",
      " [-0.25]\n",
      " [ 0.25]\n",
      " [-0.25]]\n"
     ]
    }
   ],
   "source": [
    "# 実はこの４本の基底も線形従属なので，１本目だけ取り出します．\n",
    "Tnc_o = Tnc_o[:,0]\n",
    "print(Tnc_o)"
   ]
  },
  {
   "cell_type": "markdown",
   "metadata": {},
   "source": [
    "以上を並べて変換行列を作ります．"
   ]
  },
  {
   "cell_type": "code",
   "execution_count": 40,
   "metadata": {},
   "outputs": [
    {
     "name": "stdout",
     "output_type": "stream",
     "text": [
      "[[-8.16496581e-01  1.08779196e-15  4.08248290e-01 -4.08248290e-01]\n",
      " [-7.16181060e+00 -2.14854318e+01 -7.16181060e+00  7.16181060e+00]\n",
      " [ 7.85046229e-17 -1.57009246e-16  7.07106781e-01  7.07106781e-01]\n",
      " [ 1.00000000e+00 -1.00000000e+00  1.00000000e+00 -1.00000000e+00]]\n"
     ]
    }
   ],
   "source": [
    "T=inv(np.block([Tc_no,Tc_o,Tnc_no,Tnc_o]))\n",
    "print(T)"
   ]
  },
  {
   "cell_type": "markdown",
   "metadata": {},
   "source": [
    "式(4.24)(4.25)のようなKalmanの正準形に整形されます．"
   ]
  },
  {
   "cell_type": "code",
   "execution_count": 41,
   "metadata": {},
   "outputs": [
    {
     "name": "stdout",
     "output_type": "stream",
     "text": [
      "[[ 1.00000000e+00 -5.70035028e-02 -1.73205081e+01  1.67381799e+01]\n",
      " [ 0.00000000e+00 -1.00000000e+00  5.68434189e-14  7.16181060e+01]\n",
      " [ 1.33226763e-15  7.49400542e-16  5.00000000e+00 -4.24264069e+00]\n",
      " [-5.55111512e-16 -3.57353036e-16 -4.32986980e-15  1.00000000e+00]]\n",
      "[[-4.08248290e+00]\n",
      " [ 2.86472424e+01]\n",
      " [ 4.44089210e-16]\n",
      " [ 4.21884749e-15]]\n",
      "[[-1.33226763e-15 -1.04722122e-01  8.88178420e-16  6.25000000e+00]]\n"
     ]
    }
   ],
   "source": [
    "Abar=T*A*inv(T)\n",
    "Bbar=T*B\n",
    "Cbar=C*inv(T)\n",
    "print(Abar)\n",
    "print(Bbar)\n",
    "print(Cbar)"
   ]
  },
  {
   "cell_type": "markdown",
   "metadata": {
    "tags": []
   },
   "source": [
    "## 章末問題"
   ]
  },
  {
   "cell_type": "markdown",
   "metadata": {},
   "source": [
    "### 【１】 可制御性グラム行列を用いて目標状態に到達させる\n"
   ]
  },
  {
   "cell_type": "code",
   "execution_count": 42,
   "metadata": {},
   "outputs": [],
   "source": [
    "A = np.matrix([[-1,-1],[1,-1]])\n",
    "B = np.matrix([[0],[1]])\n",
    "C = np.matrix([1,0])\n",
    "D = np.matrix([0])\n",
    "sys = ss(A, B, C, D)"
   ]
  },
  {
   "cell_type": "code",
   "execution_count": 43,
   "metadata": {},
   "outputs": [
    {
     "data": {
      "text/plain": [
       "2"
      ]
     },
     "execution_count": 43,
     "metadata": {},
     "output_type": "execute_result"
    }
   ],
   "source": [
    "Vc=ctrb(A,B)\n",
    "np.linalg.matrix_rank(Vc)"
   ]
  },
  {
   "cell_type": "code",
   "execution_count": 44,
   "metadata": {},
   "outputs": [],
   "source": [
    "dt=0.001\n",
    "tf=10.00\n",
    "trange=np.arange(0,tf,dt)"
   ]
  },
  {
   "cell_type": "markdown",
   "metadata": {},
   "source": [
    "式(4.5)の近似積分"
   ]
  },
  {
   "cell_type": "code",
   "execution_count": 45,
   "metadata": {},
   "outputs": [
    {
     "data": {
      "text/plain": [
       "matrix([[ 0.125     , -0.12499992],\n",
       "        [-0.12499992,  0.37550017]])"
      ]
     },
     "execution_count": 45,
     "metadata": {},
     "output_type": "execute_result"
    }
   ],
   "source": [
    "Gc=np.zeros(A.shape)\n",
    "for tau in trange:\n",
    "    Gc = Gc + expm(A*tau) *B *B.transpose() *expm(A.transpose()*tau)*dt\n",
    "Gc"
   ]
  },
  {
   "cell_type": "code",
   "execution_count": 46,
   "metadata": {},
   "outputs": [],
   "source": [
    "def reach(t0,x0,tf,xf,tau):\n",
    "    u = B.transpose() * expm(A.transpose()*(tf-tau)) * inv(Gc) * (xf-expm(A*tf)*x0 )\n",
    "    return u[0,0]"
   ]
  },
  {
   "cell_type": "markdown",
   "metadata": {},
   "source": [
    "初期状態と目標状態を設定（自由に変えてみて下さい）"
   ]
  },
  {
   "cell_type": "code",
   "execution_count": 47,
   "metadata": {},
   "outputs": [],
   "source": [
    "x0=np.array([[1],[0]])\n",
    "xf=np.array([[-0.5],[-0.5]])"
   ]
  },
  {
   "cell_type": "code",
   "execution_count": 48,
   "metadata": {},
   "outputs": [
    {
     "data": {
      "image/png": "[encoded data removed]",
      "text/plain": [
       "<Figure size 288x288 with 1 Axes>"
      ]
     },
     "metadata": {
      "needs_background": "light"
     },
     "output_type": "display_data"
    }
   ],
   "source": [
    "fig, ax = plt.subplots(figsize=(4, 4))\n",
    "\n",
    "ax.set_xlim(-1.5,1.5)\n",
    "ax.set_ylim(-1.5,1.5)\n",
    "ax.set_xticks(np.arange(-1.5, 1.51, step=0.5))\n",
    "ax.set_yticks(np.arange(-1.5, 1.51, step=0.5))\n",
    "ax.grid(ls = ':')\n",
    "plot_set(ax, '$x_1$', '$x_2$')\n",
    "\n",
    "u=np.array(list(map(lambda tau:reach(0,x0,tf,xf,tau), trange)))  # 理論式\n",
    "_, _, x = lsim(sys, U=u, X0=x0, T=trange)    \n",
    "ax.plot(x[:,0], x[:,1], lw=1, color='r',)     #　シミュレーション結果\n",
    "ax.scatter(x0[0],x0[1],c='b')\n",
    "ax.scatter(xf[0],xf[1],c='g')\n",
    "\n",
    "if (is_savefig):\n",
    "    fig.savefig(figpath+\"ans/ch4_1_phase_portrait.pdf\", transparent=True, bbox_inches=\"tight\", pad_inches=0.0)"
   ]
  },
  {
   "cell_type": "code",
   "execution_count": 49,
   "metadata": {},
   "outputs": [
    {
     "data": {
      "image/png": "[encoded data removed]",
      "text/plain": [
       "<Figure size 432x662.4 with 2 Axes>"
      ]
     },
     "metadata": {
      "needs_background": "light"
     },
     "output_type": "display_data"
    }
   ],
   "source": [
    "fig, ax = plt.subplots(2, 1, figsize=(6, 9.2))\n",
    "\n",
    "u=np.array(list(map(lambda tau:reach(0,x0,tf,xf,tau), trange)))  # 理論式\n",
    "_, _, x = lsim(sys, U=u, X0=x0, T=trange)     # シミュレーション\n",
    "ax[0].plot(trange, x[:,0], lw=2, ls = '-',  color='k', label='$x_1$')                    \n",
    "ax[0].plot(trange, x[:,1], lw=2, ls = '--', color='k', label='$x_2$')           \n",
    "ax[0].axhline(0, color=\"k\", linewidth=0.5)  \n",
    "ax[0].grid(ls = ':')\n",
    "plot_set(ax[0], 't', 'x', 'best')\n",
    "ax[0].set_xlim(0,tf+0.1)\n",
    "\n",
    "ax[1].plot(trange, u, lw=1, color='k')\n",
    "ax[1].axhline(0, color=\"k\", lw=0.5)  \n",
    "ax[1].grid(ls = ':')\n",
    "plot_set(ax[1], 't', 'u')\n",
    "ax[1].set_xlim(0,tf+0.1)\n",
    "\n",
    "if (is_savefig):\n",
    "    fig.savefig(figpath+\"ans/ch4_1_time_response.pdf\", transparent=True, bbox_inches=\"tight\", pad_inches=0.0)"
   ]
  },
  {
   "cell_type": "markdown",
   "metadata": {},
   "source": [
    "### 【３】 Kalmanの正準分解"
   ]
  },
  {
   "cell_type": "code",
   "execution_count": 50,
   "metadata": {},
   "outputs": [],
   "source": [
    "import scipy"
   ]
  },
  {
   "cell_type": "code",
   "execution_count": 51,
   "metadata": {},
   "outputs": [
    {
     "name": "stdout",
     "output_type": "stream",
     "text": [
      "[[ 0 -1  0]\n",
      " [ 1 -1  0]\n",
      " [ 1  0 -2]]\n"
     ]
    }
   ],
   "source": [
    "A = np.matrix([[0,-1,0],[1,-1,0],[1,0,-2]])\n",
    "B = np.matrix([[0],[0],[1]])\n",
    "C = np.matrix([1,0,0])\n",
    "D = np.matrix([0])\n",
    "sys = ss(A, B, C, D)\n",
    "print(A)"
   ]
  },
  {
   "cell_type": "code",
   "execution_count": 52,
   "metadata": {},
   "outputs": [
    {
     "name": "stdout",
     "output_type": "stream",
     "text": [
      "[[ 0.  0.  0.]\n",
      " [ 0.  0.  0.]\n",
      " [ 1. -2.  4.]]\n"
     ]
    },
    {
     "data": {
      "text/plain": [
       "1"
      ]
     },
     "execution_count": 52,
     "metadata": {},
     "output_type": "execute_result"
    }
   ],
   "source": [
    "Vc=ctrb(A,B)\n",
    "print(Vc)\n",
    "np.linalg.matrix_rank(Vc)"
   ]
  },
  {
   "cell_type": "code",
   "execution_count": 53,
   "metadata": {},
   "outputs": [
    {
     "name": "stdout",
     "output_type": "stream",
     "text": [
      "[[ 0.]\n",
      " [ 0.]\n",
      " [-1.]]\n"
     ]
    }
   ],
   "source": [
    "Tc = scipy.linalg.orth(Vc)  # Image Vcの基底\n",
    "print(Tc)"
   ]
  },
  {
   "cell_type": "code",
   "execution_count": 54,
   "metadata": {},
   "outputs": [
    {
     "name": "stdout",
     "output_type": "stream",
     "text": [
      "[[ 1.  0.  0.]\n",
      " [ 0. -1.  0.]\n",
      " [-1.  1.  0.]]\n"
     ]
    },
    {
     "data": {
      "text/plain": [
       "2"
      ]
     },
     "execution_count": 54,
     "metadata": {},
     "output_type": "execute_result"
    }
   ],
   "source": [
    "Vo=obsv(A,C)\n",
    "print(Vo)\n",
    "np.linalg.matrix_rank(Vo)"
   ]
  },
  {
   "cell_type": "code",
   "execution_count": 55,
   "metadata": {},
   "outputs": [
    {
     "name": "stdout",
     "output_type": "stream",
     "text": [
      "[[0.]\n",
      " [0.]\n",
      " [1.]]\n"
     ]
    }
   ],
   "source": [
    "Tno = scipy.linalg.null_space(Vo) # Ker Voの基底\n",
    "print(Tno)"
   ]
  },
  {
   "cell_type": "markdown",
   "metadata": {},
   "source": [
    "この例では$T_c$と$T_{no}$は（たまたま）平行である．これを補う基底として以下を選ぶ．"
   ]
  },
  {
   "cell_type": "code",
   "execution_count": 56,
   "metadata": {},
   "outputs": [
    {
     "name": "stdout",
     "output_type": "stream",
     "text": [
      "[[1 0]\n",
      " [0 1]\n",
      " [0 0]]\n"
     ]
    }
   ],
   "source": [
    "T_comp = np.matrix([[1,0,0],[0,1,0]]).transpose()\n",
    "print(T_comp)"
   ]
  },
  {
   "cell_type": "code",
   "execution_count": 57,
   "metadata": {},
   "outputs": [
    {
     "name": "stdout",
     "output_type": "stream",
     "text": [
      "[[0. 0. 1.]\n",
      " [1. 0. 0.]\n",
      " [0. 1. 0.]]\n"
     ]
    }
   ],
   "source": [
    "T=inv(np.block([Tno,T_comp]))\n",
    "print(T)"
   ]
  },
  {
   "cell_type": "markdown",
   "metadata": {},
   "source": [
    "$T$を用いて等価変換"
   ]
  },
  {
   "cell_type": "code",
   "execution_count": 58,
   "metadata": {},
   "outputs": [
    {
     "name": "stdout",
     "output_type": "stream",
     "text": [
      "[[-2.  1.  0.]\n",
      " [ 0.  0. -1.]\n",
      " [ 0.  1. -1.]]\n"
     ]
    }
   ],
   "source": [
    "Abar = T*A*inv(T)\n",
    "print(Abar)"
   ]
  },
  {
   "cell_type": "code",
   "execution_count": 59,
   "metadata": {
    "tags": []
   },
   "outputs": [
    {
     "name": "stdout",
     "output_type": "stream",
     "text": [
      "[[1.]\n",
      " [0.]\n",
      " [0.]]\n"
     ]
    }
   ],
   "source": [
    "Bbar=T*B\n",
    "print(Bbar)"
   ]
  },
  {
   "cell_type": "code",
   "execution_count": 60,
   "metadata": {},
   "outputs": [
    {
     "name": "stdout",
     "output_type": "stream",
     "text": [
      "[[0. 1. 0.]]\n"
     ]
    }
   ],
   "source": [
    "Cbar=C*inv(T)\n",
    "print(Cbar)"
   ]
  },
  {
   "cell_type": "markdown",
   "metadata": {},
   "source": [
    "### 【５】伝達関数への変換，等価変換"
   ]
  },
  {
   "cell_type": "markdown",
   "metadata": {},
   "source": [
    "#### (1) 状態方程式から伝達関数への変換"
   ]
  },
  {
   "cell_type": "code",
   "execution_count": 61,
   "metadata": {},
   "outputs": [],
   "source": [
    "A = np.array([[-2,1],[2,-3]])\n",
    "B = np.array([[0],[1]])\n",
    "C = np.array([1,1])\n",
    "D = np.array([0])\n",
    "sys = ss(A, B, C, D)"
   ]
  },
  {
   "cell_type": "code",
   "execution_count": 62,
   "metadata": {},
   "outputs": [
    {
     "data": {
      "text/latex": [
       "$$\\frac{s + 3}{s^2 + 5 s + 4}$$"
      ],
      "text/plain": [
       "TransferFunction(array([1., 3.]), array([1., 5., 4.]))"
      ]
     },
     "execution_count": 62,
     "metadata": {},
     "output_type": "execute_result"
    }
   ],
   "source": [
    "P=ss2tf(sys)\n",
    "P"
   ]
  },
  {
   "cell_type": "markdown",
   "metadata": {},
   "source": [
    "#### (2) 行列$T$による座標変換"
   ]
  },
  {
   "cell_type": "code",
   "execution_count": 63,
   "metadata": {},
   "outputs": [],
   "source": [
    "T=np.array([[1,0],[-2,1]])"
   ]
  },
  {
   "cell_type": "code",
   "execution_count": 64,
   "metadata": {},
   "outputs": [
    {
     "data": {
      "text/plain": [
       "array([[ 0.,  1.],\n",
       "       [-4., -5.]])"
      ]
     },
     "execution_count": 64,
     "metadata": {},
     "output_type": "execute_result"
    }
   ],
   "source": [
    "Abar=T@A@inv(T)\n",
    "Abar"
   ]
  },
  {
   "cell_type": "code",
   "execution_count": 65,
   "metadata": {},
   "outputs": [
    {
     "data": {
      "text/plain": [
       "array([[0],\n",
       "       [1]])"
      ]
     },
     "execution_count": 65,
     "metadata": {},
     "output_type": "execute_result"
    }
   ],
   "source": [
    "Bbar=T@B\n",
    "Bbar"
   ]
  },
  {
   "cell_type": "code",
   "execution_count": 66,
   "metadata": {},
   "outputs": [
    {
     "data": {
      "text/plain": [
       "array([3., 1.])"
      ]
     },
     "execution_count": 66,
     "metadata": {},
     "output_type": "execute_result"
    }
   ],
   "source": [
    "Cbar=C@inv(T)\n",
    "Cbar"
   ]
  },
  {
   "cell_type": "markdown",
   "metadata": {},
   "source": [
    "#### (3)変換後の伝達関数"
   ]
  },
  {
   "cell_type": "code",
   "execution_count": 67,
   "metadata": {},
   "outputs": [],
   "source": [
    "sys_bar = ss(Abar,Bbar,Cbar,D)"
   ]
  },
  {
   "cell_type": "code",
   "execution_count": 68,
   "metadata": {},
   "outputs": [
    {
     "data": {
      "text/latex": [
       "$$\\frac{s + 3}{s^2 + 5 s + 4}$$"
      ],
      "text/plain": [
       "TransferFunction(array([1., 3.]), array([1., 5., 4.]))"
      ]
     },
     "execution_count": 68,
     "metadata": {},
     "output_type": "execute_result"
    }
   ],
   "source": [
    "Pbar=ss2tf(sys_bar)\n",
    "Pbar"
   ]
  }
 ],
 "metadata": {
  "colab": {
   "name": "chap07.ipynb",
   "provenance": []
  },
  "kernelspec": {
   "display_name": "Python 3 (ipykernel)",
   "language": "python",
   "name": "python3"
  },
  "language_info": {
   "codemirror_mode": {
    "name": "ipython",
    "version": 3
   },
   "file_extension": ".py",
   "mimetype": "text/x-python",
   "name": "python",
   "nbconvert_exporter": "python",
   "pygments_lexer": "ipython3",
   "version": "3.8.5"
  }
 },
 "nbformat": 4,
 "nbformat_minor": 4
}
