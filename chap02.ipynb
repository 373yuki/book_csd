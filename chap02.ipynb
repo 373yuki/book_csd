{
 "cells": [
  {
   "cell_type": "markdown",
   "metadata": {
    "id": "Vo4mY-6N2yoA"
   },
   "source": [
    "# 2章 動的システムの表現"
   ]
  },
  {
   "cell_type": "code",
   "execution_count": 1,
   "metadata": {
    "id": "gJYRxJfd2yoC"
   },
   "outputs": [],
   "source": [
    "from control.matlab import *\n",
    "import matplotlib.pyplot as plt\n",
    "import numpy as np\n",
    "\n",
    "#plt.rcParams['font.family'] ='sans-serif' #使用するフォント\n",
    "plt.rcParams['font.family'] = 'Times New Roman' # font familyの設定\n",
    "plt.rcParams['mathtext.fontset'] = 'cm' # math fontの設定\n",
    "plt.rcParams['xtick.direction'] = 'in' #x軸の目盛線が内向き('in')か外向き('out')か双方向か('inout')\n",
    "plt.rcParams['ytick.direction'] = 'in' #y軸の目盛線が内向き('in')か外向き('out')か双方向か('inout')\n",
    "plt.rcParams['xtick.major.width'] = 1.0 #x軸主目盛り線の線幅\n",
    "plt.rcParams['ytick.major.width'] = 1.0 #y軸主目盛り線の線幅\n",
    "plt.rcParams['font.size'] = 11 #フォントの大きさ\n",
    "plt.rcParams['axes.linewidth'] = 0.5 # 軸の線幅edge linewidth。囲みの太さ\n",
    "plt.rcParams['mathtext.default'] = 'it'#'regular'\n",
    "plt.rcParams['axes.xmargin'] = '0'\n",
    "plt.rcParams['axes.ymargin'] = '0.05'\n",
    "plt.rcParams['savefig.facecolor'] = 'None'\n",
    "plt.rcParams['savefig.edgecolor'] = 'None'\n",
    "\n",
    "plt.rcParams[\"legend.fancybox\"] = True     # 丸角\n",
    "# plt.rcParams[\"legend.framealpha\"] = 1    # 透明度の指定、0で塗りつぶしなし\n",
    "# plt.rcParams[\"legend.edgecolor\"] = 'gray' # edgeの色を変更\n",
    "plt.rcParams[\"legend.handlelength\"] = 1.8  # 凡例の線の長さを調節\n",
    "plt.rcParams[\"legend.labelspacing\"] = 0.4  # 垂直方向（縦）の距離の各凡例の距離\n",
    "plt.rcParams[\"legend.handletextpad\"] = 0.7 # 凡例の線と文字の距離の長さ\n",
    "plt.rcParams[\"legend.markerscale\"] = 1.0   # 点がある場合のmarker scale"
   ]
  },
  {
   "cell_type": "code",
   "execution_count": 2,
   "metadata": {
    "id": "iOA70Kcj2yoE"
   },
   "outputs": [],
   "source": [
    "def linestyle_generator():\n",
    "    linestyle = ['-', '--', '-.', ':']\n",
    "    lineID = 0\n",
    "    while True:\n",
    "        yield linestyle[lineID]\n",
    "        lineID = (lineID + 1) % len(linestyle)"
   ]
  },
  {
   "cell_type": "code",
   "execution_count": 3,
   "metadata": {
    "id": "EEUYxua92yoE"
   },
   "outputs": [],
   "source": [
    "def plot_set(fig_ax, *args):\n",
    "    fig_ax.set_xlabel(args[0])\n",
    "    fig_ax.set_ylabel(args[1])\n",
    "    fig_ax.grid(ls=':', lw=0.5)\n",
    "    if len(args)==3:\n",
    "        fig_ax.legend(loc=args[2])"
   ]
  },
  {
   "cell_type": "code",
   "execution_count": 4,
   "metadata": {
    "id": "FomeQ5aF2yoE"
   },
   "outputs": [],
   "source": [
    "def bodeplot_set(fig_ax, *args):\n",
    "    fig_ax[0].grid(which=\"both\", ls=':', lw=0.5)\n",
    "    fig_ax[0].set_ylabel('Gain [dB]')\n",
    "\n",
    "    fig_ax[1].grid(which=\"both\", ls=':', lw=0.5)\n",
    "    fig_ax[1].set_xlabel('$\\omega$ [rad/s]')\n",
    "    fig_ax[1].set_ylabel('Phase [deg]')\n",
    "    \n",
    "    if len(args) > 0:\n",
    "        fig_ax[1].legend(loc=args[0])\n",
    "    if len(args) > 1:\n",
    "        fig_ax[0].legend(loc=args[1])"
   ]
  },
  {
   "cell_type": "code",
   "execution_count": 5,
   "metadata": {},
   "outputs": [],
   "source": [
    "# 図の保存パス\n",
    "figpath=\"./notebook_output/\""
   ]
  },
  {
   "cell_type": "code",
   "execution_count": 6,
   "metadata": {},
   "outputs": [],
   "source": [
    "# 数式処理のためにsympyをインポート\n",
    "import sympy as sp\n",
    "from sympy.matrices import *"
   ]
  },
  {
   "cell_type": "markdown",
   "metadata": {},
   "source": [
    "### 2.3.3 状態空間表現と伝達関数表現の相互変換"
   ]
  },
  {
   "cell_type": "markdown",
   "metadata": {},
   "source": [
    "#### 例その１ ($m<n$の場合)"
   ]
  },
  {
   "cell_type": "code",
   "execution_count": 7,
   "metadata": {},
   "outputs": [],
   "source": [
    "# 分母多項式・分子多項式の係数をそれぞれ定義\n",
    "a0=6; a1=5; a2=4; a3=3; a4=2\n",
    "b0=10; b1=20"
   ]
  },
  {
   "cell_type": "markdown",
   "metadata": {},
   "source": [
    "式(2.15)〜(2.20)に従って変換する"
   ]
  },
  {
   "cell_type": "code",
   "execution_count": 8,
   "metadata": {},
   "outputs": [],
   "source": [
    "A = np.matrix([[0,1,0,0,0],\n",
    "              [0,0,1,0,0],\n",
    "              [0,0,0,1,0],\n",
    "              [0,0,0,0,1],\n",
    "              [-a0,-a1,-a2,-a3,-a4]])\n",
    "B = np.matrix([[0],[0],[0],[0],[1]])\n",
    "C = np.matrix([[b0,b1,0,0,0]])\n",
    "D = np.matrix([0])"
   ]
  },
  {
   "cell_type": "markdown",
   "metadata": {},
   "source": [
    "検算してみよう．"
   ]
  },
  {
   "cell_type": "code",
   "execution_count": 9,
   "metadata": {},
   "outputs": [],
   "source": [
    "sp.init_printing(pretty_print=True)\n",
    "s = sp.symbols('s')"
   ]
  },
  {
   "cell_type": "code",
   "execution_count": 10,
   "metadata": {},
   "outputs": [],
   "source": [
    "#A, B, Cをsympy行列に変換\n",
    "Asym=sp.Matrix(A)\n",
    "Bsym=sp.Matrix(B)\n",
    "Csym=sp.Matrix(C)"
   ]
  },
  {
   "cell_type": "code",
   "execution_count": 11,
   "metadata": {},
   "outputs": [],
   "source": [
    "# 単位行列（あえてintで）\n",
    "I=np.eye(5).astype(np.int32) \n",
    "Isym=sp.Matrix(I)"
   ]
  },
  {
   "cell_type": "code",
   "execution_count": 12,
   "metadata": {},
   "outputs": [
    {
     "data": {
      "image/png": "[encoded data removed]",
      "text/latex": [
       "$\\displaystyle \\left( \\left[\\begin{matrix}0 & 1 & 0 & 0 & 0\\\\0 & 0 & 1 & 0 & 0\\\\0 & 0 & 0 & 1 & 0\\\\0 & 0 & 0 & 0 & 1\\\\-6 & -5 & -4 & -3 & -2\\end{matrix}\\right], \\  \\left[\\begin{matrix}0\\\\0\\\\0\\\\0\\\\1\\end{matrix}\\right], \\  \\left[\\begin{matrix}10 & 20 & 0 & 0 & 0\\end{matrix}\\right], \\  \\left[\\begin{matrix}1 & 0 & 0 & 0 & 0\\\\0 & 1 & 0 & 0 & 0\\\\0 & 0 & 1 & 0 & 0\\\\0 & 0 & 0 & 1 & 0\\\\0 & 0 & 0 & 0 & 1\\end{matrix}\\right]\\right)$"
      ],
      "text/plain": [
       "⎛⎡0   1   0   0   0 ⎤  ⎡0⎤                     ⎡1  0  0  0  0⎤⎞\n",
       "⎜⎢                  ⎥  ⎢ ⎥                     ⎢             ⎥⎟\n",
       "⎜⎢0   0   1   0   0 ⎥  ⎢0⎥                     ⎢0  1  0  0  0⎥⎟\n",
       "⎜⎢                  ⎥  ⎢ ⎥                     ⎢             ⎥⎟\n",
       "⎜⎢0   0   0   1   0 ⎥, ⎢0⎥, [10  20  0  0  0], ⎢0  0  1  0  0⎥⎟\n",
       "⎜⎢                  ⎥  ⎢ ⎥                     ⎢             ⎥⎟\n",
       "⎜⎢0   0   0   0   1 ⎥  ⎢0⎥                     ⎢0  0  0  1  0⎥⎟\n",
       "⎜⎢                  ⎥  ⎢ ⎥                     ⎢             ⎥⎟\n",
       "⎝⎣-6  -5  -4  -3  -2⎦  ⎣1⎦                     ⎣0  0  0  0  1⎦⎠"
      ]
     },
     "execution_count": 12,
     "metadata": {},
     "output_type": "execute_result"
    }
   ],
   "source": [
    "Asym,Bsym,Csym,Isym"
   ]
  },
  {
   "cell_type": "code",
   "execution_count": 13,
   "metadata": {},
   "outputs": [
    {
     "data": {
      "image/png": "[encoded data removed]",
      "text/latex": [
       "$\\displaystyle \\left[\\begin{matrix}\\frac{s^{4} + 2 s^{3} + 3 s^{2} + 4 s + 5}{s^{5} + 2 s^{4} + 3 s^{3} + 4 s^{2} + 5 s + 6} & \\frac{s^{3} + 2 s^{2} + 3 s + 4}{s^{5} + 2 s^{4} + 3 s^{3} + 4 s^{2} + 5 s + 6} & \\frac{s^{2} + 2 s + 3}{s^{5} + 2 s^{4} + 3 s^{3} + 4 s^{2} + 5 s + 6} & \\frac{s + 2}{s^{5} + 2 s^{4} + 3 s^{3} + 4 s^{2} + 5 s + 6} & \\frac{1}{s^{5} + 2 s^{4} + 3 s^{3} + 4 s^{2} + 5 s + 6}\\\\- \\frac{6}{s^{5} + 2 s^{4} + 3 s^{3} + 4 s^{2} + 5 s + 6} & \\frac{s^{4} + 2 s^{3} + 3 s^{2} + 4 s}{s^{5} + 2 s^{4} + 3 s^{3} + 4 s^{2} + 5 s + 6} & \\frac{s^{3} + 2 s^{2} + 3 s}{s^{5} + 2 s^{4} + 3 s^{3} + 4 s^{2} + 5 s + 6} & \\frac{s^{2} + 2 s}{s^{5} + 2 s^{4} + 3 s^{3} + 4 s^{2} + 5 s + 6} & \\frac{s}{s^{5} + 2 s^{4} + 3 s^{3} + 4 s^{2} + 5 s + 6}\\\\- \\frac{6 s}{s^{5} + 2 s^{4} + 3 s^{3} + 4 s^{2} + 5 s + 6} & \\frac{- 5 s - 6}{s^{5} + 2 s^{4} + 3 s^{3} + 4 s^{2} + 5 s + 6} & \\frac{s^{4} + 2 s^{3} + 3 s^{2}}{s^{5} + 2 s^{4} + 3 s^{3} + 4 s^{2} + 5 s + 6} & \\frac{s^{3} + 2 s^{2}}{s^{5} + 2 s^{4} + 3 s^{3} + 4 s^{2} + 5 s + 6} & \\frac{s^{2}}{s^{5} + 2 s^{4} + 3 s^{3} + 4 s^{2} + 5 s + 6}\\\\- \\frac{6 s^{2}}{s^{5} + 2 s^{4} + 3 s^{3} + 4 s^{2} + 5 s + 6} & \\frac{- 5 s^{2} - 6 s}{s^{5} + 2 s^{4} + 3 s^{3} + 4 s^{2} + 5 s + 6} & \\frac{- 4 s^{2} - 5 s - 6}{s^{5} + 2 s^{4} + 3 s^{3} + 4 s^{2} + 5 s + 6} & \\frac{s^{4} + 2 s^{3}}{s^{5} + 2 s^{4} + 3 s^{3} + 4 s^{2} + 5 s + 6} & \\frac{s^{3}}{s^{5} + 2 s^{4} + 3 s^{3} + 4 s^{2} + 5 s + 6}\\\\- \\frac{6 s^{3}}{s^{5} + 2 s^{4} + 3 s^{3} + 4 s^{2} + 5 s + 6} & \\frac{- 5 s^{3} - 6 s^{2}}{s^{5} + 2 s^{4} + 3 s^{3} + 4 s^{2} + 5 s + 6} & \\frac{- 4 s^{3} - 5 s^{2} - 6 s}{s^{5} + 2 s^{4} + 3 s^{3} + 4 s^{2} + 5 s + 6} & \\frac{- 3 s^{3} - 4 s^{2} - 5 s - 6}{s^{5} + 2 s^{4} + 3 s^{3} + 4 s^{2} + 5 s + 6} & \\frac{s^{4}}{s^{5} + 2 s^{4} + 3 s^{3} + 4 s^{2} + 5 s + 6}\\end{matrix}\\right]$"
      ],
      "text/plain": [
       "⎡     4      3      2                       3      2                               2                                                                                          ⎤\n",
       "⎢    s  + 2⋅s  + 3⋅s  + 4⋅s + 5            s  + 2⋅s  + 3⋅s + 4                    s  + 2⋅s + 3                          s + 2                                1                ⎥\n",
       "⎢─────────────────────────────────  ─────────────────────────────────  ─────────────────────────────────  ─────────────────────────────────  ─────────────────────────────────⎥\n",
       "⎢ 5      4      3      2             5      4      3      2             5      4      3      2             5      4      3      2             5      4      3      2          ⎥\n",
       "⎢s  + 2⋅s  + 3⋅s  + 4⋅s  + 5⋅s + 6  s  + 2⋅s  + 3⋅s  + 4⋅s  + 5⋅s + 6  s  + 2⋅s  + 3⋅s  + 4⋅s  + 5⋅s + 6  s  + 2⋅s  + 3⋅s  + 4⋅s  + 5⋅s + 6  s  + 2⋅s  + 3⋅s  + 4⋅s  + 5⋅s + 6⎥\n",
       "⎢                                                                                                                                                                             ⎥\n",
       "⎢                                          4      3      2                       3      2                               2                                                     ⎥\n",
       "⎢               -6                        s  + 2⋅s  + 3⋅s  + 4⋅s                s  + 2⋅s  + 3⋅s                        s  + 2⋅s                              s                ⎥\n",
       "⎢─────────────────────────────────  ─────────────────────────────────  ─────────────────────────────────  ─────────────────────────────────  ─────────────────────────────────⎥\n",
       "⎢ 5      4      3      2             5      4      3      2             5      4      3      2             5      4      3      2             5      4      3      2          ⎥\n",
       "⎢s  + 2⋅s  + 3⋅s  + 4⋅s  + 5⋅s + 6  s  + 2⋅s  + 3⋅s  + 4⋅s  + 5⋅s + 6  s  + 2⋅s  + 3⋅s  + 4⋅s  + 5⋅s + 6  s  + 2⋅s  + 3⋅s  + 4⋅s  + 5⋅s + 6  s  + 2⋅s  + 3⋅s  + 4⋅s  + 5⋅s + 6⎥\n",
       "⎢                                                                                                                                                                             ⎥\n",
       "⎢                                                                                4      3      2                       3      2                               2               ⎥\n",
       "⎢              -6⋅s                              -5⋅s - 6                       s  + 2⋅s  + 3⋅s                       s  + 2⋅s                               s                ⎥\n",
       "⎢─────────────────────────────────  ─────────────────────────────────  ─────────────────────────────────  ─────────────────────────────────  ─────────────────────────────────⎥\n",
       "⎢ 5      4      3      2             5      4      3      2             5      4      3      2             5      4      3      2             5      4      3      2          ⎥\n",
       "⎢s  + 2⋅s  + 3⋅s  + 4⋅s  + 5⋅s + 6  s  + 2⋅s  + 3⋅s  + 4⋅s  + 5⋅s + 6  s  + 2⋅s  + 3⋅s  + 4⋅s  + 5⋅s + 6  s  + 2⋅s  + 3⋅s  + 4⋅s  + 5⋅s + 6  s  + 2⋅s  + 3⋅s  + 4⋅s  + 5⋅s + 6⎥\n",
       "⎢                                                                                                                                                                             ⎥\n",
       "⎢                  2                                2                                2                                 4      3                               3               ⎥\n",
       "⎢              -6⋅s                            - 5⋅s  - 6⋅s                     - 4⋅s  - 5⋅s - 6                      s  + 2⋅s                               s                ⎥\n",
       "⎢─────────────────────────────────  ─────────────────────────────────  ─────────────────────────────────  ─────────────────────────────────  ─────────────────────────────────⎥\n",
       "⎢ 5      4      3      2             5      4      3      2             5      4      3      2             5      4      3      2             5      4      3      2          ⎥\n",
       "⎢s  + 2⋅s  + 3⋅s  + 4⋅s  + 5⋅s + 6  s  + 2⋅s  + 3⋅s  + 4⋅s  + 5⋅s + 6  s  + 2⋅s  + 3⋅s  + 4⋅s  + 5⋅s + 6  s  + 2⋅s  + 3⋅s  + 4⋅s  + 5⋅s + 6  s  + 2⋅s  + 3⋅s  + 4⋅s  + 5⋅s + 6⎥\n",
       "⎢                                                                                                                                                                             ⎥\n",
       "⎢                  3                               3      2                        3      2                         3      2                                  4               ⎥\n",
       "⎢              -6⋅s                           - 5⋅s  - 6⋅s                    - 4⋅s  - 5⋅s  - 6⋅s              - 3⋅s  - 4⋅s  - 5⋅s - 6                       s                ⎥\n",
       "⎢─────────────────────────────────  ─────────────────────────────────  ─────────────────────────────────  ─────────────────────────────────  ─────────────────────────────────⎥\n",
       "⎢ 5      4      3      2             5      4      3      2             5      4      3      2             5      4      3      2             5      4      3      2          ⎥\n",
       "⎣s  + 2⋅s  + 3⋅s  + 4⋅s  + 5⋅s + 6  s  + 2⋅s  + 3⋅s  + 4⋅s  + 5⋅s + 6  s  + 2⋅s  + 3⋅s  + 4⋅s  + 5⋅s + 6  s  + 2⋅s  + 3⋅s  + 4⋅s  + 5⋅s + 6  s  + 2⋅s  + 3⋅s  + 4⋅s  + 5⋅s + 6⎦"
      ]
     },
     "execution_count": 13,
     "metadata": {},
     "output_type": "execute_result"
    }
   ],
   "source": [
    "#Aのリゾルベント\n",
    "resolvA = (s*Isym-Asym).inv()\n",
    "resolvA"
   ]
  },
  {
   "cell_type": "code",
   "execution_count": 14,
   "metadata": {},
   "outputs": [
    {
     "data": {
      "image/png": "[encoded data removed]",
      "text/latex": [
       "$\\displaystyle \\operatorname{PurePoly}{\\left( s^{5} + 2 s^{4} + 3 s^{3} + 4 s^{2} + 5 s + 6, s, domain=\\mathbb{Z} \\right)}$"
      ],
      "text/plain": [
       "PurePoly(s**5 + 2*s**4 + 3*s**3 + 4*s**2 + 5*s + 6, s, domain='ZZ')"
      ]
     },
     "execution_count": 14,
     "metadata": {},
     "output_type": "execute_result"
    }
   ],
   "source": [
    "#resolvAの共通分母はAの特性多項式にほかならない\n",
    "Asym.charpoly(s)"
   ]
  },
  {
   "cell_type": "markdown",
   "metadata": {},
   "source": [
    "状態方程式から伝達関数への再変換"
   ]
  },
  {
   "cell_type": "code",
   "execution_count": 15,
   "metadata": {},
   "outputs": [
    {
     "data": {
      "image/png": "[encoded data removed]",
      "text/latex": [
       "$\\displaystyle \\frac{10 \\left(2 s + 1\\right)}{s^{5} + 2 s^{4} + 3 s^{3} + 4 s^{2} + 5 s + 6}$"
      ],
      "text/plain": [
       "           10⋅(2⋅s + 1)          \n",
       "─────────────────────────────────\n",
       " 5      4      3      2          \n",
       "s  + 2⋅s  + 3⋅s  + 4⋅s  + 5⋅s + 6"
      ]
     },
     "execution_count": 15,
     "metadata": {},
     "output_type": "execute_result"
    }
   ],
   "source": [
    "Gsym = (C*resolvA*B)[0]\n",
    "Gsym = sp.simplify(Gsym)\n",
    "Gsym"
   ]
  },
  {
   "cell_type": "markdown",
   "metadata": {},
   "source": [
    "#### 例その２($m=n$の場合）"
   ]
  },
  {
   "cell_type": "code",
   "execution_count": 16,
   "metadata": {},
   "outputs": [],
   "source": [
    "a0=5; a1=4; a2=3; a3=2\n",
    "b0=10; b1=20; b2=30; b3=40; b4=50"
   ]
  },
  {
   "cell_type": "code",
   "execution_count": 17,
   "metadata": {},
   "outputs": [],
   "source": [
    "num=[b4,b3,b2,b1,b0]\n",
    "den=[1,a3,a2,a1,a0]\n",
    "G=tf(num,den)"
   ]
  },
  {
   "cell_type": "code",
   "execution_count": 18,
   "metadata": {},
   "outputs": [
    {
     "data": {
      "text/latex": [
       "$$\\frac{50 s^4 + 40 s^3 + 30 s^2 + 20 s + 10}{s^4 + 2 s^3 + 3 s^2 + 4 s + 5}$$"
      ],
      "text/plain": [
       "TransferFunction(array([50, 40, 30, 20, 10]), array([1, 2, 3, 4, 5]))"
      ]
     },
     "execution_count": 18,
     "metadata": {},
     "output_type": "execute_result"
    }
   ],
   "source": [
    "G"
   ]
  },
  {
   "cell_type": "markdown",
   "metadata": {},
   "source": [
    "式(2.15)〜(2.20)に従って変換する"
   ]
  },
  {
   "cell_type": "code",
   "execution_count": 19,
   "metadata": {},
   "outputs": [],
   "source": [
    "A = np.matrix([[0,1,0,0],\n",
    "              [0,0,1,0],\n",
    "              [0,0,0,1],\n",
    "              [-a0,-a1,-a2,-a3]])\n",
    "B = np.matrix([[0],[0],[0],[1]])\n",
    "C = np.matrix([[b0-b4*a0, b1-b4*a1, b2-b4*a2, b3-b4*a3]])\n",
    "D = np.matrix([b4])"
   ]
  },
  {
   "cell_type": "markdown",
   "metadata": {},
   "source": [
    "検算してみよう．"
   ]
  },
  {
   "cell_type": "code",
   "execution_count": 20,
   "metadata": {},
   "outputs": [],
   "source": [
    "Asym=sp.Matrix(A)\n",
    "Bsym=sp.Matrix(B)\n",
    "Csym=sp.Matrix(C)\n",
    "Dsym=sp.Matrix(D)"
   ]
  },
  {
   "cell_type": "code",
   "execution_count": 21,
   "metadata": {},
   "outputs": [],
   "source": [
    "I=np.eye(4).astype(np.int32) \n",
    "Isym=sp.Matrix(I)"
   ]
  },
  {
   "cell_type": "code",
   "execution_count": 22,
   "metadata": {},
   "outputs": [
    {
     "data": {
      "image/png": "[encoded data removed]",
      "text/latex": [
       "$\\displaystyle \\left( \\left[\\begin{matrix}0 & 1 & 0 & 0\\\\0 & 0 & 1 & 0\\\\0 & 0 & 0 & 1\\\\-5 & -4 & -3 & -2\\end{matrix}\\right], \\  \\left[\\begin{matrix}0\\\\0\\\\0\\\\1\\end{matrix}\\right], \\  \\left[\\begin{matrix}-240 & -180 & -120 & -60\\end{matrix}\\right], \\  \\left[\\begin{matrix}50\\end{matrix}\\right], \\  \\left[\\begin{matrix}1 & 0 & 0 & 0\\\\0 & 1 & 0 & 0\\\\0 & 0 & 1 & 0\\\\0 & 0 & 0 & 1\\end{matrix}\\right]\\right)$"
      ],
      "text/plain": [
       "⎛⎡0   1   0   0 ⎤  ⎡0⎤                                 ⎡1  0  0  0⎤⎞\n",
       "⎜⎢              ⎥  ⎢ ⎥                                 ⎢          ⎥⎟\n",
       "⎜⎢0   0   1   0 ⎥  ⎢0⎥                                 ⎢0  1  0  0⎥⎟\n",
       "⎜⎢              ⎥, ⎢ ⎥, [-240  -180  -120  -60], [50], ⎢          ⎥⎟\n",
       "⎜⎢0   0   0   1 ⎥  ⎢0⎥                                 ⎢0  0  1  0⎥⎟\n",
       "⎜⎢              ⎥  ⎢ ⎥                                 ⎢          ⎥⎟\n",
       "⎝⎣-5  -4  -3  -2⎦  ⎣1⎦                                 ⎣0  0  0  1⎦⎠"
      ]
     },
     "execution_count": 22,
     "metadata": {},
     "output_type": "execute_result"
    }
   ],
   "source": [
    "Asym,Bsym,Csym,Dsym,Isym"
   ]
  },
  {
   "cell_type": "code",
   "execution_count": 23,
   "metadata": {},
   "outputs": [
    {
     "data": {
      "image/png": "[encoded data removed]",
      "text/latex": [
       "$\\displaystyle \\left[\\begin{matrix}\\frac{s^{3} + 2 s^{2} + 3 s + 4}{s^{4} + 2 s^{3} + 3 s^{2} + 4 s + 5} & \\frac{s^{2} + 2 s + 3}{s^{4} + 2 s^{3} + 3 s^{2} + 4 s + 5} & \\frac{s + 2}{s^{4} + 2 s^{3} + 3 s^{2} + 4 s + 5} & \\frac{1}{s^{4} + 2 s^{3} + 3 s^{2} + 4 s + 5}\\\\- \\frac{5}{s^{4} + 2 s^{3} + 3 s^{2} + 4 s + 5} & \\frac{s^{3} + 2 s^{2} + 3 s}{s^{4} + 2 s^{3} + 3 s^{2} + 4 s + 5} & \\frac{s^{2} + 2 s}{s^{4} + 2 s^{3} + 3 s^{2} + 4 s + 5} & \\frac{s}{s^{4} + 2 s^{3} + 3 s^{2} + 4 s + 5}\\\\- \\frac{5 s}{s^{4} + 2 s^{3} + 3 s^{2} + 4 s + 5} & \\frac{- 4 s - 5}{s^{4} + 2 s^{3} + 3 s^{2} + 4 s + 5} & \\frac{s^{3} + 2 s^{2}}{s^{4} + 2 s^{3} + 3 s^{2} + 4 s + 5} & \\frac{s^{2}}{s^{4} + 2 s^{3} + 3 s^{2} + 4 s + 5}\\\\- \\frac{5 s^{2}}{s^{4} + 2 s^{3} + 3 s^{2} + 4 s + 5} & \\frac{- 4 s^{2} - 5 s}{s^{4} + 2 s^{3} + 3 s^{2} + 4 s + 5} & \\frac{- 3 s^{2} - 4 s - 5}{s^{4} + 2 s^{3} + 3 s^{2} + 4 s + 5} & \\frac{s^{3}}{s^{4} + 2 s^{3} + 3 s^{2} + 4 s + 5}\\end{matrix}\\right]$"
      ],
      "text/plain": [
       "⎡    3      2                        2                                                                         ⎤\n",
       "⎢   s  + 2⋅s  + 3⋅s + 4             s  + 2⋅s + 3                   s + 2                         1             ⎥\n",
       "⎢──────────────────────────  ──────────────────────────  ──────────────────────────  ──────────────────────────⎥\n",
       "⎢ 4      3      2             4      3      2             4      3      2             4      3      2          ⎥\n",
       "⎢s  + 2⋅s  + 3⋅s  + 4⋅s + 5  s  + 2⋅s  + 3⋅s  + 4⋅s + 5  s  + 2⋅s  + 3⋅s  + 4⋅s + 5  s  + 2⋅s  + 3⋅s  + 4⋅s + 5⎥\n",
       "⎢                                                                                                              ⎥\n",
       "⎢                                  3      2                        2                                           ⎥\n",
       "⎢           -5                    s  + 2⋅s  + 3⋅s                 s  + 2⋅s                       s             ⎥\n",
       "⎢──────────────────────────  ──────────────────────────  ──────────────────────────  ──────────────────────────⎥\n",
       "⎢ 4      3      2             4      3      2             4      3      2             4      3      2          ⎥\n",
       "⎢s  + 2⋅s  + 3⋅s  + 4⋅s + 5  s  + 2⋅s  + 3⋅s  + 4⋅s + 5  s  + 2⋅s  + 3⋅s  + 4⋅s + 5  s  + 2⋅s  + 3⋅s  + 4⋅s + 5⎥\n",
       "⎢                                                                                                              ⎥\n",
       "⎢                                                                 3      2                        2            ⎥\n",
       "⎢          -5⋅s                       -4⋅s - 5                   s  + 2⋅s                        s             ⎥\n",
       "⎢──────────────────────────  ──────────────────────────  ──────────────────────────  ──────────────────────────⎥\n",
       "⎢ 4      3      2             4      3      2             4      3      2             4      3      2          ⎥\n",
       "⎢s  + 2⋅s  + 3⋅s  + 4⋅s + 5  s  + 2⋅s  + 3⋅s  + 4⋅s + 5  s  + 2⋅s  + 3⋅s  + 4⋅s + 5  s  + 2⋅s  + 3⋅s  + 4⋅s + 5⎥\n",
       "⎢                                                                                                              ⎥\n",
       "⎢              2                         2                         2                              3            ⎥\n",
       "⎢          -5⋅s                     - 4⋅s  - 5⋅s              - 3⋅s  - 4⋅s - 5                   s             ⎥\n",
       "⎢──────────────────────────  ──────────────────────────  ──────────────────────────  ──────────────────────────⎥\n",
       "⎢ 4      3      2             4      3      2             4      3      2             4      3      2          ⎥\n",
       "⎣s  + 2⋅s  + 3⋅s  + 4⋅s + 5  s  + 2⋅s  + 3⋅s  + 4⋅s + 5  s  + 2⋅s  + 3⋅s  + 4⋅s + 5  s  + 2⋅s  + 3⋅s  + 4⋅s + 5⎦"
      ]
     },
     "execution_count": 23,
     "metadata": {},
     "output_type": "execute_result"
    }
   ],
   "source": [
    "#Aのリゾルベント\n",
    "resolvA = (s*I-Asym).inv()\n",
    "resolvA"
   ]
  },
  {
   "cell_type": "markdown",
   "metadata": {},
   "source": [
    "状態方程式から伝達関数への再変換"
   ]
  },
  {
   "cell_type": "code",
   "execution_count": 24,
   "metadata": {},
   "outputs": [
    {
     "data": {
      "image/png": "[encoded data removed]",
      "text/latex": [
       "$\\displaystyle \\frac{10 \\left(5 s^{4} + 4 s^{3} + 3 s^{2} + 2 s + 1\\right)}{s^{4} + 2 s^{3} + 3 s^{2} + 4 s + 5}$"
      ],
      "text/plain": [
       "   ⎛   4      3      2          ⎞\n",
       "10⋅⎝5⋅s  + 4⋅s  + 3⋅s  + 2⋅s + 1⎠\n",
       "─────────────────────────────────\n",
       "     4      3      2             \n",
       "    s  + 2⋅s  + 3⋅s  + 4⋅s + 5   "
      ]
     },
     "execution_count": 24,
     "metadata": {},
     "output_type": "execute_result"
    }
   ],
   "source": [
    "Gsym = (C*resolvA*B+D)[0]\n",
    "Gsym = sp.factor(Gsym)\n",
    "Gsym"
   ]
  },
  {
   "cell_type": "markdown",
   "metadata": {
    "id": "UlbWdpks2yoM"
   },
   "source": [
    "## 章末問題"
   ]
  },
  {
   "cell_type": "markdown",
   "metadata": {},
   "source": [
    "### 【１】 常微分方程式の解をLaplace変換を用いて求める．\n"
   ]
  },
  {
   "cell_type": "code",
   "execution_count": 25,
   "metadata": {},
   "outputs": [],
   "source": [
    "t = sp.symbols('t')"
   ]
  },
  {
   "cell_type": "markdown",
   "metadata": {},
   "source": [
    "(1)の解答"
   ]
  },
  {
   "cell_type": "code",
   "execution_count": 26,
   "metadata": {},
   "outputs": [],
   "source": [
    "Y=(s+4)/(s**2 + 4*s + 3)"
   ]
  },
  {
   "cell_type": "markdown",
   "metadata": {},
   "source": [
    "逆ラプラス変換して$y(t)$を得る．（$\\theta(t)$は単位ステップ関数.1に読み替えればOK）"
   ]
  },
  {
   "cell_type": "code",
   "execution_count": 27,
   "metadata": {},
   "outputs": [
    {
     "data": {
      "image/png": "[encoded data removed]",
      "text/latex": [
       "$\\displaystyle \\frac{3 e^{- t} \\theta\\left(t\\right)}{2} - \\frac{e^{- 3 t} \\theta\\left(t\\right)}{2}$"
      ],
      "text/plain": [
       "   -t         -3⋅t     \n",
       "3⋅ℯ  ⋅θ(t)   ℯ    ⋅θ(t)\n",
       "────────── - ──────────\n",
       "    2            2     "
      ]
     },
     "execution_count": 27,
     "metadata": {},
     "output_type": "execute_result"
    }
   ],
   "source": [
    "y=sp.inverse_laplace_transform(Y, s, t)\n",
    "sp.expand(y)"
   ]
  },
  {
   "cell_type": "markdown",
   "metadata": {},
   "source": [
    "(2)の解答"
   ]
  },
  {
   "cell_type": "code",
   "execution_count": 28,
   "metadata": {},
   "outputs": [
    {
     "data": {
      "image/png": "[encoded data removed]",
      "text/latex": [
       "$\\displaystyle \\frac{s + 2}{\\left(s + 1\\right)^{2}}$"
      ],
      "text/plain": [
       " s + 2  \n",
       "────────\n",
       "       2\n",
       "(s + 1) "
      ]
     },
     "execution_count": 28,
     "metadata": {},
     "output_type": "execute_result"
    }
   ],
   "source": [
    "Y=(s+2)/((s+1)**2)\n",
    "Y"
   ]
  },
  {
   "cell_type": "code",
   "execution_count": 29,
   "metadata": {},
   "outputs": [
    {
     "data": {
      "image/png": "[encoded data removed]",
      "text/latex": [
       "$\\displaystyle t e^{- t} \\theta\\left(t\\right) + e^{- t} \\theta\\left(t\\right)$"
      ],
      "text/plain": [
       "   -t         -t     \n",
       "t⋅ℯ  ⋅θ(t) + ℯ  ⋅θ(t)"
      ]
     },
     "execution_count": 29,
     "metadata": {},
     "output_type": "execute_result"
    }
   ],
   "source": [
    "y=sp.inverse_laplace_transform(Y, s, t)\n",
    "sp.expand(y)"
   ]
  }
 ],
 "metadata": {
  "colab": {
   "name": "chap07.ipynb",
   "provenance": []
  },
  "kernelspec": {
   "display_name": "Python 3 (ipykernel)",
   "language": "python",
   "name": "python3"
  },
  "language_info": {
   "codemirror_mode": {
    "name": "ipython",
    "version": 3
   },
   "file_extension": ".py",
   "mimetype": "text/x-python",
   "name": "python",
   "nbconvert_exporter": "python",
   "pygments_lexer": "ipython3",
   "version": "3.8.5"
  }
 },
 "nbformat": 4,
 "nbformat_minor": 4
}
