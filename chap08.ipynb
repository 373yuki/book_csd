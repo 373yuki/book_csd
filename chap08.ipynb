{
 "cells": [
  {
   "cell_type": "markdown",
   "metadata": {},
   "source": [
    "# 8章 状態フィードバック制御"
   ]
  },
  {
   "cell_type": "code",
   "execution_count": 2,
   "metadata": {},
   "outputs": [],
   "source": [
    "from control.matlab import *\n",
    "import matplotlib.pyplot as plt\n",
    "import numpy as np\n",
    "\n",
    "#plt.rcParams['font.family'] ='sans-serif' #使用するフォント\n",
    "plt.rcParams['font.family'] = 'Times New Roman' # font familyの設定\n",
    "plt.rcParams['mathtext.fontset'] = 'cm' # math fontの設定\n",
    "plt.rcParams['xtick.direction'] = 'in' #x軸の目盛線が内向き('in')か外向き('out')か双方向か('inout')\n",
    "plt.rcParams['ytick.direction'] = 'in' #y軸の目盛線が内向き('in')か外向き('out')か双方向か('inout')\n",
    "plt.rcParams['xtick.major.width'] = 1.0 #x軸主目盛り線の線幅\n",
    "plt.rcParams['ytick.major.width'] = 1.0 #y軸主目盛り線の線幅\n",
    "plt.rcParams['font.size'] = 11 #フォントの大きさ\n",
    "plt.rcParams['axes.linewidth'] = 0.5 # 軸の線幅edge linewidth。囲みの太さ\n",
    "plt.rcParams['mathtext.default'] = 'it'#'regular'\n",
    "plt.rcParams['axes.xmargin'] = '0'\n",
    "plt.rcParams['axes.ymargin'] = '0.05'\n",
    "plt.rcParams['savefig.facecolor'] = 'None'\n",
    "plt.rcParams['savefig.edgecolor'] = 'None'\n",
    "\n",
    "plt.rcParams[\"legend.fancybox\"] = True     # 丸角\n",
    "# plt.rcParams[\"legend.framealpha\"] = 1    # 透明度の指定、0で塗りつぶしなし\n",
    "# plt.rcParams[\"legend.edgecolor\"] = 'gray' # edgeの色を変更\n",
    "plt.rcParams[\"legend.handlelength\"] = 1.8  # 凡例の線の長さを調節\n",
    "plt.rcParams[\"legend.labelspacing\"] = 0.4  # 垂直方向（縦）の距離の各凡例の距離\n",
    "plt.rcParams[\"legend.handletextpad\"] = 0.7 # 凡例の線と文字の距離の長さ\n",
    "plt.rcParams[\"legend.markerscale\"] = 1.0   # 点がある場合のmarker scale"
   ]
  },
  {
   "cell_type": "code",
   "execution_count": 3,
   "metadata": {},
   "outputs": [],
   "source": [
    "def linestyle_generator():\n",
    "    linestyle = ['-', '--', '-.', ':']\n",
    "    lineID = 0\n",
    "    while True:\n",
    "        yield linestyle[lineID]\n",
    "        lineID = (lineID + 1) % len(linestyle)"
   ]
  },
  {
   "cell_type": "code",
   "execution_count": 4,
   "metadata": {},
   "outputs": [],
   "source": [
    "def plot_set(fig_ax, *args):\n",
    "    fig_ax.set_xlabel(args[0])\n",
    "    fig_ax.set_ylabel(args[1])\n",
    "    fig_ax.grid(ls=':', lw=0.5)\n",
    "    if len(args)==3:\n",
    "        fig_ax.legend(loc=args[2])"
   ]
  },
  {
   "cell_type": "code",
   "execution_count": 5,
   "metadata": {},
   "outputs": [],
   "source": [
    "def bodeplot_set(fig_ax, *args):\n",
    "    fig_ax[0].grid(which=\"both\", ls=':', lw=0.5)\n",
    "    fig_ax[0].set_ylabel('Gain [dB]')\n",
    "\n",
    "    fig_ax[1].grid(which=\"both\", ls=':', lw=0.5)\n",
    "    fig_ax[1].set_xlabel('$\\omega$ [rad/s]')\n",
    "    fig_ax[1].set_ylabel('Phase [deg]')\n",
    "    \n",
    "    if len(args) > 0:\n",
    "        fig_ax[1].legend(loc=args[0])\n",
    "    if len(args) > 1:\n",
    "        fig_ax[0].legend(loc=args[1])"
   ]
  },
  {
   "cell_type": "markdown",
   "metadata": {},
   "source": [
    "## 状態フィードバック制御"
   ]
  },
  {
   "cell_type": "code",
   "execution_count": 6,
   "metadata": {},
   "outputs": [
    {
     "name": "stdout",
     "output_type": "stream",
     "text": [
      "A = [[ 0.  1.]\n",
      "     [ 0. -1.]]\n",
      "\n",
      "B = [[0.]\n",
      "     [1.]]\n",
      "\n",
      "C = [[1. 0.]\n",
      "     [0. 1.]]\n",
      "\n",
      "D = [[0.]\n",
      "     [0.]]\n",
      "\n"
     ]
    }
   ],
   "source": [
    "A = '0 1; 0 -1'\n",
    "B = '0; 1'\n",
    "C = '1 0 ; 0 1'\n",
    "D = '0; 0'\n",
    "P = ss(A, B, C, D)\n",
    "print(P)"
   ]
  },
  {
   "cell_type": "code",
   "execution_count": 7,
   "metadata": {},
   "outputs": [
    {
     "data": {
      "text/plain": [
       "array([ 0., -1.])"
      ]
     },
     "execution_count": 7,
     "metadata": {},
     "output_type": "execute_result"
    }
   ],
   "source": [
    "P.pole()"
   ]
  },
  {
   "cell_type": "markdown",
   "metadata": {},
   "source": [
    "### 例題8.1"
   ]
  },
  {
   "cell_type": "code",
   "execution_count": 12,
   "metadata": {},
   "outputs": [
    {
     "data": {
      "text/plain": [
       "matrix([[-18.,  -5.]])"
      ]
     },
     "execution_count": 12,
     "metadata": {},
     "output_type": "execute_result"
    }
   ],
   "source": [
    "Pole = [-3-3j, -3+3j]\n",
    "F = -acker(P.A, P.B, Pole)\n",
    "F"
   ]
  },
  {
   "cell_type": "code",
   "execution_count": 13,
   "metadata": {},
   "outputs": [
    {
     "data": {
      "text/plain": [
       "(-0.5, 1.0)"
      ]
     },
     "execution_count": 13,
     "metadata": {},
     "output_type": "execute_result"
    },
    {
     "data": {
      "image/png": "[encoded data removed]",
      "text/plain": [
       "<Figure size 216x165.6 with 1 Axes>"
      ]
     },
     "metadata": {
      "needs_background": "light"
     },
     "output_type": "display_data"
    }
   ],
   "source": [
    "Acl = P.A + P.B*F\n",
    "Pfb = ss(Acl, P.B, P.C, P.D)\n",
    "\n",
    "tdata = np.arange(0, 5, 0.01)\n",
    "xini, tini = initial(Pfb, tdata, [-0.3, 0.4]) #ゼロ入力応答\n",
    "\n",
    "fig, ax = plt.subplots(figsize=(3, 2.3))\n",
    "\n",
    "ax.plot(tini, xini[:,0], label = '$x_1$', c='k', lw=1)\n",
    "ax.plot(tini, xini[:,1], ls = '-.', label = '$x_2$', c='k', lw=1)\n",
    "\n",
    "plot_set(ax, '$t$', '$x$', 'best')\n",
    "ax.set_xticks([0,1,2,3,4,5])\n",
    "ax.set_ylim(-0.5,1)\n",
    "\n",
    "#fig.savefig(\"sf_acker.pdf\", transparent=True, bbox_inches=\"tight\", pad_inches=0.0)"
   ]
  },
  {
   "cell_type": "markdown",
   "metadata": {},
   "source": [
    "### 例題8.2"
   ]
  },
  {
   "cell_type": "code",
   "execution_count": 17,
   "metadata": {},
   "outputs": [
    {
     "name": "stdout",
     "output_type": "stream",
     "text": [
      "A = [[-1.  0.]\n",
      "     [ 1.  1.]]\n",
      "\n",
      "B = [[0.]\n",
      "     [1.]]\n",
      "\n",
      "C = [[1. 0.]\n",
      "     [0. 1.]]\n",
      "\n",
      "D = [[0.]\n",
      "     [0.]]\n",
      "\n"
     ]
    }
   ],
   "source": [
    "A = '-1 0; 1 1'\n",
    "B = '0; 1'\n",
    "C = '1 0 ; 0 1'\n",
    "D = '0; 0'\n",
    "P = ss(A, B, C, D)\n",
    "print(P)"
   ]
  },
  {
   "cell_type": "code",
   "execution_count": 18,
   "metadata": {},
   "outputs": [
    {
     "data": {
      "text/plain": [
       "matrix([[0., 0.],\n",
       "        [1., 1.]])"
      ]
     },
     "execution_count": 18,
     "metadata": {},
     "output_type": "execute_result"
    }
   ],
   "source": [
    "Vc = ctrb(P.A, P.B)\n",
    "Vc"
   ]
  },
  {
   "cell_type": "markdown",
   "metadata": {},
   "source": [
    "## 章末問題"
   ]
  },
  {
   "cell_type": "code",
   "execution_count": 6,
   "metadata": {},
   "outputs": [
    {
     "data": {
      "text/plain": [
       "matrix([[-1.5, -5.5]])"
      ]
     },
     "execution_count": 6,
     "metadata": {},
     "output_type": "execute_result"
    }
   ],
   "source": [
    "#章末問題１\n",
    "A = [[-3,1],[2,-2]]\n",
    "B = [[2],[0]]\n",
    "C = np.eye(2)\n",
    "P = ss(A,B,C,0)\n",
    "pole = [-4+4j,-4-4j]\n",
    "F = -acker(P.A,P.B, pole)\n",
    "F"
   ]
  },
  {
   "cell_type": "code",
   "execution_count": 9,
   "metadata": {},
   "outputs": [
    {
     "data": {
      "text/plain": [
       "matrix([[-61., -13., -64.]])"
      ]
     },
     "execution_count": 9,
     "metadata": {},
     "output_type": "execute_result"
    }
   ],
   "source": [
    "#章末問題２\n",
    "A = [[2,1,0],[0,1,0],[1,0,1]]\n",
    "B = [[0],[1],[0]]\n",
    "C = np.eye(3)\n",
    "P = ss(A,B,C,0)\n",
    "pole = [-3, -3, -3]\n",
    "F = -acker(P.A,P.B, pole)\n",
    "F"
   ]
  },
  {
   "cell_type": "code",
   "execution_count": 8,
   "metadata": {},
   "outputs": [
    {
     "data": {
      "text/plain": [
       "matrix([[11.,  5.]])"
      ]
     },
     "execution_count": 8,
     "metadata": {},
     "output_type": "execute_result"
    }
   ],
   "source": [
    "#章末問題３\n",
    "A = [[1,0],[2,1]]\n",
    "B = [[-1],[1]]\n",
    "C = np.eye(2)\n",
    "P = ss(A,B,C,0)\n",
    "pole = [-2+1j,-2-1j]\n",
    "F = -acker(P.A,P.B, pole)\n",
    "F"
   ]
  },
  {
   "cell_type": "code",
   "execution_count": 10,
   "metadata": {},
   "outputs": [
    {
     "data": {
      "text/plain": [
       "matrix([[-15.,  -5.]])"
      ]
     },
     "execution_count": 10,
     "metadata": {},
     "output_type": "execute_result"
    }
   ],
   "source": [
    "#章末問題６\n",
    "A = [[0,1],[2,-1]]\n",
    "B = [[0],[1]]\n",
    "C = np.eye(2)\n",
    "P = ss(A,B,C,0)\n",
    "pole = [-3+2j,-3-2j]\n",
    "F = -acker(P.A,P.B, pole)\n",
    "F"
   ]
  },
  {
   "cell_type": "markdown",
   "metadata": {},
   "source": [
    "## 付録"
   ]
  },
  {
   "cell_type": "code",
   "execution_count": 9,
   "metadata": {},
   "outputs": [
    {
     "name": "stdout",
     "output_type": "stream",
     "text": [
      "[[-1. -1.]]\n"
     ]
    },
    {
     "data": {
      "image/png": "[encoded data removed]",
      "text/plain": [
       "<Figure size 432x165.6 with 2 Axes>"
      ]
     },
     "metadata": {
      "needs_background": "light"
     },
     "output_type": "display_data"
    }
   ],
   "source": [
    "reg_pole = [ -1, -1 ]\n",
    "F = -acker(P.A, P.B, reg_pole)\n",
    "print(F)\n",
    "\n",
    "Acl = P.A + P.B*F\n",
    "Pfb = ss(Acl, P.B, P.C, P.D)\n",
    "\n",
    "tdata = np.arange(0, 5, 0.01)\n",
    "xini, tini = initial(Pfb, tdata, [-0.3, 0.4]) #ゼロ入力応答\n",
    "\n",
    "u = [ [F[0,0]*xini[i,0]+F[0,1]*xini[i,1]] for i in range(len(xini))]\n",
    "\n",
    "fig, ax = plt.subplots(1,2, figsize=(6, 2.3))\n",
    "\n",
    "ax[0].plot(tini, xini[:,0], label = '$x_1$', c='k', lw=1)\n",
    "ax[0].plot(tini, xini[:,1], ls = '-.', label = '$x_2$', c='k', lw=1)\n",
    "\n",
    "ax[1].plot(tini, u, c='k', lw=1)\n",
    "\n",
    "plot_set(ax[0], '$t$', '$x$', 'best')\n",
    "ax[0].set_xticks([0,1,2,3,4,5])\n",
    "ax[0].set_ylim(-0.5,1)\n",
    "\n",
    "plot_set(ax[1], '$t$', '$u$')\n",
    "ax[1].set_xticks([0,1,2,3,4,5])\n",
    "ax[1].set_ylim(-2,4)\n",
    "\n",
    "fig.tight_layout()\n",
    "#fig.savefig(\"sf_pole1.pdf\", transparent=True, bbox_inches=\"tight\", pad_inches=0.0)"
   ]
  },
  {
   "cell_type": "code",
   "execution_count": 10,
   "metadata": {},
   "outputs": [
    {
     "name": "stdout",
     "output_type": "stream",
     "text": [
      "[[-25.  -7.]]\n"
     ]
    },
    {
     "data": {
      "image/png": "[encoded data removed]",
      "text/plain": [
       "<Figure size 432x165.6 with 2 Axes>"
      ]
     },
     "metadata": {
      "needs_background": "light"
     },
     "output_type": "display_data"
    }
   ],
   "source": [
    "reg_pole = [ -4+3j, -4-3j ]\n",
    "F = -acker(P.A, P.B, reg_pole)\n",
    "print(F)\n",
    "\n",
    "Acl = P.A + P.B*F\n",
    "Pfb = ss(Acl, P.B, P.C, P.D)\n",
    "\n",
    "tdata = np.arange(0, 5, 0.01)\n",
    "xini, tini = initial(Pfb, tdata, [-0.3, 0.4]) #ゼロ入力応答\n",
    "\n",
    "u = [ [F[0,0]*xini[i,0]+F[0,1]*xini[i,1]] for i in range(len(xini))]\n",
    "\n",
    "fig, ax = plt.subplots(1,2, figsize=(6, 2.3))\n",
    "\n",
    "ax[0].plot(tini, xini[:,0], label = '$x_1$', c='k', lw=1)\n",
    "ax[0].plot(tini, xini[:,1], ls = '-.', label = '$x_2$', c='k', lw=1)\n",
    "\n",
    "ax[1].plot(tini, u, c='k', lw=1)\n",
    "\n",
    "plot_set(ax[0], '$t$', '$x$', 'best')\n",
    "ax[0].set_xticks([0,1,2,3,4,5])\n",
    "ax[0].set_ylim(-0.5,1)\n",
    "\n",
    "plot_set(ax[1], '$t$', '$u$')\n",
    "ax[1].set_xticks([0,1,2,3,4,5])\n",
    "ax[1].set_ylim(-2,4)\n",
    "\n",
    "fig.tight_layout()\n",
    "#fig.savefig(\"sf_pole2.pdf\", transparent=True, bbox_inches=\"tight\", pad_inches=0.0)"
   ]
  },
  {
   "cell_type": "code",
   "execution_count": 11,
   "metadata": {},
   "outputs": [
    {
     "name": "stdout",
     "output_type": "stream",
     "text": [
      "[[-10.  -1.]]\n"
     ]
    },
    {
     "data": {
      "image/png": "[encoded data removed]",
      "text/plain": [
       "<Figure size 432x165.6 with 2 Axes>"
      ]
     },
     "metadata": {
      "needs_background": "light"
     },
     "output_type": "display_data"
    }
   ],
   "source": [
    "reg_pole = [ -1+3j, -1-3j ]\n",
    "F = -acker(P.A, P.B, reg_pole)\n",
    "print(F)\n",
    "\n",
    "Acl = P.A + P.B*F\n",
    "Pfb = ss(Acl, P.B, P.C, P.D)\n",
    "\n",
    "tdata = np.arange(0, 5, 0.01)\n",
    "xini, tini = initial(Pfb, tdata, [-0.3, 0.4]) #ゼロ入力応答\n",
    "\n",
    "u = [ [F[0,0]*xini[i,0]+F[0,1]*xini[i,1]] for i in range(len(xini))]\n",
    "\n",
    "fig, ax = plt.subplots(1,2, figsize=(6, 2.3))\n",
    "\n",
    "ax[0].plot(tini, xini[:,0], label = '$x_1$', c='k', lw=1)\n",
    "ax[0].plot(tini, xini[:,1], ls = '-.', label = '$x_2$', c='k', lw=1)\n",
    "\n",
    "ax[1].plot(tini, u, c='k', lw=1)\n",
    "\n",
    "plot_set(ax[0], '$t$', '$x$', 'best')\n",
    "ax[0].set_xticks([0,1,2,3,4,5])\n",
    "ax[0].set_ylim(-0.5,1)\n",
    "\n",
    "plot_set(ax[1], '$t$', '$u$')\n",
    "ax[1].set_xticks([0,1,2,3,4,5])\n",
    "ax[1].set_ylim(-2,4)\n",
    "\n",
    "fig.tight_layout()\n",
    "#fig.savefig(\"sf_pole3.pdf\", transparent=True, bbox_inches=\"tight\", pad_inches=0.0)"
   ]
  }
 ],
 "metadata": {
  "kernelspec": {
   "display_name": "Python 3 (ipykernel)",
   "language": "python",
   "name": "python3"
  },
  "language_info": {
   "codemirror_mode": {
    "name": "ipython",
    "version": 3
   },
   "file_extension": ".py",
   "mimetype": "text/x-python",
   "name": "python",
   "nbconvert_exporter": "python",
   "pygments_lexer": "ipython3",
   "version": "3.8.5"
  }
 },
 "nbformat": 4,
 "nbformat_minor": 4
}
