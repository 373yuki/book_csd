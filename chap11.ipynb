{
 "cells": [
  {
   "cell_type": "markdown",
   "metadata": {},
   "source": [
    "# 11章 オブザーバ"
   ]
  },
  {
   "cell_type": "code",
   "execution_count": 1,
   "metadata": {},
   "outputs": [],
   "source": [
    "from control.matlab import *\n",
    "import matplotlib.pyplot as plt\n",
    "import numpy as np\n",
    "\n",
    "#plt.rcParams['font.family'] ='sans-serif' #使用するフォント\n",
    "plt.rcParams['font.family'] = 'Times New Roman' # font familyの設定\n",
    "plt.rcParams['mathtext.fontset'] = 'cm' # math fontの設定\n",
    "plt.rcParams['xtick.direction'] = 'in' #x軸の目盛線が内向き('in')か外向き('out')か双方向か('inout')\n",
    "plt.rcParams['ytick.direction'] = 'in' #y軸の目盛線が内向き('in')か外向き('out')か双方向か('inout')\n",
    "plt.rcParams['xtick.major.width'] = 1.0 #x軸主目盛り線の線幅\n",
    "plt.rcParams['ytick.major.width'] = 1.0 #y軸主目盛り線の線幅\n",
    "plt.rcParams['font.size'] = 11 #フォントの大きさ\n",
    "plt.rcParams['axes.linewidth'] = 0.5 # 軸の線幅edge linewidth。囲みの太さ\n",
    "plt.rcParams['mathtext.default'] = 'it'#'regular'\n",
    "plt.rcParams['axes.xmargin'] = '0'\n",
    "plt.rcParams['axes.ymargin'] = '0.05'\n",
    "plt.rcParams['savefig.facecolor'] = 'None'\n",
    "plt.rcParams['savefig.edgecolor'] = 'None'\n",
    "\n",
    "plt.rcParams[\"legend.fancybox\"] = True     # 丸角\n",
    "# plt.rcParams[\"legend.framealpha\"] = 1    # 透明度の指定、0で塗りつぶしなし\n",
    "# plt.rcParams[\"legend.edgecolor\"] = 'gray' # edgeの色を変更\n",
    "plt.rcParams[\"legend.handlelength\"] = 1.8  # 凡例の線の長さを調節\n",
    "plt.rcParams[\"legend.labelspacing\"] = 0.4  # 垂直方向（縦）の距離の各凡例の距離\n",
    "plt.rcParams[\"legend.handletextpad\"] = 0.7 # 凡例の線と文字の距離の長さ\n",
    "plt.rcParams[\"legend.markerscale\"] = 1.0   # 点がある場合のmarker scale"
   ]
  },
  {
   "cell_type": "code",
   "execution_count": 2,
   "metadata": {},
   "outputs": [],
   "source": [
    "def linestyle_generator():\n",
    "    linestyle = ['-', '--', '-.', ':']\n",
    "    lineID = 0\n",
    "    while True:\n",
    "        yield linestyle[lineID]\n",
    "        lineID = (lineID + 1) % len(linestyle)"
   ]
  },
  {
   "cell_type": "code",
   "execution_count": 3,
   "metadata": {},
   "outputs": [],
   "source": [
    "def plot_set(fig_ax, *args):\n",
    "    fig_ax.set_xlabel(args[0])\n",
    "    fig_ax.set_ylabel(args[1])\n",
    "    fig_ax.grid(ls=':', lw=0.5)\n",
    "    if len(args)==3:\n",
    "        fig_ax.legend(loc=args[2])"
   ]
  },
  {
   "cell_type": "code",
   "execution_count": 4,
   "metadata": {},
   "outputs": [],
   "source": [
    "def bodeplot_set(fig_ax, *args):\n",
    "    fig_ax[0].grid(which=\"both\", ls=':', lw=0.5)\n",
    "    fig_ax[0].set_ylabel('Gain [dB]')\n",
    "\n",
    "    fig_ax[1].grid(which=\"both\", ls=':', lw=0.5)\n",
    "    fig_ax[1].set_xlabel('$\\omega$ [rad/s]')\n",
    "    fig_ax[1].set_ylabel('Phase [deg]')\n",
    "    \n",
    "    if len(args) > 0:\n",
    "        fig_ax[1].legend(loc=args[0])\n",
    "    if len(args) > 1:\n",
    "        fig_ax[0].legend(loc=args[1])"
   ]
  },
  {
   "cell_type": "markdown",
   "metadata": {},
   "source": [
    "## オブザーバ\n"
   ]
  },
  {
   "cell_type": "code",
   "execution_count": 5,
   "metadata": {},
   "outputs": [
    {
     "name": "stdout",
     "output_type": "stream",
     "text": [
      "[-1. -2.]\n"
     ]
    }
   ],
   "source": [
    "# 安定なシステム\n",
    "A = '0 1; -2 -3'\n",
    "B = '0; 1'\n",
    "C = '1 0 ; 0 1'\n",
    "D = '0; 0'\n",
    "P = ss(A, B, C, D)\n",
    "print(P.pole())\n",
    "\n",
    "C1 = np.matrix([1,0])"
   ]
  },
  {
   "cell_type": "markdown",
   "metadata": {},
   "source": [
    "### 例11.1: 同一次元オブザーバ"
   ]
  },
  {
   "cell_type": "code",
   "execution_count": 6,
   "metadata": {},
   "outputs": [
    {
     "name": "stdout",
     "output_type": "stream",
     "text": [
      "[[-13.]\n",
      " [-27.]]\n"
     ]
    }
   ],
   "source": [
    "# オブザーバ極\n",
    "observer_poles=[-8+2j,-8-2j]\n",
    "\n",
    "# オブザーバゲインの設計（状態フィードバックの双対） \n",
    "L = -acker(P.A.T, C1.T, observer_poles).T\n",
    "print(L)"
   ]
  },
  {
   "cell_type": "code",
   "execution_count": 7,
   "metadata": {},
   "outputs": [
    {
     "data": {
      "text/plain": [
       "array([-8.+2.j, -8.-2.j])"
      ]
     },
     "execution_count": 7,
     "metadata": {},
     "output_type": "execute_result"
    }
   ],
   "source": [
    "np.linalg.eigvals(P.A + L * C1)"
   ]
  },
  {
   "cell_type": "code",
   "execution_count": 8,
   "metadata": {},
   "outputs": [],
   "source": [
    "Gsf = ss(P.A, P.B, np.eye(2), [[0],[0]])\n",
    "Obs = ss(P.A + L*C1, np.c_[P.B, -L], np.eye(2), [[0,0],[0,0]] )"
   ]
  },
  {
   "cell_type": "code",
   "execution_count": 9,
   "metadata": {},
   "outputs": [
    {
     "data": {
      "text/plain": [
       "array([-8.+2.j, -8.-2.j])"
      ]
     },
     "execution_count": 9,
     "metadata": {},
     "output_type": "execute_result"
    }
   ],
   "source": [
    "pole(Obs)"
   ]
  },
  {
   "cell_type": "code",
   "execution_count": 10,
   "metadata": {},
   "outputs": [
    {
     "data": {
      "image/png": "[encoded data removed]",
      "text/plain": [
       "<Figure size 432x165.6 with 2 Axes>"
      ]
     },
     "metadata": {
      "needs_background": "light"
     },
     "output_type": "display_data"
    }
   ],
   "source": [
    "fig, ax = plt.subplots(1,2, figsize=(6, 2.3))\n",
    "\n",
    "T = np.arange(0, 3, 0.01)\n",
    "X0 = [-1, 0.5]\n",
    "x, t = initial(Gsf, T, X0)\n",
    "ax[0].plot(t, x[:, 0], ls='-.', label='${x}_1$', c='k', lw=1)\n",
    "ax[1].plot(t, x[:, 1], ls='-.', label='${x}_2$', c='k', lw=1)\n",
    "\n",
    "# 入力 u = Fx\n",
    "# u = [ [F[0,0]*x[i,0]+F[0,1]*x[i,1]] for i in range(len(x))]\n",
    "\n",
    "u = 0*(T>0)\n",
    "# 出力 y = Cx\n",
    "y = x[:, 0]\n",
    "# オブザーバで推定した状態の振る舞い\n",
    "xhat, t, x0 = lsim(Obs, np.c_[u, y], T, [0, 0])\n",
    "ax[0].plot(t, xhat[:, 0], label='$\\hat{x}_1$', c='k', lw=1)\n",
    "ax[1].plot(t, xhat[:, 1], label='$\\hat{x}_2$', c='k', lw=1)\n",
    "\n",
    "for i in [0, 1]:\n",
    "    plot_set(ax[i], '$t$', '', 'best')\n",
    "    ax[i].set_xlim([0, 3])\n",
    "\n",
    "ax[0].set_ylim([-2, 2])\n",
    "ax[0].set_ylabel('$x_1, \\hat{x}_1$')\n",
    "ax[1].set_ylabel('$x_2, \\hat{x}_2$')\n",
    "ax[1].set_ylim([-2, 2])\n",
    "\n",
    "fig.tight_layout()\n",
    "#fig.savefig(\"ex_obs.pdf\", transparent=True, bbox_inches=\"tight\", pad_inches=0.0)"
   ]
  },
  {
   "cell_type": "markdown",
   "metadata": {},
   "source": [
    "### コーヒーブレーク: 外乱オブザーバ"
   ]
  },
  {
   "cell_type": "markdown",
   "metadata": {},
   "source": [
    "上記の同一次元オブザーバでは，外乱の影響をうける"
   ]
  },
  {
   "cell_type": "code",
   "execution_count": 11,
   "metadata": {},
   "outputs": [
    {
     "data": {
      "image/png": "[encoded data removed]",
      "text/plain": [
       "<Figure size 432x165.6 with 2 Axes>"
      ]
     },
     "metadata": {
      "needs_background": "light"
     },
     "output_type": "display_data"
    }
   ],
   "source": [
    "fig, ax = plt.subplots(1,2, figsize=(6, 2.3))\n",
    "\n",
    "Td = np.arange(0, 3, 0.01)\n",
    "X0 = [-1, 0.5]\n",
    "d = 0.5*(T>0)\n",
    "\n",
    "x, t = initial(Gsf, Td, X0)\n",
    "ax[0].plot(t, x[:, 0], ls='-.', label='${x}_1$', c='k', lw=1)\n",
    "ax[1].plot(t, x[:, 1], ls='-.', label='${x}_2$', c='k', lw=1)\n",
    "\n",
    "# 入力 \n",
    "u = 0*(Td>0)\n",
    "# 出力 y = Cx+d\n",
    "y = x[:, 0]+d\n",
    "\n",
    "xhat, t, x0 = lsim(Obs, np.c_[u, y], T, [0, 0])\n",
    "ax[0].plot(t, xhat[:, 0], label='$\\hat{x}_1$', c='k', lw=1)\n",
    "ax[1].plot(t, xhat[:, 1], label='$\\hat{x}_2$', c='k', lw=1)\n",
    "\n",
    "for i in [0, 1]:\n",
    "    ax[i].grid(ls=':')\n",
    "    ax[i].set_xlim([0, 3])\n",
    "    ax[i].set_xlabel('$t$')\n",
    "    ax[i].legend()\n",
    "\n",
    "ax[0].set_ylim([-2, 2])\n",
    "ax[0].set_ylabel('$x_1, \\hat{x}_1$')\n",
    "ax[1].set_ylabel('$x_2, \\hat{x}_2$')\n",
    "#ax[1].set_ylim([-2, 2])\n",
    "\n",
    "fig.tight_layout()\n",
    "#fig.savefig(\"dis_obs.pdf\", transparent=True, bbox_inches=\"tight\", pad_inches=0.0)"
   ]
  },
  {
   "cell_type": "markdown",
   "metadata": {},
   "source": [
    "外乱を推定する"
   ]
  },
  {
   "cell_type": "code",
   "execution_count": 12,
   "metadata": {},
   "outputs": [
    {
     "name": "stdout",
     "output_type": "stream",
     "text": [
      "[[  86.]\n",
      " [ -66.]\n",
      " [-102.]]\n"
     ]
    }
   ],
   "source": [
    "# オブザーバ極\n",
    "observer_poles=[-8+2j,-8-2j, -3] \n",
    "\n",
    "# オブザーバゲインの設計（状態フィードバックの双対）\n",
    "E = [[0], [0]]\n",
    "Abar = np.r_[ np.c_[P.A, E], np.zeros((1,3))] \n",
    "Bbar = np.c_[ P.B.T, np.zeros((1,1)) ].T\n",
    "Cbar = np.c_[ C1, 1 ]\n",
    "\n",
    "Lbar = -acker(Abar.T, Cbar.T, observer_poles).T\n",
    "print(Lbar)\n",
    "\n",
    "# Obs = ss(Abar+Bbar*Fbar+Lbar*Cbar, -Lbar, np.eye(3), [[0],[0],[0]] )\n",
    "Aob = Abar + Lbar*Cbar\n",
    "Bob = np.c_[Bbar, -Lbar]\n",
    "Obs = ss(Aob, Bob, np.eye(3), [[0,0],[0,0],[0,0]] )"
   ]
  },
  {
   "cell_type": "code",
   "execution_count": 13,
   "metadata": {},
   "outputs": [
    {
     "data": {
      "text/plain": [
       "(-0.5, 1.0)"
      ]
     },
     "execution_count": 13,
     "metadata": {},
     "output_type": "execute_result"
    },
    {
     "data": {
      "image/png": "[encoded data removed]",
      "text/plain": [
       "<Figure size 432x165.6 with 2 Axes>"
      ]
     },
     "metadata": {
      "needs_background": "light"
     },
     "output_type": "display_data"
    },
    {
     "data": {
      "image/png": "[encoded data removed]",
      "text/plain": [
       "<Figure size 216x165.6 with 1 Axes>"
      ]
     },
     "metadata": {
      "needs_background": "light"
     },
     "output_type": "display_data"
    }
   ],
   "source": [
    "fig, ax = plt.subplots(1,2, figsize=(6, 2.3))\n",
    "\n",
    "Td = np.arange(0, 3, 0.01)\n",
    "X0 = [-1, 0.5]\n",
    "d = 0.5*(T>0)\n",
    "x, t = initial(Gsf, Td, X0)\n",
    "ax[0].plot(t, x[:, 0], ls='-.', label='${x}_1$', c='k', lw=1)\n",
    "ax[1].plot(t, x[:, 1], ls='-.', label='${x}_2$', c='k', lw=1)\n",
    "\n",
    "\n",
    "# 入力 \n",
    "u = 0*(Td>0)\n",
    "# 出力 y = Cx+d\n",
    "y = x[:, 0]+d\n",
    "xhat, t, x0 = lsim(Obs, np.c_[u, y], T, [0, 0, 0])\n",
    "#xhat, t, x0 = lsim(Obs, x[:, 0]+d, T, [0, 0, 0])\n",
    "ax[0].plot(t, xhat[:, 0], label='$\\hat{x}_1$', c='k', lw=1)\n",
    "ax[1].plot(t, xhat[:, 1], label='$\\hat{x}_2$', c='k', lw=1)\n",
    "\n",
    "for i in [0, 1]:\n",
    "    ax[i].grid(ls=':')\n",
    "    ax[i].set_xlim([0, 3])\n",
    "    ax[i].set_xlabel('$t$')\n",
    "    ax[i].legend()\n",
    "\n",
    "ax[0].set_ylim([-2, 2])\n",
    "ax[0].set_ylabel('$x_1, \\hat{x}_1$')\n",
    "ax[1].set_ylabel('$x_2, \\hat{x}_2$')\n",
    "ax[1].set_ylim([-2, 2])\n",
    "\n",
    "fig.tight_layout()\n",
    "# fig.savefig(\"dis_obs2.pdf\", transparent=True, bbox_inches=\"tight\", pad_inches=0.0)\n",
    "\n",
    "fig, ax = plt.subplots(figsize=(3, 2.3))\n",
    "ax.plot(t, xhat[:, 2], label='$\\hat{x}_2$', color='k')\n",
    "ax.grid(ls=':')\n",
    "ax.set_xlabel('$t$')\n",
    "ax.set_ylabel('$\\hat{d}$')\n",
    "ax.set_ylim([-0.5, 1])"
   ]
  },
  {
   "cell_type": "markdown",
   "metadata": {},
   "source": [
    "### 例11.2: 併合系"
   ]
  },
  {
   "cell_type": "code",
   "execution_count": 14,
   "metadata": {},
   "outputs": [
    {
     "name": "stdout",
     "output_type": "stream",
     "text": [
      "[[-16.  -3.]]\n"
     ]
    }
   ],
   "source": [
    "# レギュレータ極\n",
    "regulator_poles = [-3+3j, -3-3j]\n",
    "# 極配置\n",
    "F = -acker(P.A, P.B, regulator_poles)\n",
    "print(F)"
   ]
  },
  {
   "cell_type": "code",
   "execution_count": 15,
   "metadata": {},
   "outputs": [],
   "source": [
    "Gsf = ss(P.A + P.B*F, P.B, np.eye(2), [[0],[0]])"
   ]
  },
  {
   "cell_type": "code",
   "execution_count": 16,
   "metadata": {},
   "outputs": [],
   "source": [
    "# オブザーバ極\n",
    "observer_poles=[-8+2j,-8-2j]\n",
    "# オブザーバゲインの設計（状態フィードバックの双対） \n",
    "L = -acker(P.A.T, C1.T, observer_poles).T"
   ]
  },
  {
   "cell_type": "code",
   "execution_count": 17,
   "metadata": {},
   "outputs": [],
   "source": [
    "Aob1 = np.c_[P.A, P.B@F]\n",
    "Aob2 = np.c_[-L@C1, P.A+L@C1+P.B@F]\n",
    "Aob = np.r_[Aob1, Aob2]\n",
    "Bob = np.zeros([4,1])\n",
    "Cob = [[ 1, 0 ,0 ,0 ], [0, 1, 0, 0]]\n",
    "Dob = np.zeros([2,1])\n",
    "Gobsf = ss(Aob, Bob, Cob, Dob)"
   ]
  },
  {
   "cell_type": "code",
   "execution_count": 18,
   "metadata": {},
   "outputs": [
    {
     "data": {
      "image/png": "[encoded data removed]",
      "text/plain": [
       "<Figure size 432x165.6 with 2 Axes>"
      ]
     },
     "metadata": {
      "needs_background": "light"
     },
     "output_type": "display_data"
    }
   ],
   "source": [
    "fig, ax = plt.subplots(1,2, figsize=(6, 2.3))\n",
    "\n",
    "T = np.arange(0, 3, 0.01)\n",
    "X0 = [-1, 0.5]\n",
    "x, t = initial(Gsf, T, X0)\n",
    "ax[0].plot(t, x[:, 0], ls='-.', label='State Feedback', c='k', lw=1)\n",
    "ax[1].plot(t, x[:, 1], ls='-.', label='State Feedback', c='k', lw=1)\n",
    "\n",
    "# オブザーバベースコントローラ\n",
    "xhat, t = initial(Gobsf, T, [X0[0], X0[1], 0, 0] )\n",
    "ax[0].plot(t, xhat[:, 0], label='Observer based SF', c='k', lw=1)\n",
    "ax[1].plot(t, xhat[:, 1], label='Observer based SF', c='k', lw=1)\n",
    "\n",
    "for i in [0, 1]:\n",
    "    plot_set(ax[i], '$t$', '', 'best')\n",
    "    ax[i].set_xlim([0, 3])\n",
    "\n",
    "ax[0].set_ylim([-2, 2])\n",
    "ax[0].set_ylabel('$x_1$')\n",
    "ax[1].set_ylabel('$x_2$')\n",
    "\n",
    "fig.tight_layout()\n",
    "#fig.savefig(\"obs_base_control.pdf\", transparent=True, bbox_inches=\"tight\", pad_inches=0.0)"
   ]
  },
  {
   "cell_type": "markdown",
   "metadata": {},
   "source": [
    "### 例11.3: 最小次元オブザーバ"
   ]
  },
  {
   "cell_type": "code",
   "execution_count": 19,
   "metadata": {},
   "outputs": [
    {
     "name": "stdout",
     "output_type": "stream",
     "text": [
      "[-1. -2.]\n"
     ]
    }
   ],
   "source": [
    "A = '0 1; -2 -3'\n",
    "B = '0; 1'\n",
    "C = '1 0 ; 0 1'\n",
    "D = '0; 0'\n",
    "P = ss(A, B, C, D)\n",
    "print(P.pole())\n",
    "C1 = np.matrix([1,0])"
   ]
  },
  {
   "cell_type": "code",
   "execution_count": 20,
   "metadata": {},
   "outputs": [],
   "source": [
    "A11 = P.A[0,0]\n",
    "A12 = P.A[0,1]\n",
    "A21 = P.A[1,0]\n",
    "A22 = P.A[1,1]\n",
    "B1 = P.B[0]\n",
    "B2 = P.B[1]"
   ]
  },
  {
   "cell_type": "code",
   "execution_count": 21,
   "metadata": {},
   "outputs": [
    {
     "data": {
      "text/plain": [
       "0.0"
      ]
     },
     "execution_count": 21,
     "metadata": {},
     "output_type": "execute_result"
    }
   ],
   "source": [
    "A11"
   ]
  },
  {
   "cell_type": "code",
   "execution_count": 22,
   "metadata": {},
   "outputs": [
    {
     "name": "stdout",
     "output_type": "stream",
     "text": [
      "A = [[-8.]]\n",
      "\n",
      "B = [[  1. -42.]]\n",
      "\n",
      "C = [[1.]]\n",
      "\n",
      "D = [[0. 5.]]\n",
      "\n"
     ]
    }
   ],
   "source": [
    "obs_pole = -8\n",
    "L = (obs_pole-A22)/A12\n",
    "Obs = ss(A22+L*A12, np.c_[B2+L*B1, A21-A22*L+L*(A11-A12*L)], 1, np.c_[0, -L] )\n",
    "print(Obs)"
   ]
  },
  {
   "cell_type": "code",
   "execution_count": 23,
   "metadata": {},
   "outputs": [
    {
     "data": {
      "text/plain": [
       "-5.0"
      ]
     },
     "execution_count": 23,
     "metadata": {},
     "output_type": "execute_result"
    }
   ],
   "source": [
    "L"
   ]
  },
  {
   "cell_type": "code",
   "execution_count": 24,
   "metadata": {},
   "outputs": [
    {
     "data": {
      "image/png": "[encoded data removed]",
      "text/plain": [
       "<Figure size 432x165.6 with 2 Axes>"
      ]
     },
     "metadata": {
      "needs_background": "light"
     },
     "output_type": "display_data"
    }
   ],
   "source": [
    "Gsf = ss(P.A, P.B, np.eye(2), [[0],[0]])\n",
    "\n",
    "fig, ax = plt.subplots(1,2, figsize=(6, 2.3))\n",
    "\n",
    "T = np.arange(0, 3, 0.01)\n",
    "X0 = [-1, 0.5]\n",
    "x, t = initial(Gsf, T, X0)\n",
    "ax[0].plot(t, x[:, 0], ls='-.', label='${x}_1$', c='k', lw=1)\n",
    "ax[1].plot(t, x[:, 1], ls='-.', label='${x}_2$', c='k', lw=1)\n",
    "\n",
    "# 入力 u = Fx\n",
    "# u = [ [F[0,0]*x[i,0]+F[0,1]*x[i,1]] for i in range(len(x))]\n",
    "u = 0*(T>0)\n",
    "# 出力 y = Cx\n",
    "y = x[:, 0]\n",
    "# オブザーバで推定した状態の振る舞い\n",
    "xhat, t, x0 = lsim(Obs, np.c_[u, y], T, [0])\n",
    "ax[0].plot(t, y, label='$y$', c='k', lw=1)\n",
    "ax[1].plot(t, xhat, label='$\\hat{x}_2$', c='k', lw=1)\n",
    "\n",
    "for i in [0, 1]:\n",
    "    plot_set(ax[i], '$t$', '', 'best')\n",
    "    ax[i].set_xlim([0, 3])\n",
    "\n",
    "ax[0].set_ylim([-2, 2])\n",
    "ax[0].set_ylabel('$y=x_1$')\n",
    "ax[1].set_ylabel('$x_2, \\hat{x}_2$')\n",
    "ax[1].set_ylim([-6, 2])\n",
    "\n",
    "fig.tight_layout()\n",
    "#fig.savefig(\"ex_minimal_obs.pdf\", transparent=True, bbox_inches=\"tight\", pad_inches=0.0)"
   ]
  },
  {
   "cell_type": "markdown",
   "metadata": {},
   "source": [
    "### 例11.4: 線形関数オブザーバ"
   ]
  },
  {
   "cell_type": "code",
   "execution_count": 25,
   "metadata": {},
   "outputs": [
    {
     "name": "stdout",
     "output_type": "stream",
     "text": [
      "A = [[-5.]]\n",
      "\n",
      "B = [[12.]]\n",
      "\n",
      "C = [[3.]]\n",
      "\n",
      "D = [[-22.]]\n",
      "\n"
     ]
    }
   ],
   "source": [
    "E = -5\n",
    "G = -1\n",
    "W = -22\n",
    "V = 3\n",
    "H = 12\n",
    "Obs = ss(E, H, V, W )\n",
    "print(Obs)"
   ]
  },
  {
   "cell_type": "code",
   "execution_count": 26,
   "metadata": {},
   "outputs": [
    {
     "data": {
      "text/plain": [
       "matrix([[-16.,  -3.]])"
      ]
     },
     "execution_count": 26,
     "metadata": {},
     "output_type": "execute_result"
    }
   ],
   "source": [
    "F"
   ]
  },
  {
   "cell_type": "code",
   "execution_count": 27,
   "metadata": {},
   "outputs": [
    {
     "data": {
      "image/png": "[encoded data removed]",
      "text/plain": [
       "<Figure size 432x165.6 with 2 Axes>"
      ]
     },
     "metadata": {
      "needs_background": "light"
     },
     "output_type": "display_data"
    }
   ],
   "source": [
    "Gsf = ss(P.A + P.B*F, P.B, np.eye(2), [[0],[0]])\n",
    "\n",
    "fig, ax = plt.subplots(1,2, figsize=(6, 2.3))\n",
    "\n",
    "T = np.arange(0, 3, 0.01)\n",
    "X0 = [-1, 0.5]\n",
    "x, t = initial(Gsf, T, X0)\n",
    "#ax[0].plot(t, x[:, 0], ls='-.', label='${x}_1$', c='k')\n",
    "#ax[1].plot(t, x[:, 1], ls='-.', label='${x}_2$', c='k')\n",
    "\n",
    "# 入力 u = Fx\n",
    "u = [ [F[0,0]*x[i,0]+F[0,1]*x[i,1]] for i in range(len(x))]\n",
    "# u = 0*(T>d)\n",
    "ax[1].plot(t, u, ls='-.', label='$Fx$', c='k', lw=1)\n",
    "\n",
    "# 出力 y = Cx\n",
    "y = x[:, 0]\n",
    "# オブザーバで推定した状態の振る舞い\n",
    "#xhat, t, x0 = lsim(Obs, np.c_[u, y], T, [0])\n",
    "xhat, t, x0 = lsim(Obs, y, T, [0])\n",
    "ax[0].plot(t, y, label='$y$', c='k', lw=1)\n",
    "ax[1].plot(t, xhat, label='$v$', c='k', lw=1)\n",
    "\n",
    "for i in [0, 1]:\n",
    "    plot_set(ax[i], '$t$', '', 'best')\n",
    "    ax[i].set_xlim([0, 3])\n",
    "\n",
    "ax[0].set_ylim([-2, 2])\n",
    "ax[0].set_ylabel('$y$')\n",
    "ax[1].set_ylabel('$Fx,v$')\n",
    "\n",
    "fig.tight_layout()\n",
    "# fig.savefig(\"ex_linfunc_obs.pdf\", transparent=True, bbox_inches=\"tight\", pad_inches=0.0)"
   ]
  },
  {
   "cell_type": "markdown",
   "metadata": {},
   "source": [
    "### 例11.5: カルマンフィルタ"
   ]
  },
  {
   "cell_type": "code",
   "execution_count": 28,
   "metadata": {},
   "outputs": [
    {
     "name": "stdout",
     "output_type": "stream",
     "text": [
      "[-1. -2.]\n"
     ]
    }
   ],
   "source": [
    "A = '0 1; -2 -3'\n",
    "B = '0; 1'\n",
    "C = '1 0 ; 0 1'\n",
    "D = '0; 0'\n",
    "P = ss(A, B, C, D)\n",
    "print(P.pole())\n",
    "C1 = np.matrix([1,0])"
   ]
  },
  {
   "cell_type": "code",
   "execution_count": 29,
   "metadata": {},
   "outputs": [
    {
     "name": "stdout",
     "output_type": "stream",
     "text": [
      "[[-0.07768354]\n",
      " [-0.00301737]]\n"
     ]
    }
   ],
   "source": [
    "QN = 1\n",
    "RN = 1\n",
    "L, X, _ = lqe(P.A, P.B, C1, QN, RN)\n",
    "L = -L\n",
    "print(L)"
   ]
  },
  {
   "cell_type": "code",
   "execution_count": 30,
   "metadata": {},
   "outputs": [
    {
     "name": "stdout",
     "output_type": "stream",
     "text": [
      "0.9710980760898553\n",
      "0.027545156261989744\n",
      "[[-0.07768354]\n",
      " [-0.00301737]]\n"
     ]
    },
    {
     "data": {
      "image/png": "[encoded data removed]",
      "text/plain": [
       "<Figure size 432x331.2 with 4 Axes>"
      ]
     },
     "metadata": {
      "needs_background": "light"
     },
     "output_type": "display_data"
    }
   ],
   "source": [
    "fig, ax = plt.subplots(2,2, figsize=(6, 4.6))\n",
    "\n",
    "T = np.arange(0, 6, 0.01)\n",
    "u = 3*np.sin(1*T)+np.cos(5*T)+2\n",
    "\n",
    "QN = 1\n",
    "RN = 1\n",
    "w = np.random.normal(loc=0, scale=np.sqrt(QN), size=len(T))\n",
    "v = np.random.normal(loc=0, scale=np.sqrt(RN), size=len(T))\n",
    "\n",
    "print(np.var(w))\n",
    "print(np.mean(w))\n",
    "\n",
    "L, _, _ = lqe(P.A, P.B, C1, QN, RN)\n",
    "L = -L\n",
    "print(L)\n",
    "#L = np.matrix([[-10], [-10]])\n",
    "Obs = ss(P.A + L*C1, np.c_[P.B, -L], np.eye(2), [[0,0],[0,0]] )\n",
    "\n",
    "X0 = [-1, 0.5]\n",
    "x, t, _= lsim(P, u+w, T, X0)\n",
    "\n",
    "xorg, t, _= lsim(P, u, T, X0)\n",
    "\n",
    "# 出力 y = Cx\n",
    "y = x[:, 0]+v\n",
    "\n",
    "ax[0,1].plot(t, y,   ls='-.', label='$y$', c='gray', lw=0.5)\n",
    "ax[1,0].plot(t, xorg[:,0],   ls='--', label='$x_1$', c='k', lw=1)\n",
    "ax[1,1].plot(t, xorg[:,1],   ls='--', label='$x_2$', c='k', lw=1)\n",
    "ax[0,0].plot(t, u+w, ls='-.', label='$u+w$', c='gray', lw=0.5)\n",
    "\n",
    "# 入力 u = Fx\n",
    "#u = [ [F[0,0]*x[i,0]+F[0,1]*x[i,1]] for i in range(len(x))]\n",
    "#u = np.sin(T)\n",
    "#u = 0*(T>0)\n",
    "\n",
    "# オブザーバで推定した状態の振る舞い\n",
    "xhat, t, x0 = lsim(Obs, np.c_[u, y], T, [0, 0])\n",
    "ax[1,0].plot(t, xhat[:, 0], label='$\\hat{x}_1$', c='k', lw=1)\n",
    "ax[1,1].plot(t, xhat[:, 1], label='$\\hat{x}_2$', c='k', lw=1)\n",
    "ax[0,0].plot(t, u, label='$u$', c='k', ls='--',lw=1)\n",
    "\n",
    "for i in [0, 1]:\n",
    "    for j in [0, 1]:\n",
    "        plot_set(ax[i,j], '$t$', '', 'best')\n",
    "        ax[i,j].set_xlim([0, 6])\n",
    "\n",
    "ax[0,1].set_ylim([-5, 10])\n",
    "ax[0,1].set_ylabel('$y$')\n",
    "ax[0,0].set_ylabel('$u$')\n",
    "ax[0,0].set_ylim([-5, 10])\n",
    "ax[1,0].set_ylim([-2, 2])\n",
    "ax[1,0].set_ylabel('$x_1$')\n",
    "ax[1,1].set_ylim([-2, 2])\n",
    "ax[1,1].set_ylabel('$x_2$')\n",
    "\n",
    "\n",
    "fig.tight_layout()\n",
    "# fig.savefig(\"ex_kalman.pdf\", transparent=True, bbox_inches=\"tight\", pad_inches=0.0)"
   ]
  },
  {
   "cell_type": "markdown",
   "metadata": {},
   "source": [
    "## 章末問題"
   ]
  },
  {
   "cell_type": "code",
   "execution_count": 31,
   "metadata": {},
   "outputs": [
    {
     "data": {
      "text/plain": [
       "matrix([[-4.],\n",
       "        [ 3.]])"
      ]
     },
     "execution_count": 31,
     "metadata": {},
     "output_type": "execute_result"
    }
   ],
   "source": [
    "# 章末問題1\n",
    "A = [[0, 1],[-3, -4]]\n",
    "B = [[0],[1]]\n",
    "C = [1,0]\n",
    "P = ss(A,B,C,0)\n",
    "\n",
    "L = -acker(P.A.T,P.C.T, [-4, -4]).T\n",
    "L"
   ]
  },
  {
   "cell_type": "code",
   "execution_count": 32,
   "metadata": {},
   "outputs": [
    {
     "name": "stdout",
     "output_type": "stream",
     "text": [
      "[[ -9.]\n",
      " [-27.]\n",
      " [-27.]]\n"
     ]
    }
   ],
   "source": [
    "# 章末問題2\n",
    "A = [[0, 1],[0, 0]]\n",
    "B = [[1],[1]]\n",
    "C = [1,0]\n",
    "P = ss(A,B,C,0)\n",
    "\n",
    "B2 = np.matrix([[0], [1]])\n",
    "\n",
    "# オブザーバ極\n",
    "observer_poles=[-3,-3, -3] \n",
    "\n",
    "# オブザーバゲインの設計（状態フィードバックの双対）\n",
    "Abar = np.r_[ np.c_[P.A, B2], np.zeros((1,3))] \n",
    "Bbar = np.c_[ P.B.T, np.zeros((1,1)) ].T\n",
    "Cbar = np.c_[ P.C, 0 ]\n",
    "\n",
    "Lbar = -acker(Abar.T, Cbar.T, observer_poles).T\n",
    "print(Lbar)"
   ]
  },
  {
   "cell_type": "code",
   "execution_count": 33,
   "metadata": {},
   "outputs": [],
   "source": [
    "# 章末問題3\n",
    "A = [[0,1],[0,0]]\n",
    "B = [[0],[1]]\n",
    "C = [1,0]\n",
    "P = ss(A,B,C,0)\n",
    "\n",
    "L = -acker(P.A.T,P.C.T,[-3+3j, -3-3j]).T\n",
    "F = -acker(P.A, P.B, [-1+1j, -1-1j])"
   ]
  },
  {
   "cell_type": "code",
   "execution_count": 34,
   "metadata": {},
   "outputs": [
    {
     "data": {
      "text/latex": [
       "$$\\frac{-48 s - 36}{s^2 + 8 s + 32}$$"
      ],
      "text/plain": [
       "TransferFunction(array([-48., -36.]), array([ 1.,  8., 32.]))"
      ]
     },
     "execution_count": 34,
     "metadata": {},
     "output_type": "execute_result"
    }
   ],
   "source": [
    "G = ss(A+B*F+L*C, L, -F, 0)\n",
    "tf(G)"
   ]
  },
  {
   "cell_type": "code",
   "execution_count": 35,
   "metadata": {},
   "outputs": [],
   "source": [
    "# 章末問題4\n",
    "A = [[0,1],[0,0]]\n",
    "B = [[0],[1]]\n",
    "C = [1,0]\n",
    "P = ss(A,B,C,0)"
   ]
  },
  {
   "cell_type": "code",
   "execution_count": 36,
   "metadata": {},
   "outputs": [
    {
     "data": {
      "text/plain": [
       "matrix([[-18.,  -6.]])"
      ]
     },
     "execution_count": 36,
     "metadata": {},
     "output_type": "execute_result"
    }
   ],
   "source": [
    "F = -acker(P.A, P.B, [-3+3j, -3-3j])\n",
    "F"
   ]
  },
  {
   "cell_type": "code",
   "execution_count": 37,
   "metadata": {},
   "outputs": [
    {
     "data": {
      "text/latex": [
       "\\[\n",
       "\\left(\\begin{array}{rll|rll}\n",
       "-11\\phantom{.}&\\hspace{-1em}&\\hspace{-1em}\\phantom{\\cdot}&-73\\phantom{.}&\\hspace{-1em}&\\hspace{-1em}\\phantom{\\cdot}\\\\\n",
       "\\hline\n",
       "-6\\phantom{.}&\\hspace{-1em}&\\hspace{-1em}\\phantom{\\cdot}&-48\\phantom{.}&\\hspace{-1em}&\\hspace{-1em}\\phantom{\\cdot}\\\\\n",
       "\\end{array}\\right)\n",
       "\\]"
      ],
      "text/plain": [
       "StateSpace(array([[-11.]]), array([[-73.]]), array([[-6.]]), array([[-48.]]))"
      ]
     },
     "execution_count": 37,
     "metadata": {},
     "output_type": "execute_result"
    }
   ],
   "source": [
    "A11 = 0\n",
    "A12 = 1\n",
    "A21 = 0\n",
    "A22 = 0\n",
    "B1 = 0\n",
    "B2 = 1\n",
    "\n",
    "f1 = -18\n",
    "f2 = -6\n",
    "pole = -5\n",
    "L = ((pole)-A22)/A12\n",
    "\n",
    "Ak = A22+L*A12+(B2+L*B1)*f2\n",
    "Bk = -Ak*L+A21+L*A11+(B2+L*B1)*f1\n",
    "Ck = f2\n",
    "Dk = f1-f2*L\n",
    "\n",
    "K = ss(Ak,Bk,Ck,Dk)\n",
    "K"
   ]
  },
  {
   "cell_type": "code",
   "execution_count": 38,
   "metadata": {},
   "outputs": [
    {
     "data": {
      "text/latex": [
       "$$\\frac{-48 s - 90}{s + 11}$$"
      ],
      "text/plain": [
       "TransferFunction(array([-48., -90.]), array([ 1., 11.]))"
      ]
     },
     "execution_count": 38,
     "metadata": {},
     "output_type": "execute_result"
    }
   ],
   "source": [
    "tf(K)"
   ]
  },
  {
   "cell_type": "code",
   "execution_count": 39,
   "metadata": {},
   "outputs": [
    {
     "name": "stdout",
     "output_type": "stream",
     "text": [
      "[0.+1.41421356j 0.-1.41421356j]\n"
     ]
    }
   ],
   "source": [
    "#章末問題 7\n",
    "A = '0 1; -2 0'\n",
    "B = '0; 1'\n",
    "C = '1 0 ; 0 1'\n",
    "D = '0; 0'\n",
    "P = ss(A, B, C, D)\n",
    "print(P.pole())\n",
    "C1 = np.matrix([1,0])"
   ]
  },
  {
   "cell_type": "code",
   "execution_count": 40,
   "metadata": {},
   "outputs": [
    {
     "name": "stdout",
     "output_type": "stream",
     "text": [
      "[[0.6871215  0.23606798]\n",
      " [0.23606798 1.53645038]]\n"
     ]
    }
   ],
   "source": [
    "QN = 1\n",
    "RN = 1\n",
    "L, X, _ = lqe(P.A, P.B, C1, QN, RN)\n",
    "L = -L\n",
    "print(X)"
   ]
  },
  {
   "cell_type": "code",
   "execution_count": 41,
   "metadata": {},
   "outputs": [
    {
     "data": {
      "text/plain": [
       "0.2360679774997898"
      ]
     },
     "execution_count": 41,
     "metadata": {},
     "output_type": "execute_result"
    }
   ],
   "source": [
    "-2+np.sqrt(4+1)"
   ]
  },
  {
   "cell_type": "code",
   "execution_count": null,
   "metadata": {},
   "outputs": [],
   "source": []
  }
 ],
 "metadata": {
  "kernelspec": {
   "display_name": "Python 3 (ipykernel)",
   "language": "python",
   "name": "python3"
  },
  "language_info": {
   "codemirror_mode": {
    "name": "ipython",
    "version": 3
   },
   "file_extension": ".py",
   "mimetype": "text/x-python",
   "name": "python",
   "nbconvert_exporter": "python",
   "pygments_lexer": "ipython3",
   "version": "3.9.7"
  }
 },
 "nbformat": 4,
 "nbformat_minor": 4
}
