{
 "cells": [
  {
   "cell_type": "markdown",
   "metadata": {},
   "source": [
    "#  14章 離散時間システムの制御 "
   ]
  },
  {
   "cell_type": "code",
   "execution_count": 1,
   "metadata": {},
   "outputs": [],
   "source": [
    "from control.matlab import *\n",
    "import matplotlib.pyplot as plt\n",
    "import numpy as np\n",
    "\n",
    "#plt.rcParams['font.family'] ='sans-serif' #使用するフォント\n",
    "plt.rcParams['font.family'] = 'Times New Roman' # font familyの設定\n",
    "plt.rcParams['mathtext.fontset'] = 'cm' # math fontの設定\n",
    "plt.rcParams['xtick.direction'] = 'in' #x軸の目盛線が内向き('in')か外向き('out')か双方向か('inout')\n",
    "plt.rcParams['ytick.direction'] = 'in' #y軸の目盛線が内向き('in')か外向き('out')か双方向か('inout')\n",
    "plt.rcParams['xtick.major.width'] = 1.0 #x軸主目盛り線の線幅\n",
    "plt.rcParams['ytick.major.width'] = 1.0 #y軸主目盛り線の線幅\n",
    "plt.rcParams['font.size'] = 11 #フォントの大きさ\n",
    "plt.rcParams['axes.linewidth'] = 0.5 # 軸の線幅edge linewidth。囲みの太さ\n",
    "plt.rcParams['mathtext.default'] = 'it'#'regular'\n",
    "plt.rcParams['axes.xmargin'] = '0'\n",
    "plt.rcParams['axes.ymargin'] = '0.05'\n",
    "plt.rcParams['savefig.facecolor'] = 'None'\n",
    "plt.rcParams['savefig.edgecolor'] = 'None'\n",
    "\n",
    "plt.rcParams[\"legend.fancybox\"] = True     # 丸角\n",
    "# plt.rcParams[\"legend.framealpha\"] = 1    # 透明度の指定、0で塗りつぶしなし\n",
    "# plt.rcParams[\"legend.edgecolor\"] = 'gray' # edgeの色を変更\n",
    "plt.rcParams[\"legend.handlelength\"] = 1.8  # 凡例の線の長さを調節\n",
    "plt.rcParams[\"legend.labelspacing\"] = 0.4  # 垂直方向（縦）の距離の各凡例の距離\n",
    "plt.rcParams[\"legend.handletextpad\"] = 0.7 # 凡例の線と文字の距離の長さ\n",
    "plt.rcParams[\"legend.markerscale\"] = 1.0   # 点がある場合のmarker scale"
   ]
  },
  {
   "cell_type": "code",
   "execution_count": 2,
   "metadata": {},
   "outputs": [],
   "source": [
    "def linestyle_generator():\n",
    "    linestyle = ['-', '--', '-.', ':']\n",
    "    lineID = 0\n",
    "    while True:\n",
    "        yield linestyle[lineID]\n",
    "        lineID = (lineID + 1) % len(linestyle)"
   ]
  },
  {
   "cell_type": "code",
   "execution_count": 3,
   "metadata": {},
   "outputs": [],
   "source": [
    "def plot_set(fig_ax, *args):\n",
    "    fig_ax.set_xlabel(args[0])\n",
    "    fig_ax.set_ylabel(args[1])\n",
    "    fig_ax.grid(ls=':', lw=0.5)\n",
    "    if len(args)==3:\n",
    "        fig_ax.legend(loc=args[2])"
   ]
  },
  {
   "cell_type": "code",
   "execution_count": 4,
   "metadata": {},
   "outputs": [],
   "source": [
    "def bodeplot_set(fig_ax, *args):\n",
    "    fig_ax[0].grid(which=\"both\", ls=':', lw=0.5)\n",
    "    fig_ax[0].set_ylabel('Gain [dB]')\n",
    "\n",
    "    fig_ax[1].grid(which=\"both\", ls=':', lw=0.5)\n",
    "    fig_ax[1].set_xlabel('$\\omega$ [rad/s]')\n",
    "    fig_ax[1].set_ylabel('Phase [deg]')\n",
    "    \n",
    "    if len(args) > 0:\n",
    "        fig_ax[1].legend(loc=args[0])\n",
    "    if len(args) > 1:\n",
    "        fig_ax[0].legend(loc=args[1])"
   ]
  },
  {
   "cell_type": "markdown",
   "metadata": {},
   "source": [
    "## 離散化"
   ]
  },
  {
   "cell_type": "markdown",
   "metadata": {},
   "source": [
    "### 例題14.3"
   ]
  },
  {
   "cell_type": "code",
   "execution_count": 114,
   "metadata": {},
   "outputs": [
    {
     "data": {
      "text/latex": [
       "$$\\frac{0.3333 z + 0.3333}{z - 0.3333}\\quad dt = 1$$"
      ],
      "text/plain": [
       "TransferFunction(array([0.33333333, 0.33333333]), array([ 1.        , -0.33333333]), 1)"
      ]
     },
     "execution_count": 114,
     "metadata": {},
     "output_type": "execute_result"
    }
   ],
   "source": [
    "P = tf(1, [1,1])\n",
    "Pd = c2d(P, 1, method='tustin')\n",
    "Pd"
   ]
  },
  {
   "cell_type": "code",
   "execution_count": 116,
   "metadata": {},
   "outputs": [
    {
     "data": {
      "text/latex": [
       "\\[\n",
       "\\left(\n",
       "\\begin{array}{rll|rll}\n",
       "-1\\phantom{.}&\\hspace{-1em}&\\hspace{-1em}\\phantom{\\cdot}&1\\phantom{.}&\\hspace{-1em}&\\hspace{-1em}\\phantom{\\cdot}\\\\\n",
       "\\hline\n",
       "1\\phantom{.}&\\hspace{-1em}&\\hspace{-1em}\\phantom{\\cdot}&0\\phantom{.}&\\hspace{-1em}&\\hspace{-1em}\\phantom{\\cdot}\\\\\n",
       "\\end{array}\\right)\n",
       "\\]"
      ],
      "text/plain": [
       "StateSpace(array([[-1.]]), array([[1.]]), array([[1.]]), array([[0.]]))"
      ]
     },
     "execution_count": 116,
     "metadata": {},
     "output_type": "execute_result"
    }
   ],
   "source": [
    "Pss = ss(P)\n",
    "Pss"
   ]
  },
  {
   "cell_type": "code",
   "execution_count": 118,
   "metadata": {},
   "outputs": [
    {
     "data": {
      "text/latex": [
       "\\[\n",
       "\\left(\n",
       "\\begin{array}{rll|rll}\n",
       "0.&\\hspace{-1em}333&\\hspace{-1em}\\phantom{\\cdot}&0.&\\hspace{-1em}667&\\hspace{-1em}\\phantom{\\cdot}\\\\\n",
       "\\hline\n",
       "0.&\\hspace{-1em}667&\\hspace{-1em}\\phantom{\\cdot}&0.&\\hspace{-1em}333&\\hspace{-1em}\\phantom{\\cdot}\\\\\n",
       "\\end{array}\\right)\n",
       "\\]"
      ],
      "text/plain": [
       "StateSpace(array([[0.33333333]]), array([[0.66666667]]), array([[0.66666667]]), array([[0.33333333]]), 1)"
      ]
     },
     "execution_count": 118,
     "metadata": {},
     "output_type": "execute_result"
    }
   ],
   "source": [
    "Pssd = c2d(Pss, 1, method='tustin')\n",
    "Pssd"
   ]
  },
  {
   "cell_type": "code",
   "execution_count": 123,
   "metadata": {},
   "outputs": [
    {
     "data": {
      "text/latex": [
       "$$\\frac{0.3333 z + 0.3333}{z - 0.3333}\\quad dt = 1$$"
      ],
      "text/plain": [
       "TransferFunction(array([0.33333333, 0.33333333]), array([ 1.        , -0.33333333]), 1)"
      ]
     },
     "execution_count": 123,
     "metadata": {},
     "output_type": "execute_result"
    }
   ],
   "source": [
    "Pssd2 = ss(1/3, 1/3, 4/3, 1/3, 1)\n",
    "P2 = tf(Pssd2)\n",
    "P2"
   ]
  },
  {
   "cell_type": "markdown",
   "metadata": {},
   "source": [
    "### ゼロ次ホールドと双一次変換"
   ]
  },
  {
   "cell_type": "code",
   "execution_count": 5,
   "metadata": {},
   "outputs": [
    {
     "name": "stdout",
     "output_type": "stream",
     "text": [
      "連続時間システム \n",
      "  1\n",
      "-----\n",
      "s + 1\n",
      "\n"
     ]
    }
   ],
   "source": [
    "P = tf([0, 1], [1, 1])\n",
    "print('連続時間システム',P)"
   ]
  },
  {
   "cell_type": "code",
   "execution_count": 6,
   "metadata": {},
   "outputs": [
    {
     "name": "stdout",
     "output_type": "stream",
     "text": [
      "離散時間システム（zoh） \n",
      "  0.1813\n",
      "----------\n",
      "z - 0.8187\n",
      "\n",
      "dt = 0.2\n",
      "\n",
      "離散時間システム（tustin） \n",
      "0.09091 z + 0.09091\n",
      "-------------------\n",
      "    z - 0.8182\n",
      "\n",
      "dt = 0.2\n",
      "\n"
     ]
    }
   ],
   "source": [
    "ts = 0.2\n",
    "\n",
    "Pd1 = c2d(P, ts, method='zoh')\n",
    "print('離散時間システム（zoh）', Pd1)\n",
    "\n",
    "Pd2 = c2d(P, ts, method='tustin')\n",
    "print('離散時間システム（tustin）',Pd2)"
   ]
  },
  {
   "cell_type": "code",
   "execution_count": 7,
   "metadata": {},
   "outputs": [
    {
     "data": {
      "image/png": "[encoded data removed]",
      "text/plain": [
       "<Figure size 432x165.6 with 2 Axes>"
      ]
     },
     "metadata": {
      "needs_background": "light"
     },
     "output_type": "display_data"
    }
   ],
   "source": [
    "fig, ax = plt.subplots(1,2, figsize=(6, 2.3))\n",
    "\n",
    "Tc = np.arange(0, 3, 0.01)\n",
    "y, t = step(P, Tc)\n",
    "ax[0].plot(t, y, ls='-.', label='continuous', color='k')\n",
    "ax[1].plot(t, y, ls='-.', label='continuous', color='k')\n",
    "\n",
    "\n",
    "Td = np.arange(0, 3, ts)\n",
    "y, t = step(Pd1, Td)\n",
    "ax[0].plot(t, y, ls='', marker='o', label='zoh', color='k')\n",
    "\n",
    "y, t = step(Pd2, Td)\n",
    "ax[1].plot(t, y, ls='', marker='o', label='tustin', color='k')\n",
    "\n",
    "for i in [0, 1]:\n",
    "    plot_set(ax[i], 't', 'y', 'best')\n",
    "    ax[i].set_xlim([0, 3])\n",
    "\n",
    "fig.tight_layout()\n",
    "# fig.savefig(\"c2d_step.pdf\", transparent=True, bbox_inches=\"tight\", pad_inches=0.0)"
   ]
  },
  {
   "cell_type": "code",
   "execution_count": 8,
   "metadata": {},
   "outputs": [
    {
     "name": "stderr",
     "output_type": "stream",
     "text": [
      "/Users/minami/opt/anaconda3/lib/python3.8/site-packages/control/timeresp.py:293: UserWarning: return_x specified for a transfer function system. Internal conversion to state space used; results may meaningless.\n",
      "  warnings.warn(\n",
      "/Users/minami/opt/anaconda3/lib/python3.8/site-packages/control/timeresp.py:293: UserWarning: return_x specified for a transfer function system. Internal conversion to state space used; results may meaningless.\n",
      "  warnings.warn(\n",
      "/Users/minami/opt/anaconda3/lib/python3.8/site-packages/control/timeresp.py:293: UserWarning: return_x specified for a transfer function system. Internal conversion to state space used; results may meaningless.\n",
      "  warnings.warn(\n"
     ]
    },
    {
     "data": {
      "image/png": "[encoded data removed]",
      "text/plain": [
       "<Figure size 432x165.6 with 2 Axes>"
      ]
     },
     "metadata": {
      "needs_background": "light"
     },
     "output_type": "display_data"
    }
   ],
   "source": [
    "fig, ax = plt.subplots(1,2, figsize=(6, 2.3))\n",
    "\n",
    "Tc = np.arange(0, 3, 0.01)\n",
    "Uc = 0.5 * np.sin(6*Tc) + 0.5 * np.cos(8*Tc)\n",
    "\n",
    "y, t, x0 = lsim(P, Uc, Tc)\n",
    "ax[0].plot(t, y, ls='-.', label='continuous', color='k')\n",
    "ax[1].plot(t, y, ls='-.', label='continuous', color='k')\n",
    "\n",
    "\n",
    "T = np.arange(0, 3, ts)\n",
    "U = 0.5 * np.sin(6*T) + 0.5 * np.cos(8*T)\n",
    "\n",
    "y, t, x0 = lsim(Pd1, U, T)\n",
    "ax[0].plot(t, y, ls='', marker='o', label='zoh', color='k')\n",
    "\n",
    "y, t, x0 = lsim(Pd2, U, T)\n",
    "ax[1].plot(t, y, ls='', marker='o', label='tustin', color='k')\n",
    "\n",
    "for i in [0, 1]:\n",
    "    plot_set(ax[i], 't', 'y', 'best')\n",
    "    ax[i].set_xlim([0, 3])\n",
    "    ax[i].set_ylim([-0.3, 0.3])\n",
    "\n",
    "fig.tight_layout()\n",
    "# fig.savefig(\"c2d_time.pdf\", transparent=True, bbox_inches=\"tight\", pad_inches=0.0)"
   ]
  },
  {
   "cell_type": "markdown",
   "metadata": {},
   "source": [
    "## 状態フィードバック"
   ]
  },
  {
   "cell_type": "markdown",
   "metadata": {},
   "source": [
    "### 例14.4"
   ]
  },
  {
   "cell_type": "code",
   "execution_count": 9,
   "metadata": {},
   "outputs": [
    {
     "name": "stdout",
     "output_type": "stream",
     "text": [
      "A = [[0.9 1. ]\n",
      "     [0.  1.1]]\n",
      "\n",
      "B = [[0.]\n",
      "     [1.]]\n",
      "\n",
      "C = [[1. 0.]\n",
      "     [0. 1.]]\n",
      "\n",
      "D = [[0.]\n",
      "     [0.]]\n",
      "\n",
      "dt = 0.1\n",
      "\n"
     ]
    }
   ],
   "source": [
    "ts = 0.1\n",
    "A = [[0.9, 1], [0, 1.1]]\n",
    "B = [[0],[1]]\n",
    "C = np.eye(2)\n",
    "D = np.zeros([2,1])\n",
    "P = ss(A,B,C,D, ts)\n",
    "print(P)"
   ]
  },
  {
   "cell_type": "code",
   "execution_count": 10,
   "metadata": {},
   "outputs": [
    {
     "data": {
      "text/plain": [
       "matrix([[-0.02, -0.5 ]])"
      ]
     },
     "execution_count": 10,
     "metadata": {},
     "output_type": "execute_result"
    }
   ],
   "source": [
    "pole = [0.7, 0.8]\n",
    "F = - acker(P.A, P.B, pole)\n",
    "F"
   ]
  },
  {
   "cell_type": "code",
   "execution_count": 11,
   "metadata": {},
   "outputs": [
    {
     "name": "stdout",
     "output_type": "stream",
     "text": [
      "[0.8 0.7]\n"
     ]
    }
   ],
   "source": [
    "G = ss(P.A+P.B*F, P.B, P.C, P.D, ts)\n",
    "print(G.pole())"
   ]
  },
  {
   "cell_type": "code",
   "execution_count": 12,
   "metadata": {},
   "outputs": [
    {
     "data": {
      "image/png": "[encoded data removed]",
      "text/plain": [
       "<Figure size 432x165.6 with 2 Axes>"
      ]
     },
     "metadata": {
      "needs_background": "light"
     },
     "output_type": "display_data"
    }
   ],
   "source": [
    "fig, ax = plt.subplots(1,2, figsize=(6, 2.3))\n",
    "\n",
    "Td = np.arange(0, 2.1, ts)\n",
    "y, t = initial(G, Td, [1, -0.5])\n",
    "ax[0].step(t/ts, y[:,0], where='post', ls='-', lw=1, color='k')\n",
    "\n",
    "ax[1].step(t/ts, y[:,1], where='post', ls='-', lw=1, color='k')\n",
    "\n",
    "plot_set(ax[0], '$k$', '$x_1$')\n",
    "ax[0].set_xlim([0, 2/ts])\n",
    "ax[0].set_ylim([-1.1, 1.1])\n",
    "plot_set(ax[1], '$k$', '$x_2$')\n",
    "ax[1].set_xlim([0, 2/ts])\n",
    "ax[1].set_ylim([-1.1, 1.1])\n",
    "\n",
    "fig.tight_layout()\n",
    "#fig.savefig(\"disc_pole_response.pdf\", transparent=True, bbox_inches=\"tight\", pad_inches=0.0)"
   ]
  },
  {
   "cell_type": "markdown",
   "metadata": {},
   "source": [
    "## 最適レギュレータ"
   ]
  },
  {
   "cell_type": "markdown",
   "metadata": {},
   "source": [
    "### 例14.5"
   ]
  },
  {
   "cell_type": "code",
   "execution_count": 13,
   "metadata": {},
   "outputs": [
    {
     "data": {
      "text/plain": [
       "matrix([[0.44896593, 1.56029484]])"
      ]
     },
     "execution_count": 13,
     "metadata": {},
     "output_type": "execute_result"
    }
   ],
   "source": [
    "Q = np.matrix([[1,0],[0,1]])\n",
    "R = 0.1\n",
    "X, E, F = dare(P.A, P.B, Q, R)\n",
    "F"
   ]
  },
  {
   "cell_type": "code",
   "execution_count": 14,
   "metadata": {},
   "outputs": [
    {
     "data": {
      "text/plain": [
       "array([0.33661977+0.j, 0.1030854 +0.j])"
      ]
     },
     "execution_count": 14,
     "metadata": {},
     "output_type": "execute_result"
    }
   ],
   "source": [
    "E"
   ]
  },
  {
   "cell_type": "code",
   "execution_count": 18,
   "metadata": {},
   "outputs": [
    {
     "data": {
      "text/plain": [
       "matrix([[2.23644233, 1.42321107],\n",
       "        [1.42321107, 2.75297806]])"
      ]
     },
     "execution_count": 18,
     "metadata": {},
     "output_type": "execute_result"
    }
   ],
   "source": [
    "X"
   ]
  },
  {
   "cell_type": "code",
   "execution_count": 15,
   "metadata": {},
   "outputs": [
    {
     "data": {
      "text/plain": [
       "matrix([[-0.44896593, -1.56029484]])"
      ]
     },
     "execution_count": 15,
     "metadata": {},
     "output_type": "execute_result"
    }
   ],
   "source": [
    "FF = -np.linalg.inv(R+P.B.T*X*P.B)*(P.B.T*X*P.A)\n",
    "FF"
   ]
  },
  {
   "cell_type": "code",
   "execution_count": 16,
   "metadata": {},
   "outputs": [
    {
     "name": "stdout",
     "output_type": "stream",
     "text": [
      "[0.33661977 0.1030854 ]\n"
     ]
    }
   ],
   "source": [
    "G = ss(P.A-P.B*F, P.B, P.C, P.D, ts)\n",
    "print(G.pole())"
   ]
  },
  {
   "cell_type": "code",
   "execution_count": 17,
   "metadata": {},
   "outputs": [
    {
     "data": {
      "image/png": "[encoded data removed]",
      "text/plain": [
       "<Figure size 432x165.6 with 2 Axes>"
      ]
     },
     "metadata": {
      "needs_background": "light"
     },
     "output_type": "display_data"
    }
   ],
   "source": [
    "fig, ax = plt.subplots(1,2, figsize=(6, 2.3))\n",
    "\n",
    "Td = np.arange(0, 2.1, ts)\n",
    "y, t = initial(G, Td, [1, -0.5])\n",
    "ax[0].step(t/ts, y[:,0], where='post', ls='-', lw=1, color='k')\n",
    "\n",
    "ax[1].step(t/ts, y[:,1], where='post', ls='-', lw=1, color='k')\n",
    "\n",
    "plot_set(ax[0], '$k$', '$x_1$')\n",
    "ax[0].set_xlim([0, 2/ts])\n",
    "ax[0].set_ylim([-1.1, 1.1])\n",
    "plot_set(ax[1], '$k$', '$x_2$')\n",
    "ax[1].set_xlim([0, 2/ts])\n",
    "ax[1].set_ylim([-1.1, 1.1])\n",
    "\n",
    "fig.tight_layout()\n",
    "#fig.savefig(\"disc_lqr_response.pdf\", transparent=True, bbox_inches=\"tight\", pad_inches=0.0)"
   ]
  },
  {
   "cell_type": "markdown",
   "metadata": {},
   "source": [
    "## 章末問題"
   ]
  },
  {
   "cell_type": "markdown",
   "metadata": {},
   "source": [
    "### 章末問題7"
   ]
  },
  {
   "cell_type": "code",
   "execution_count": 33,
   "metadata": {},
   "outputs": [
    {
     "name": "stdout",
     "output_type": "stream",
     "text": [
      "A = [[0.5 1. ]\n",
      "     [0.  1. ]]\n",
      "\n",
      "B = [[0.]\n",
      "     [1.]]\n",
      "\n",
      "C = [[1. 0.]\n",
      "     [0. 1.]]\n",
      "\n",
      "D = [[0.]\n",
      "     [0.]]\n",
      "\n",
      "dt = 0.1\n",
      "\n"
     ]
    }
   ],
   "source": [
    "ts = 0.1\n",
    "A = [[0.5, 1], [0, 1]]\n",
    "B = [[0],[1]]\n",
    "C = np.eye(2)\n",
    "D = np.zeros([2,1])\n",
    "P = ss(A,B,C,D, ts)\n",
    "print(P)"
   ]
  },
  {
   "cell_type": "code",
   "execution_count": 34,
   "metadata": {},
   "outputs": [
    {
     "data": {
      "text/plain": [
       "array([0.5, 1. ])"
      ]
     },
     "execution_count": 34,
     "metadata": {},
     "output_type": "execute_result"
    }
   ],
   "source": [
    "P.pole()"
   ]
  },
  {
   "cell_type": "code",
   "execution_count": 35,
   "metadata": {},
   "outputs": [
    {
     "data": {
      "text/plain": [
       "matrix([[0., 1.],\n",
       "        [1., 1.]])"
      ]
     },
     "execution_count": 35,
     "metadata": {},
     "output_type": "execute_result"
    }
   ],
   "source": [
    "Vc = ctrb(P.A, P.B)\n",
    "Vc"
   ]
  },
  {
   "cell_type": "code",
   "execution_count": 37,
   "metadata": {},
   "outputs": [
    {
     "data": {
      "text/plain": [
       "matrix([[-0.25, -1.5 ]])"
      ]
     },
     "execution_count": 37,
     "metadata": {},
     "output_type": "execute_result"
    }
   ],
   "source": [
    "regulator_pole = [0,0]\n",
    "F = -acker(P.A, P.B, regulator_pole)\n",
    "F"
   ]
  },
  {
   "cell_type": "markdown",
   "metadata": {},
   "source": [
    "### 章末問題8"
   ]
  },
  {
   "cell_type": "code",
   "execution_count": 19,
   "metadata": {},
   "outputs": [
    {
     "name": "stdout",
     "output_type": "stream",
     "text": [
      "A = [[ 1.  1.]\n",
      "     [ 0. -1.]]\n",
      "\n",
      "B = [[0.]\n",
      "     [1.]]\n",
      "\n",
      "C = [[1. 0.]\n",
      "     [0. 1.]]\n",
      "\n",
      "D = [[0.]\n",
      "     [0.]]\n",
      "\n",
      "dt = 0.1\n",
      "\n"
     ]
    }
   ],
   "source": [
    "ts = 0.1\n",
    "A = [[1, 1], [0, -1]]\n",
    "B = [[0],[1]]\n",
    "C = np.eye(2)\n",
    "D = np.zeros([2,1])\n",
    "P = ss(A,B,C,D, ts)\n",
    "print(P)"
   ]
  },
  {
   "cell_type": "code",
   "execution_count": 20,
   "metadata": {},
   "outputs": [],
   "source": [
    "Q = np.matrix([[0.5,0],[0,0]])\n",
    "R = 1"
   ]
  },
  {
   "cell_type": "code",
   "execution_count": 21,
   "metadata": {},
   "outputs": [],
   "source": [
    "X, E, F = dare(P.A, P.B, Q, R)"
   ]
  },
  {
   "cell_type": "code",
   "execution_count": 22,
   "metadata": {},
   "outputs": [
    {
     "data": {
      "text/plain": [
       "matrix([[2., 1.],\n",
       "        [1., 1.]])"
      ]
     },
     "execution_count": 22,
     "metadata": {},
     "output_type": "execute_result"
    }
   ],
   "source": [
    "X"
   ]
  },
  {
   "cell_type": "code",
   "execution_count": 23,
   "metadata": {},
   "outputs": [
    {
     "data": {
      "text/plain": [
       "array([ 0.70710678+0.j, -0.70710678+0.j])"
      ]
     },
     "execution_count": 23,
     "metadata": {},
     "output_type": "execute_result"
    }
   ],
   "source": [
    "E"
   ]
  },
  {
   "cell_type": "code",
   "execution_count": 24,
   "metadata": {},
   "outputs": [
    {
     "name": "stdout",
     "output_type": "stream",
     "text": [
      "[ 0.70710678 -0.70710678]\n"
     ]
    }
   ],
   "source": [
    "G = ss(P.A-P.B*F, P.B, P.C, P.D, ts)\n",
    "print(G.pole())"
   ]
  },
  {
   "cell_type": "code",
   "execution_count": 25,
   "metadata": {},
   "outputs": [
    {
     "data": {
      "image/png": "[encoded data removed]",
      "text/plain": [
       "<Figure size 432x165.6 with 2 Axes>"
      ]
     },
     "metadata": {
      "needs_background": "light"
     },
     "output_type": "display_data"
    }
   ],
   "source": [
    "fig, ax = plt.subplots(1,2, figsize=(6, 2.3))\n",
    "\n",
    "Td = np.arange(0, 3.1, ts)\n",
    "y, t = initial(G, Td, [1, 0])\n",
    "ax[0].step(t/ts, y[:,0], where='post', ls='-', lw=1, color='k')\n",
    "\n",
    "ax[1].step(t/ts, y[:,1], where='post', ls='-', lw=1, color='k')\n",
    "\n",
    "plot_set(ax[0], '$k$', '$x_1$')\n",
    "ax[0].set_xlim([0, 3/ts])\n",
    "ax[0].set_ylim([-1.1, 1.1])\n",
    "plot_set(ax[1], '$k$', '$x_2$')\n",
    "ax[1].set_xlim([0, 3/ts])\n",
    "ax[1].set_ylim([-1.1, 1.1])\n",
    "\n",
    "fig.tight_layout()"
   ]
  },
  {
   "cell_type": "markdown",
   "metadata": {},
   "source": [
    "## 付録"
   ]
  },
  {
   "cell_type": "code",
   "execution_count": 26,
   "metadata": {},
   "outputs": [],
   "source": [
    "A = [[1,1,0],[1,0,1],[2,1,2]]\n",
    "B = [[1],[0],[1]]\n",
    "C = np.eye(3)\n",
    "D = np.zeros([3,1])\n",
    "\n",
    "ts = 0.1\n",
    "\n",
    "P = ss(A,B,C,D)"
   ]
  },
  {
   "cell_type": "code",
   "execution_count": 27,
   "metadata": {},
   "outputs": [],
   "source": [
    "Q = np.eye(3)\n",
    "R = 100\n",
    "X, E, F = dare(P.A, P.B, Q, R)"
   ]
  },
  {
   "cell_type": "code",
   "execution_count": 28,
   "metadata": {},
   "outputs": [
    {
     "data": {
      "text/plain": [
       "matrix([[269.91859465, 153.35336484, 177.00773162],\n",
       "        [153.35336484,  89.13772697, 100.33774379],\n",
       "        [177.00773162, 100.33774379, 119.07469571]])"
      ]
     },
     "execution_count": 28,
     "metadata": {},
     "output_type": "execute_result"
    }
   ],
   "source": [
    "X"
   ]
  },
  {
   "cell_type": "code",
   "execution_count": 29,
   "metadata": {},
   "outputs": [
    {
     "name": "stdout",
     "output_type": "stream",
     "text": [
      "[-0.52918501  0.64442964  0.34784429]\n"
     ]
    }
   ],
   "source": [
    "G = ss(P.A-P.B*F, P.B, P.C, P.D, ts)\n",
    "print(G.pole())"
   ]
  },
  {
   "cell_type": "code",
   "execution_count": 32,
   "metadata": {},
   "outputs": [
    {
     "data": {
      "image/png": "[encoded data removed]",
      "text/plain": [
       "<Figure size 432x165.6 with 2 Axes>"
      ]
     },
     "metadata": {
      "needs_background": "light"
     },
     "output_type": "display_data"
    }
   ],
   "source": [
    "fig, ax = plt.subplots(1,2, figsize=(6, 2.3))\n",
    "\n",
    "Td = np.arange(0, 1, ts)\n",
    "y, t = initial(G, Td, [0,0,1])\n",
    "# ax[0].step(t, y[:,0], where='post', ls='-', lw=1, color='k')\n",
    "ax[0].plot(t, y[:,0], ls='-', lw=1, color='k')\n",
    "\n",
    "# ax[1].step(t, y[:,1], where='post', ls='-', lw=1, color='k')\n",
    "ax[1].plot(t, y[:,1], ls='-', lw=1, color='k')\n",
    "\n",
    "plot_set(ax[0], '$t$', '$x_1$')\n",
    "ax[0].set_xlim([0, 1])\n",
    "plot_set(ax[1], '$t$', '$x_2$')\n",
    "ax[1].set_xlim([0, 1])\n",
    "\n",
    "fig.tight_layout()"
   ]
  },
  {
   "cell_type": "code",
   "execution_count": null,
   "metadata": {},
   "outputs": [],
   "source": []
  }
 ],
 "metadata": {
  "kernelspec": {
   "display_name": "Python 3",
   "language": "python",
   "name": "python3"
  },
  "language_info": {
   "codemirror_mode": {
    "name": "ipython",
    "version": 3
   },
   "file_extension": ".py",
   "mimetype": "text/x-python",
   "name": "python",
   "nbconvert_exporter": "python",
   "pygments_lexer": "ipython3",
   "version": "3.8.5"
  }
 },
 "nbformat": 4,
 "nbformat_minor": 4
}
