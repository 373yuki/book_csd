{
 "cells": [
  {
   "cell_type": "markdown",
   "metadata": {},
   "source": [
    "# 10章 サーボ系"
   ]
  },
  {
   "cell_type": "code",
   "execution_count": 1,
   "metadata": {},
   "outputs": [],
   "source": [
    "from control.matlab import *\n",
    "import matplotlib.pyplot as plt\n",
    "import numpy as np\n",
    "\n",
    "#plt.rcParams['font.family'] ='sans-serif' #使用するフォント\n",
    "plt.rcParams['font.family'] = 'Times New Roman' # font familyの設定\n",
    "plt.rcParams['mathtext.fontset'] = 'cm' # math fontの設定\n",
    "plt.rcParams['xtick.direction'] = 'in' #x軸の目盛線が内向き('in')か外向き('out')か双方向か('inout')\n",
    "plt.rcParams['ytick.direction'] = 'in' #y軸の目盛線が内向き('in')か外向き('out')か双方向か('inout')\n",
    "plt.rcParams['xtick.major.width'] = 1.0 #x軸主目盛り線の線幅\n",
    "plt.rcParams['ytick.major.width'] = 1.0 #y軸主目盛り線の線幅\n",
    "plt.rcParams['font.size'] = 11 #フォントの大きさ\n",
    "plt.rcParams['axes.linewidth'] = 0.5 # 軸の線幅edge linewidth。囲みの太さ\n",
    "plt.rcParams['mathtext.default'] = 'it'#'regular'\n",
    "plt.rcParams['axes.xmargin'] = '0'\n",
    "plt.rcParams['axes.ymargin'] = '0.05'\n",
    "plt.rcParams['savefig.facecolor'] = 'None'\n",
    "plt.rcParams['savefig.edgecolor'] = 'None'\n",
    "\n",
    "plt.rcParams[\"legend.fancybox\"] = True     # 丸角\n",
    "# plt.rcParams[\"legend.framealpha\"] = 1    # 透明度の指定、0で塗りつぶしなし\n",
    "# plt.rcParams[\"legend.edgecolor\"] = 'gray' # edgeの色を変更\n",
    "plt.rcParams[\"legend.handlelength\"] = 1.8  # 凡例の線の長さを調節\n",
    "plt.rcParams[\"legend.labelspacing\"] = 0.4  # 垂直方向（縦）の距離の各凡例の距離\n",
    "plt.rcParams[\"legend.handletextpad\"] = 0.7 # 凡例の線と文字の距離の長さ\n",
    "plt.rcParams[\"legend.markerscale\"] = 1.0   # 点がある場合のmarker scale"
   ]
  },
  {
   "cell_type": "code",
   "execution_count": 2,
   "metadata": {},
   "outputs": [],
   "source": [
    "def linestyle_generator():\n",
    "    linestyle = ['-', '--', '-.', ':']\n",
    "    lineID = 0\n",
    "    while True:\n",
    "        yield linestyle[lineID]\n",
    "        lineID = (lineID + 1) % len(linestyle)"
   ]
  },
  {
   "cell_type": "code",
   "execution_count": 3,
   "metadata": {},
   "outputs": [],
   "source": [
    "def plot_set(fig_ax, *args):\n",
    "    fig_ax.set_xlabel(args[0])\n",
    "    fig_ax.set_ylabel(args[1])\n",
    "    fig_ax.grid(ls=':', lw=0.5)\n",
    "    if len(args)==3:\n",
    "        fig_ax.legend(loc=args[2])"
   ]
  },
  {
   "cell_type": "code",
   "execution_count": 4,
   "metadata": {},
   "outputs": [],
   "source": [
    "def bodeplot_set(fig_ax, *args):\n",
    "    fig_ax[0].grid(which=\"both\", ls=':', lw=0.5)\n",
    "    fig_ax[0].set_ylabel('Gain [dB]')\n",
    "\n",
    "    fig_ax[1].grid(which=\"both\", ls=':', lw=0.5)\n",
    "    fig_ax[1].set_xlabel('$\\omega$ [rad/s]')\n",
    "    fig_ax[1].set_ylabel('Phase [deg]')\n",
    "    \n",
    "    if len(args) > 0:\n",
    "        fig_ax[1].legend(loc=args[0])\n",
    "    if len(args) > 1:\n",
    "        fig_ax[0].legend(loc=args[1])"
   ]
  },
  {
   "cell_type": "markdown",
   "metadata": {},
   "source": [
    "## サーボ系"
   ]
  },
  {
   "cell_type": "code",
   "execution_count": 5,
   "metadata": {},
   "outputs": [
    {
     "name": "stdout",
     "output_type": "stream",
     "text": [
      "A = [[ 0.  1.]\n",
      "     [ 0. -1.]]\n",
      "\n",
      "B = [[0.]\n",
      "     [1.]]\n",
      "\n",
      "C = [[1. 0.]\n",
      "     [0. 1.]]\n",
      "\n",
      "D = [[0.]\n",
      "     [0.]]\n",
      "\n"
     ]
    }
   ],
   "source": [
    "A = '0 1; 0 -1'\n",
    "B = '0; 1'\n",
    "C = '1 0 ; 0 1'\n",
    "D = '0; 0'\n",
    "P = ss(A, B, C, D)\n",
    "print(P)\n",
    "\n",
    "C1 = np.matrix([1,0])"
   ]
  },
  {
   "cell_type": "markdown",
   "metadata": {},
   "source": [
    "### 例10.1: フィードフォワード項"
   ]
  },
  {
   "cell_type": "code",
   "execution_count": 6,
   "metadata": {},
   "outputs": [],
   "source": [
    "pole = [-3+3j, -3-3j]\n",
    "F = -acker(P.A, P.B, pole)"
   ]
  },
  {
   "cell_type": "markdown",
   "metadata": {},
   "source": [
    "外乱がない場合"
   ]
  },
  {
   "cell_type": "code",
   "execution_count": 7,
   "metadata": {},
   "outputs": [
    {
     "name": "stdout",
     "output_type": "stream",
     "text": [
      "[[18.]]\n"
     ]
    },
    {
     "data": {
      "text/plain": [
       "(-0.5, 2.0)"
      ]
     },
     "execution_count": 7,
     "metadata": {},
     "output_type": "execute_result"
    },
    {
     "data": {
      "image/png": "[encoded data removed]",
      "text/plain": [
       "<Figure size 216x165.6 with 1 Axes>"
      ]
     },
     "metadata": {
      "needs_background": "light"
     },
     "output_type": "display_data"
    }
   ],
   "source": [
    "G1 = np.r_[ np.c_[P.A, P.B], np.c_[C1, 0] ]\n",
    "G1inv = np.linalg.inv(G1)\n",
    "G2 = np.c_[ np.zeros((1,2)), 1]\n",
    "\n",
    "G = np.c_[-F, 1] * G1inv * G2.T\n",
    "print(G)\n",
    "\n",
    "Acl = P.A + P.B*F\n",
    "Pfb = ss(Acl, P.B, P.C, P.D)\n",
    "\n",
    "Td = np.arange(0, 5, 0.01)\n",
    "rd = 1 * (Td>0)\n",
    "\n",
    "v = G[0,0]*rd\n",
    "\n",
    "x, t, _ = lsim(Pfb, v, Td, [-0.3, 0.4])\n",
    "\n",
    "fig, ax = plt.subplots(figsize=(3, 2.3))\n",
    "\n",
    "ax.plot(t, x[:,0], label = '$x_1$', c='k', lw=1)\n",
    "# ax.plot(t, x[:,1], ls = '-.', label = '$x_2$', c='k', lw=1)\n",
    "plot_set(ax, '$t$', '$y$')\n",
    "ax.set_xticks([0,1,2,3,4,5])\n",
    "ax.set_ylim(-0.5,2)\n",
    "\n",
    "# fig.savefig(\"sf_serfo_ff.pdf\", transparent=True, bbox_inches=\"tight\", pad_inches=0.0)"
   ]
  },
  {
   "cell_type": "markdown",
   "metadata": {},
   "source": [
    "外乱がある場合"
   ]
  },
  {
   "cell_type": "code",
   "execution_count": 8,
   "metadata": {},
   "outputs": [
    {
     "data": {
      "text/plain": [
       "(-0.5, 2.0)"
      ]
     },
     "execution_count": 8,
     "metadata": {},
     "output_type": "execute_result"
    },
    {
     "data": {
      "image/png": "[encoded data removed]",
      "text/plain": [
       "<Figure size 216x165.6 with 1 Axes>"
      ]
     },
     "metadata": {
      "needs_background": "light"
     },
     "output_type": "display_data"
    }
   ],
   "source": [
    "Td = np.arange(0, 5, 0.01)\n",
    "rd = 1 * (Td>0)\n",
    "dd = 3 * (Td>3)\n",
    "\n",
    "v = G[0,0]*rd + dd\n",
    "\n",
    "x, t, _ = lsim(Pfb, v, Td, [-0.3, 0.4])\n",
    "\n",
    "fig, ax = plt.subplots(figsize=(3, 2.3))\n",
    "\n",
    "ax.plot(t, x[:,0], label = '$x_1$', c='k', lw=1)\n",
    "# ax.plot(t, x[:,1], ls = '-.', label = '$x_2$', c='k', lw=1)\n",
    "plot_set(ax, '$t$', '$y$')\n",
    "ax.set_xticks([0,1,2,3,4,5])\n",
    "ax.set_ylim(-0.5,2)\n",
    "\n",
    "#fig.savefig(\"sf_serfo_ff_dist.pdf\", transparent=True, bbox_inches=\"tight\", pad_inches=0.0)"
   ]
  },
  {
   "cell_type": "markdown",
   "metadata": {},
   "source": [
    "### 例10.2: 積分型サーボ"
   ]
  },
  {
   "cell_type": "code",
   "execution_count": 9,
   "metadata": {},
   "outputs": [
    {
     "data": {
      "text/plain": [
       "matrix([[-48., -10.,  90.]])"
      ]
     },
     "execution_count": 9,
     "metadata": {},
     "output_type": "execute_result"
    }
   ],
   "source": [
    "Abar = np.r_[ np.c_[P.A, np.zeros((2,1))], -np.c_[ C1, 0 ] ]\n",
    "Bbar = np.c_[ P.B.T, 0 ].T\n",
    "Cbar = np.c_[ C1, 0 ]\n",
    "\n",
    "Pole = [-3-3j, -3+3j, -5]\n",
    "F = -acker(Abar, Bbar, Pole)\n",
    "F"
   ]
  },
  {
   "cell_type": "code",
   "execution_count": 10,
   "metadata": {},
   "outputs": [
    {
     "data": {
      "text/plain": [
       "matrix([[-48., -10.,  90.]])"
      ]
     },
     "execution_count": 10,
     "metadata": {},
     "output_type": "execute_result"
    }
   ],
   "source": [
    "Abar = np.block([ [P.A, np.zeros((2,1))], [ -C1, 0 ] ])\n",
    "Bbar = np.block([ P.B.T, 0 ]).T\n",
    "Cbar = np.block([ C1, 0 ])\n",
    "\n",
    "Pole = [-3-3j, -3+3j, -5]\n",
    "F = -acker(Abar, Bbar, Pole)\n",
    "F"
   ]
  },
  {
   "cell_type": "code",
   "execution_count": 11,
   "metadata": {},
   "outputs": [
    {
     "data": {
      "text/plain": [
       "(-0.5, 2.0)"
      ]
     },
     "execution_count": 11,
     "metadata": {},
     "output_type": "execute_result"
    },
    {
     "data": {
      "image/png": "[encoded data removed]",
      "text/plain": [
       "<Figure size 216x165.6 with 1 Axes>"
      ]
     },
     "metadata": {
      "needs_background": "light"
     },
     "output_type": "display_data"
    }
   ],
   "source": [
    "Acl = Abar + Bbar*F\n",
    "B2 = np.matrix([[0],[0],[1]])\n",
    "Pfb = ss(Acl, np.c_[Bbar,B2], np.eye(3), np.zeros((3,2)))\n",
    "\n",
    "Td = np.arange(0, 5, 0.01)\n",
    "dd = 3 * (Td>3)\n",
    "x, t, _ = lsim(Pfb, np.c_[dd, rd], Td, [-0.3, 0.4, 0])\n",
    " \n",
    "fig, ax = plt.subplots(figsize=(3, 2.3))\n",
    "ax.plot(t, x[:,0], label = '$x_1$', c='k', lw=1)\n",
    "# ax.plot(t, x[:,1], ls = '-.',label = '$x_2$')\n",
    "# ax.plot(t, Ud, c='k')\n",
    "plot_set(ax, '$t$', '$y$')\n",
    "ax.set_xticks([0,1,2,3,4,5])\n",
    "ax.set_ylim(-0.5,2)\n",
    "\n",
    "#fig.savefig(\"servo.pdf\", transparent=True, bbox_inches=\"tight\", pad_inches=0.0)"
   ]
  },
  {
   "cell_type": "markdown",
   "metadata": {},
   "source": [
    "### 例10.3: 最適サーボ系"
   ]
  },
  {
   "cell_type": "code",
   "execution_count": 12,
   "metadata": {},
   "outputs": [],
   "source": [
    "Q = [ [100, 0, 0], [0, 10, 0], [0, 0, 1000]]\n",
    "R = 1\n",
    "\n",
    "Fbar, X, E = lqr(Abar, Bbar, Q, R)\n",
    "Fbar = -Fbar"
   ]
  },
  {
   "cell_type": "code",
   "execution_count": 13,
   "metadata": {},
   "outputs": [],
   "source": [
    "X11=X[0:2,0:2]\n",
    "X12=X[0:2,2]\n",
    "X22=X[2,2]"
   ]
  },
  {
   "cell_type": "code",
   "execution_count": null,
   "metadata": {},
   "outputs": [],
   "source": [
    "F = Fbar[0,0:2]\n",
    "# FF = -(1/R)*P.B.T*X11\n",
    "G = Fbar[0,2]\n",
    "# GG = -(1/R)*P.B.T*X12"
   ]
  },
  {
   "cell_type": "code",
   "execution_count": 15,
   "metadata": {},
   "outputs": [],
   "source": [
    "H1 = np.r_[ np.c_[P.A, P.B], np.c_[C1, 0] ]\n",
    "H1inv = np.linalg.inv(H1)\n",
    "H2 = np.c_[ np.zeros((1,2)), 1]\n",
    "\n",
    "H = np.c_[-F+G*(1/X22)*X12.T, 1] * H1inv * H2.T"
   ]
  },
  {
   "cell_type": "code",
   "execution_count": 16,
   "metadata": {},
   "outputs": [],
   "source": [
    "x0 = np.matrix([-0.3, 0.4])\n",
    "xi0 = - G*(1/X22)*X12.T * x0.T - G*0"
   ]
  },
  {
   "cell_type": "code",
   "execution_count": 17,
   "metadata": {},
   "outputs": [
    {
     "data": {
      "text/plain": [
       "(-0.5, 2.0)"
      ]
     },
     "execution_count": 17,
     "metadata": {},
     "output_type": "execute_result"
    },
    {
     "data": {
      "image/png": "[encoded data removed]",
      "text/plain": [
       "<Figure size 216x165.6 with 1 Axes>"
      ]
     },
     "metadata": {
      "needs_background": "light"
     },
     "output_type": "display_data"
    }
   ],
   "source": [
    "Acl = Abar + Bbar*Fbar\n",
    "B2 = np.matrix([[0],[0],[1]])\n",
    "Pfb = ss(Acl, np.c_[Bbar, B2], np.eye(3), np.zeros((3,2)))\n",
    "\n",
    "Td = np.arange(0, 5, 0.01)\n",
    "rd = 1 * (Td>0)\n",
    "dd = -0.5 * (Td>3)\n",
    "xi0d = xi0 * (Td>=0)\n",
    "\n",
    "v = np.array(H[0,0]*(rd+dd) + xi0d)\n",
    "\n",
    "x, t, _ = lsim(Pfb, np.c_[v[0,:],rd+dd], Td, [-0.3, 0.4, 0])\n",
    " \n",
    "fig, ax = plt.subplots(figsize=(3, 2.3))\n",
    "ax.plot(t, x[:,0], c='k', lw=1, label='Optimal servo')\n",
    "#ax.plot(t, x[:,2], ls = '-.',label = '$x_2$')\n",
    "# ax.plot(t, Ud, c='k')\n",
    "\n",
    "# 初期値の項がない場合\n",
    "v = np.array(H[0,0]*(rd+dd) + 0*xi0d)\n",
    "x, t, _ = lsim(Pfb, np.c_[v[0,:],rd+dd], Td, [-0.3, 0.4, 0])\n",
    "ax.plot(t, x[:,0], c='k', lw=1, ls='-.', label='w/o ξ0')\n",
    "\n",
    "# フィードフォワード項がない場合\n",
    "v = np.array(0*H[0,0]*(rd+dd) + xi0d)\n",
    "x, t, _ = lsim(Pfb, np.c_[v[0,:],rd+dd], Td, [-0.3, 0.4, 0])\n",
    "ax.plot(t, x[:,0], c='k', lw =1, ls='--', label='w/o $Hr$')\n",
    "\n",
    "plot_set(ax, '$t$', '$y$', 'best')\n",
    "ax.set_xticks([0,1,2,3,4,5])\n",
    "ax.set_ylim(-0.5,2)\n",
    "\n",
    "#fig.savefig(\"sim2_optimal_servo.pdf\", transparent=True, bbox_inches=\"tight\", pad_inches=0.0)"
   ]
  },
  {
   "cell_type": "code",
   "execution_count": 18,
   "metadata": {},
   "outputs": [
    {
     "data": {
      "text/plain": [
       "(-0.5, 2.0)"
      ]
     },
     "execution_count": 18,
     "metadata": {},
     "output_type": "execute_result"
    },
    {
     "data": {
      "image/png": "[encoded data removed]",
      "text/plain": [
       "<Figure size 216x165.6 with 1 Axes>"
      ]
     },
     "metadata": {
      "needs_background": "light"
     },
     "output_type": "display_data"
    }
   ],
   "source": [
    "Acl = Abar + Bbar*Fbar\n",
    "B2 = np.matrix([[0],[0],[1]])\n",
    "Pfb = ss(Acl, np.c_[Bbar, B2], np.eye(3), np.zeros((3,2)))\n",
    "\n",
    "Td = np.arange(0, 5, 0.01)\n",
    "rd = 1 * (Td>0)\n",
    "dd = 3 * (Td>3)\n",
    "xi0d = xi0 * (Td>=0)\n",
    "\n",
    "v = np.array(H[0,0]*rd + xi0d)\n",
    "\n",
    "x, t, _ = lsim(Pfb, np.c_[dd+v[0,:],rd], Td, [-0.3, 0.4, 0])\n",
    " \n",
    "fig, ax = plt.subplots(figsize=(3, 2.3))\n",
    "ax.plot(t, x[:,0], c='k', lw=1, label='Optimal servo')\n",
    "#ax.plot(t, x[:,2], ls = '-.',label = '$x_2$')\n",
    "# ax.plot(t, Ud, c='k')\n",
    "\n",
    "# 初期値の項がない場合\n",
    "v = np.array(H[0,0]*rd + 0*xi0d)\n",
    "x, t, _ = lsim(Pfb, np.c_[dd+v[0,:],rd], Td, [-0.3, 0.4, 0])\n",
    "ax.plot(t, x[:,0], c='k', lw=1, ls='-.', label='w/o ξ0')\n",
    "\n",
    "# 初期値の項とフィードフォワード項がない場合\n",
    "v = np.array(0*H[0,0]*rd + xi0d)\n",
    "x, t, _ = lsim(Pfb, np.c_[dd+v[0,:],rd], Td, [-0.3, 0.4, 0])\n",
    "ax.plot(t, x[:,0], c='k', lw =1, ls='--', label='w/o $Hr$')\n",
    "\n",
    "plot_set(ax, '$t$', '$y$', 'best')\n",
    "ax.set_xticks([0,1,2,3,4,5])\n",
    "ax.set_ylim(-0.5,2)\n",
    "\n",
    "# fig.savefig(\"sim_optimal_servo.pdf\", transparent=True, bbox_inches=\"tight\", pad_inches=0.0)"
   ]
  },
  {
   "cell_type": "code",
   "execution_count": 19,
   "metadata": {},
   "outputs": [
    {
     "name": "stdout",
     "output_type": "stream",
     "text": [
      "F= [[-24.24478689  -6.71294845]]\n",
      "G= 31.622776601677565\n",
      "H= 14.184692456581072\n",
      "xi0= -2.496303364255667\n"
     ]
    }
   ],
   "source": [
    "print('F=',F)\n",
    "print('G=',G)\n",
    "print('H=',H[0,0])\n",
    "print('xi0=', xi0[0,0])"
   ]
  },
  {
   "cell_type": "markdown",
   "metadata": {},
   "source": [
    "## 章末問題"
   ]
  },
  {
   "cell_type": "code",
   "execution_count": 20,
   "metadata": {},
   "outputs": [
    {
     "data": {
      "text/plain": [
       "array([-1.+1.j, -1.-1.j, -1.+0.j])"
      ]
     },
     "execution_count": 20,
     "metadata": {},
     "output_type": "execute_result"
    }
   ],
   "source": [
    "# 章末問題3\n",
    "Acl = np.matrix([[0, 1, 0], [-2, -3, -2], [1, 1, 0]])\n",
    "np.linalg.eigvals(Acl)"
   ]
  },
  {
   "cell_type": "code",
   "execution_count": 21,
   "metadata": {},
   "outputs": [
    {
     "name": "stdout",
     "output_type": "stream",
     "text": [
      "[[0.5]]\n",
      "[[0.5]]\n"
     ]
    }
   ],
   "source": [
    "# 章末問題4\n",
    "A = '0 1; 2 -1'\n",
    "B = '0; 1'\n",
    "C = '2 1'\n",
    "D = '0'\n",
    "P = ss(A, B, C, D)\n",
    "F = np.matrix([-3, -1])\n",
    "\n",
    "G = -1/(P.C * np.linalg.inv(P.A+P.B*F) * P.B)\n",
    "print(G)\n",
    "\n",
    "Abar = np.block([ [P.A, P.B], [ P.C, 0 ] ])\n",
    "Bbar = np.block([ np.zeros([1,2]), 1 ]).T\n",
    "Cbar = np.block([ -F, 1 ])\n",
    "G2 = Cbar*np.linalg.inv(Abar)*Bbar\n",
    "print(G2)"
   ]
  },
  {
   "cell_type": "code",
   "execution_count": 22,
   "metadata": {},
   "outputs": [
    {
     "name": "stdout",
     "output_type": "stream",
     "text": [
      "[-4.+0.j]\n"
     ]
    },
    {
     "data": {
      "text/plain": [
       "matrix([[-0.5 , -0.25,  0.25]])"
      ]
     },
     "execution_count": 22,
     "metadata": {},
     "output_type": "execute_result"
    }
   ],
   "source": [
    "# 章末問題5\n",
    "A = '0 1; -1 -2'\n",
    "B = '1; 2'\n",
    "C = '1 0'\n",
    "D = '0'\n",
    "P = ss(A, B, C, D)\n",
    "print(P.zero())\n",
    "\n",
    "Abar = np.block([ [P.A, np.zeros((2,1))], [ -P.C, 0 ] ])\n",
    "Bbar = np.block([ P.B.T, 0 ]).T\n",
    "Cbar = np.block([ P.C, 0 ])\n",
    "\n",
    "Pole = [-1, -1, -1]\n",
    "F = -acker(Abar, Bbar, Pole)\n",
    "F"
   ]
  },
  {
   "cell_type": "code",
   "execution_count": 26,
   "metadata": {},
   "outputs": [
    {
     "data": {
      "text/latex": [
       "$$\\frac{s + 4}{s^2 + 2 s + 1}$$"
      ],
      "text/plain": [
       "TransferFunction(array([1., 4.]), array([1., 2., 1.]))"
      ]
     },
     "execution_count": 26,
     "metadata": {},
     "output_type": "execute_result"
    }
   ],
   "source": [
    "# -4が零点であることを確認する１\n",
    "tf(P)"
   ]
  },
  {
   "cell_type": "code",
   "execution_count": 27,
   "metadata": {},
   "outputs": [
    {
     "data": {
      "text/plain": [
       "matrix([[ 4.,  1.,  1.],\n",
       "        [-1.,  2.,  2.],\n",
       "        [ 1.,  0.,  0.]])"
      ]
     },
     "execution_count": 27,
     "metadata": {},
     "output_type": "execute_result"
    }
   ],
   "source": [
    "# -4が零点であることを確認する２\n",
    "M = np.block([ [-(-4*np.eye(2) - P.A), P.B], [ P.C, 0 ] ])\n",
    "M"
   ]
  },
  {
   "cell_type": "code",
   "execution_count": 28,
   "metadata": {},
   "outputs": [
    {
     "data": {
      "text/plain": [
       "2"
      ]
     },
     "execution_count": 28,
     "metadata": {},
     "output_type": "execute_result"
    }
   ],
   "source": [
    "np.linalg.matrix_rank(M)"
   ]
  },
  {
   "cell_type": "code",
   "execution_count": null,
   "metadata": {},
   "outputs": [],
   "source": []
  }
 ],
 "metadata": {
  "kernelspec": {
   "display_name": "Python 3 (ipykernel)",
   "language": "python",
   "name": "python3"
  },
  "language_info": {
   "codemirror_mode": {
    "name": "ipython",
    "version": 3
   },
   "file_extension": ".py",
   "mimetype": "text/x-python",
   "name": "python",
   "nbconvert_exporter": "python",
   "pygments_lexer": "ipython3",
   "version": "3.8.5"
  }
 },
 "nbformat": 4,
 "nbformat_minor": 4
}
