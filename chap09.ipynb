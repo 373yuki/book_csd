{
 "cells": [
  {
   "cell_type": "markdown",
   "metadata": {},
   "source": [
    "# 9章 最適レギュレータ"
   ]
  },
  {
   "cell_type": "code",
   "execution_count": 2,
   "metadata": {},
   "outputs": [],
   "source": [
    "from control.matlab import *\n",
    "import matplotlib.pyplot as plt\n",
    "import numpy as np\n",
    "\n",
    "#plt.rcParams['font.family'] ='sans-serif' #使用するフォント\n",
    "plt.rcParams['font.family'] = 'Times New Roman' # font familyの設定\n",
    "plt.rcParams['mathtext.fontset'] = 'cm' # math fontの設定\n",
    "plt.rcParams['xtick.direction'] = 'in' #x軸の目盛線が内向き('in')か外向き('out')か双方向か('inout')\n",
    "plt.rcParams['ytick.direction'] = 'in' #y軸の目盛線が内向き('in')か外向き('out')か双方向か('inout')\n",
    "plt.rcParams['xtick.major.width'] = 1.0 #x軸主目盛り線の線幅\n",
    "plt.rcParams['ytick.major.width'] = 1.0 #y軸主目盛り線の線幅\n",
    "plt.rcParams['font.size'] = 11 #フォントの大きさ\n",
    "plt.rcParams['axes.linewidth'] = 0.5 # 軸の線幅edge linewidth。囲みの太さ\n",
    "plt.rcParams['mathtext.default'] = 'it'#'regular'\n",
    "plt.rcParams['axes.xmargin'] = '0'\n",
    "plt.rcParams['axes.ymargin'] = '0.05'\n",
    "plt.rcParams['savefig.facecolor'] = 'None'\n",
    "plt.rcParams['savefig.edgecolor'] = 'None'\n",
    "\n",
    "plt.rcParams[\"legend.fancybox\"] = True     # 丸角\n",
    "# plt.rcParams[\"legend.framealpha\"] = 1    # 透明度の指定、0で塗りつぶしなし\n",
    "# plt.rcParams[\"legend.edgecolor\"] = 'gray' # edgeの色を変更\n",
    "plt.rcParams[\"legend.handlelength\"] = 1.8  # 凡例の線の長さを調節\n",
    "plt.rcParams[\"legend.labelspacing\"] = 0.4  # 垂直方向（縦）の距離の各凡例の距離\n",
    "plt.rcParams[\"legend.handletextpad\"] = 0.7 # 凡例の線と文字の距離の長さ\n",
    "plt.rcParams[\"legend.markerscale\"] = 1.0   # 点がある場合のmarker scale"
   ]
  },
  {
   "cell_type": "code",
   "execution_count": 3,
   "metadata": {},
   "outputs": [],
   "source": [
    "def linestyle_generator():\n",
    "    linestyle = ['-', '--', '-.', ':']\n",
    "    lineID = 0\n",
    "    while True:\n",
    "        yield linestyle[lineID]\n",
    "        lineID = (lineID + 1) % len(linestyle)"
   ]
  },
  {
   "cell_type": "code",
   "execution_count": 4,
   "metadata": {},
   "outputs": [],
   "source": [
    "def plot_set(fig_ax, *args):\n",
    "    fig_ax.set_xlabel(args[0])\n",
    "    fig_ax.set_ylabel(args[1])\n",
    "    fig_ax.grid(ls=':', lw=0.5)\n",
    "    if len(args)==3:\n",
    "        fig_ax.legend(loc=args[2])"
   ]
  },
  {
   "cell_type": "code",
   "execution_count": 5,
   "metadata": {},
   "outputs": [],
   "source": [
    "def bodeplot_set(fig_ax, *args):\n",
    "    fig_ax[0].grid(which=\"both\", ls=':', lw=0.5)\n",
    "    fig_ax[0].set_ylabel('Gain [dB]')\n",
    "\n",
    "    fig_ax[1].grid(which=\"both\", ls=':', lw=0.5)\n",
    "    fig_ax[1].set_xlabel('$\\omega$ [rad/s]')\n",
    "    fig_ax[1].set_ylabel('Phase [deg]')\n",
    "    \n",
    "    if len(args) > 0:\n",
    "        fig_ax[1].legend(loc=args[0])\n",
    "    if len(args) > 1:\n",
    "        fig_ax[0].legend(loc=args[1])"
   ]
  },
  {
   "cell_type": "markdown",
   "metadata": {},
   "source": [
    "## 最適レギュレータ"
   ]
  },
  {
   "cell_type": "markdown",
   "metadata": {},
   "source": [
    "### 制御対象"
   ]
  },
  {
   "cell_type": "code",
   "execution_count": 13,
   "metadata": {},
   "outputs": [
    {
     "name": "stdout",
     "output_type": "stream",
     "text": [
      "A = [[ 0.  1.]\n",
      "     [ 0. -1.]]\n",
      "\n",
      "B = [[0.]\n",
      "     [1.]]\n",
      "\n",
      "C = [[1. 0.]\n",
      "     [0. 1.]]\n",
      "\n",
      "D = [[0.]\n",
      "     [0.]]\n",
      "\n"
     ]
    }
   ],
   "source": [
    "A = '0 1; 0 -1'\n",
    "B = '0; 1'\n",
    "C = '1 0 ; 0 1'\n",
    "D = '0; 0'\n",
    "P = ss(A, B, C, D)\n",
    "print(P)"
   ]
  },
  {
   "cell_type": "markdown",
   "metadata": {},
   "source": [
    "### 例9.3"
   ]
  },
  {
   "cell_type": "code",
   "execution_count": 14,
   "metadata": {},
   "outputs": [
    {
     "name": "stdout",
     "output_type": "stream",
     "text": [
      "--- フィードバックゲイン ---\n",
      "[[-1. -1.]]\n",
      "[[-1. -1.]]\n",
      "--- 閉ループ極 ---\n",
      "[-1.+8.820093e-09j -1.-8.820093e-09j]\n",
      "[-1.+1.49011612e-08j -1.-1.49011612e-08j]\n"
     ]
    }
   ],
   "source": [
    "Q = np.array([ [1, 0], [0, 1]])\n",
    "R = 1\n",
    "\n",
    "F, X, E = lqr(P.A, P.B, Q, R)\n",
    "F = -F\n",
    "\n",
    "print('--- フィードバックゲイン ---')\n",
    "print(F)\n",
    "print(-(1/R)*P.B.T*X)\n",
    "print('--- 閉ループ極 ---')\n",
    "print(E)\n",
    "print(np.linalg.eigvals(P.A+P.B*F))"
   ]
  },
  {
   "cell_type": "code",
   "execution_count": 15,
   "metadata": {},
   "outputs": [
    {
     "data": {
      "text/plain": [
       "matrix([[2., 1.],\n",
       "        [1., 1.]])"
      ]
     },
     "execution_count": 15,
     "metadata": {},
     "output_type": "execute_result"
    }
   ],
   "source": [
    "X"
   ]
  },
  {
   "cell_type": "code",
   "execution_count": 16,
   "metadata": {},
   "outputs": [
    {
     "data": {
      "image/png": "[encoded data removed]",
      "text/plain": [
       "<Figure size 216x165.6 with 1 Axes>"
      ]
     },
     "metadata": {
      "needs_background": "light"
     },
     "output_type": "display_data"
    }
   ],
   "source": [
    "Acl = P.A + P.B*F\n",
    "Pfb = ss(Acl, P.B, P.C, P.D)\n",
    "\n",
    "tdata = np.arange(0, 5, 0.01)\n",
    "xini, tini = initial(Pfb, tdata, [-0.3, 0.4]) #ゼロ入力応答\n",
    "\n",
    "fig, ax = plt.subplots(figsize=(3, 2.3))\n",
    "\n",
    "ax.plot(tini, xini[:,0], label = '$x_1$', c='k', lw=1)\n",
    "ax.plot(tini, xini[:,1], ls = '-.', label = '$x_2$', c='k', lw=1)\n",
    "\n",
    "plot_set(ax, '$t$', '$x$', 'best')\n",
    "\n",
    "# fig.savefig(\"sf_lqr.pdf\", transparent=True, bbox_inches=\"tight\", pad_inches=0.0)"
   ]
  },
  {
   "cell_type": "code",
   "execution_count": 17,
   "metadata": {},
   "outputs": [
    {
     "name": "stdout",
     "output_type": "stream",
     "text": [
      "--- フィードバックゲイン ---\n",
      "[[-10.          -3.69041576]]\n",
      "[[-10.          -3.69041576]]\n",
      "--- 閉ループ極 ---\n",
      "[-2.345208+2.1213202j -2.345208-2.1213202j]\n",
      "[-2.34520788+2.12132034j -2.34520788-2.12132034j]\n"
     ]
    }
   ],
   "source": [
    "Q = np.array([ [100, 0], [0, 1]])\n",
    "R = 1\n",
    "\n",
    "F, X, E = lqr(P.A, P.B, Q, R)\n",
    "F = -F\n",
    "\n",
    "print('--- フィードバックゲイン ---')\n",
    "print(F)\n",
    "print(-(1/R)*P.B.T*X)\n",
    "print('--- 閉ループ極 ---')\n",
    "print(E)\n",
    "print(np.linalg.eigvals(P.A+P.B*F))"
   ]
  },
  {
   "cell_type": "code",
   "execution_count": 18,
   "metadata": {},
   "outputs": [
    {
     "data": {
      "text/plain": [
       "matrix([[46.9041576 , 10.        ],\n",
       "        [10.        ,  3.69041576]])"
      ]
     },
     "execution_count": 18,
     "metadata": {},
     "output_type": "execute_result"
    }
   ],
   "source": [
    "X"
   ]
  },
  {
   "cell_type": "code",
   "execution_count": 19,
   "metadata": {},
   "outputs": [
    {
     "data": {
      "image/png": "[encoded data removed]",
      "text/plain": [
       "<Figure size 216x165.6 with 1 Axes>"
      ]
     },
     "metadata": {
      "needs_background": "light"
     },
     "output_type": "display_data"
    }
   ],
   "source": [
    "Acl = P.A + P.B*F\n",
    "Pfb = ss(Acl, P.B, P.C, P.D)\n",
    "\n",
    "tdata = np.arange(0, 5, 0.01)\n",
    "xini, tini = initial(Pfb, tdata, [-0.3, 0.4]) #ゼロ入力応答\n",
    "\n",
    "fig, ax = plt.subplots(figsize=(3, 2.3))\n",
    "\n",
    "ax.plot(tini, xini[:,0], label = '$x_1$', c='k', lw=1)\n",
    "ax.plot(tini, xini[:,1], ls = '-.', label = '$x_2$', c='k', lw=1)\n",
    "\n",
    "plot_set(ax, '$t$', '$x$', 'best')\n",
    "\n",
    "# fig.savefig(\"sf_lqr.pdf\", transparent=True, bbox_inches=\"tight\", pad_inches=0.0)"
   ]
  },
  {
   "cell_type": "markdown",
   "metadata": {},
   "source": [
    "### ハミルトン行列"
   ]
  },
  {
   "cell_type": "code",
   "execution_count": 20,
   "metadata": {},
   "outputs": [
    {
     "name": "stdout",
     "output_type": "stream",
     "text": [
      "[ 2.34520788+2.12132034j  2.34520788-2.12132034j -2.34520788+2.12132034j\n",
      " -2.34520788-2.12132034j]\n",
      "--- ハミルトン行列の安定固有値 ---\n",
      "[(-2.3452078799117135+2.1213203435596406j), (-2.3452078799117135-2.1213203435596406j)]\n",
      "--- フィードバックゲイン ---\n",
      "[[-10.          -3.69041576]]\n"
     ]
    }
   ],
   "source": [
    "H = np.block([[P.A, -P.B*(1/R)*P.B.T], [-Q, -P.A.T]])\n",
    "eigH = np.linalg.eigvals(H)\n",
    "print(eigH)\n",
    "\n",
    "print('--- ハミルトン行列の安定固有値 ---')\n",
    "eigH_stable = [ i for i in eigH if i < 0]\n",
    "print(eigH_stable)\n",
    "\n",
    "F = -acker(P.A, P.B, eigH_stable)\n",
    "print('--- フィードバックゲイン ---')\n",
    "print(F)"
   ]
  },
  {
   "cell_type": "markdown",
   "metadata": {},
   "source": [
    "### 円条件"
   ]
  },
  {
   "cell_type": "code",
   "execution_count": 21,
   "metadata": {},
   "outputs": [
    {
     "name": "stdout",
     "output_type": "stream",
     "text": [
      "\n",
      "    3.69 s + 10\n",
      "-------------------\n",
      "s^2 + s + 2.776e-17\n",
      "\n",
      "(inf, 70.74566579604311, nan, 4.2583738912001925)\n"
     ]
    },
    {
     "data": {
      "image/png": "[encoded data removed]",
      "text/plain": [
       "<Figure size 216x216 with 1 Axes>"
      ]
     },
     "metadata": {
      "needs_background": "light"
     },
     "output_type": "display_data"
    }
   ],
   "source": [
    "L = ss(P.A, P.B, -F, 0)\n",
    "print(tf(L))\n",
    "\n",
    "import matplotlib.patches as patches\n",
    "\n",
    "fig, ax = plt.subplots(figsize=(3, 3))\n",
    "x, y, w = nyquist(L, logspace(-2,3,1000), plot=False)\n",
    "ax.plot(x, y, c='k')\n",
    "# ax.plot(x, -y, ls='--')\n",
    "ax.scatter(-1, 0, color='k')\n",
    "\n",
    "ax.grid(ls=':', lw=0.5)\n",
    "ax.set_xlabel('Re')\n",
    "ax.set_ylabel('Im')\n",
    "ax.set_xlim(-2.5, 2.5)\n",
    "ax.set_ylim(-2.5, 2.5)\n",
    "ax.set_xticks([-2, -1, 0, 1, 2])\n",
    "\n",
    "\n",
    "c = patches.Circle(xy=(-1, 0), radius=1, fill=False, ec='k', lw=0.5)\n",
    "ax.add_patch(c)\n",
    "\n",
    "c = patches.Circle(xy=(0, 0), radius=1, fill=False, ec='k', ls='--', lw=0.5)\n",
    "ax.add_patch(c)\n",
    "\n",
    "print(margin(L))\n",
    "\n",
    "fig.tight_layout()\n",
    "\n",
    "#fig.savefig(\"lqr_nyquist.pdf\", transparent=True, bbox_inches=\"tight\", pad_inches=0.0)"
   ]
  },
  {
   "cell_type": "markdown",
   "metadata": {},
   "source": [
    "### 例9.4: 折り返し法"
   ]
  },
  {
   "cell_type": "code",
   "execution_count": 12,
   "metadata": {},
   "outputs": [
    {
     "name": "stdout",
     "output_type": "stream",
     "text": [
      "[ 0. -1.]\n"
     ]
    }
   ],
   "source": [
    "v = 2\n",
    "print(P.pole())\n",
    "X, _, _ = care(P.A+v*np.eye(2), P.B, np.zeros([2,2]), R)\n",
    "#print(X)"
   ]
  },
  {
   "cell_type": "code",
   "execution_count": 13,
   "metadata": {},
   "outputs": [
    {
     "name": "stdout",
     "output_type": "stream",
     "text": [
      "[-3. -4.]\n",
      "[ 0. -1.]\n"
     ]
    },
    {
     "data": {
      "text/plain": [
       "<matplotlib.legend.Legend at 0x7fcfb1d2dd00>"
      ]
     },
     "execution_count": 13,
     "metadata": {},
     "output_type": "execute_result"
    },
    {
     "data": {
      "image/png": "[encoded data removed]",
      "text/plain": [
       "<Figure size 216x165.6 with 1 Axes>"
      ]
     },
     "metadata": {
      "needs_background": "light"
     },
     "output_type": "display_data"
    }
   ],
   "source": [
    "FF = - (1/R)*(P.B.T)*X\n",
    "Acl = P.A + P.B*FF\n",
    "Pfb = ss(Acl, P.B, P.C, P.D)\n",
    "print(Pfb.pole())\n",
    "print(P.pole())\n",
    "\n",
    "tdata = np.arange(0, 5, 0.01)\n",
    "xini, tini = initial(Pfb, tdata, [-0.3, 0.4]) #ゼロ入力応答\n",
    "\n",
    "fig, ax = plt.subplots(figsize=(3, 2.3))\n",
    "\n",
    "ax.plot(tini, xini[:,0], label = '$x_1$', c='k')\n",
    "ax.plot(tini, xini[:,1], ls = '-.', label = '$x_2$', c='k')\n",
    "\n",
    "ax.set_xlabel('$t$')\n",
    "ax.set_ylabel('$x$')\n",
    "ax.grid(ls=':')\n",
    "ax.legend()"
   ]
  },
  {
   "cell_type": "code",
   "execution_count": 14,
   "metadata": {},
   "outputs": [
    {
     "name": "stdout",
     "output_type": "stream",
     "text": [
      "\n",
      "6 s + 12\n",
      "--------\n",
      "s^2 + s\n",
      "\n"
     ]
    },
    {
     "data": {
      "image/png": "[encoded data removed]",
      "text/plain": [
       "<Figure size 216x216 with 1 Axes>"
      ]
     },
     "metadata": {
      "needs_background": "light"
     },
     "output_type": "display_data"
    }
   ],
   "source": [
    "L = ss(P.A, P.B, -FF, 0)\n",
    "print(tf(L))\n",
    "\n",
    "import matplotlib.patches as patches\n",
    "\n",
    "fig, ax = plt.subplots(figsize=(3, 3))\n",
    "x, y, w = nyquist(L, logspace(-2,3,1000), plot=False)\n",
    "ax.plot(x, y, c='k')\n",
    "# ax.plot(x, -y, ls='--')\n",
    "ax.scatter(-1, 0, color='k')\n",
    "\n",
    "ax.grid(ls=':', lw=0.5)\n",
    "ax.set_xlabel('Re')\n",
    "ax.set_ylabel('Im')\n",
    "ax.set_xlim(-2.5, 2.5)\n",
    "ax.set_ylim(-2.5, 2.5)\n",
    "ax.set_xticks([-2, -1, 0, 1, 2])\n",
    "\n",
    "\n",
    "c = patches.Circle(xy=(-1, 0), radius=1, fill=False, ec='k')\n",
    "ax.add_patch(c)\n",
    "\n",
    "c = patches.Circle(xy=(0, 0), radius=1, fill=False, ec='k', ls='--')\n",
    "ax.add_patch(c)\n",
    "\n",
    "fig.tight_layout()"
   ]
  },
  {
   "cell_type": "code",
   "execution_count": 15,
   "metadata": {},
   "outputs": [
    {
     "name": "stdout",
     "output_type": "stream",
     "text": [
      "[-2.345208+2.1213202j -2.345208-2.1213202j]\n"
     ]
    },
    {
     "data": {
      "image/png": "[encoded data removed]",
      "text/plain": [
       "<Figure size 216x216 with 1 Axes>"
      ]
     },
     "metadata": {
      "needs_background": "light"
     },
     "output_type": "display_data"
    }
   ],
   "source": [
    "fig, ax = plt.subplots(figsize=(3, 3))\n",
    "\n",
    "P1pole = pole(P)\n",
    "P2pole = pole(Pfb)\n",
    "\n",
    "Q = [ [100, 0], [0, 1]]\n",
    "R = 1\n",
    "_, _, P3pole = lqr(P.A, P.B, Q, R)\n",
    "\n",
    "print(P3pole)\n",
    "\n",
    "ax.scatter(P1pole.real, P1pole.imag, s=50, marker='o',label='$A$', color='k')\n",
    "ax.scatter(P2pole.real, P2pole.imag, s=50, marker='*',label='$A+BF$', color='k')\n",
    "#ax.scatter(P3pole.real, P3pole.imag, s=50, marker='x',label='$A+BF$', color='k')\n",
    "\n",
    "ax.vlines(-v, -5, 5, color='k', lw=1)\n",
    "\n",
    "#ydata = np.arange(-5,5,0.1)\n",
    "#xdata = -np.abs(ydata)\n",
    "#ax.plot(xdata, ydata)\n",
    "\n",
    "ax.set_xlim(-7.2,1.2)\n",
    "ax.set_ylim(-4.2,4.2)\n",
    "plot_set(ax, 'Re', 'Im', 2)\n",
    "\n",
    "#fig.savefig(\"lqr_pole_assignment.pdf\", transparent=True, bbox_inches=\"tight\", pad_inches=0.0)"
   ]
  },
  {
   "cell_type": "markdown",
   "metadata": {},
   "source": [
    "## 章末問題"
   ]
  },
  {
   "cell_type": "code",
   "execution_count": 23,
   "metadata": {},
   "outputs": [
    {
     "name": "stdout",
     "output_type": "stream",
     "text": [
      "--- フィードバックゲイン ---\n",
      "[[-3. -4.]]\n",
      "[[-3. -4.]]\n",
      "--- 閉ループ極 ---\n",
      "[-2.+0.j -1.+0.j]\n",
      "[-1. -2.]\n"
     ]
    }
   ],
   "source": [
    "#章末問題４\n",
    "A = '0 1; 1 1'\n",
    "B = '0; 1'\n",
    "C = '1 0 ; 0 1'\n",
    "D = '0; 0'\n",
    "P = ss(A, B, C, D)\n",
    "\n",
    "Q = np.array([ [3, 0], [0, 2]])\n",
    "R = 1\n",
    "\n",
    "F, X, E = lqr(P.A, P.B, Q, R)\n",
    "F = -F\n",
    "\n",
    "print('--- フィードバックゲイン ---')\n",
    "print(F)\n",
    "print(-(1/R)*P.B.T*X)\n",
    "print('--- 閉ループ極 ---')\n",
    "print(E)\n",
    "print(np.linalg.eigvals(P.A+P.B*F))"
   ]
  },
  {
   "cell_type": "code",
   "execution_count": 24,
   "metadata": {},
   "outputs": [
    {
     "data": {
      "text/plain": [
       "matrix([[5., 3.],\n",
       "        [3., 4.]])"
      ]
     },
     "execution_count": 24,
     "metadata": {},
     "output_type": "execute_result"
    }
   ],
   "source": [
    "X"
   ]
  },
  {
   "cell_type": "code",
   "execution_count": 46,
   "metadata": {},
   "outputs": [
    {
     "name": "stdout",
     "output_type": "stream",
     "text": [
      "--- フィードバックゲイン ---\n",
      "[[-1.         -3.31662479]]\n",
      "[[-1.         -3.31662479]]\n",
      "--- 閉ループ極 ---\n",
      "[-2.981188  +0.j -0.33543673+0.j]\n",
      "[-0.33543674 -2.98118805]\n"
     ]
    }
   ],
   "source": [
    "#章末問題８\n",
    "A = '0 1; 0 0'\n",
    "B = '0; 1'\n",
    "C = '1 0 ; 0 3'\n",
    "D = '0; 0'\n",
    "P = ss(A, B, C, D)\n",
    "\n",
    "Q = P.C.T * P.C\n",
    "R = 1\n",
    "\n",
    "F, X, E = lqr(P.A, P.B, Q, R)\n",
    "F = -F\n",
    "\n",
    "print('--- フィードバックゲイン ---')\n",
    "print(F)\n",
    "print(-(1/R)*P.B.T*X)\n",
    "print('--- 閉ループ極 ---')\n",
    "print(E)\n",
    "print(np.linalg.eigvals(P.A+P.B*F))"
   ]
  },
  {
   "cell_type": "code",
   "execution_count": 47,
   "metadata": {},
   "outputs": [
    {
     "data": {
      "text/plain": [
       "matrix([[3.31662479, 1.        ],\n",
       "        [1.        , 3.31662479]])"
      ]
     },
     "execution_count": 47,
     "metadata": {},
     "output_type": "execute_result"
    }
   ],
   "source": [
    "X"
   ]
  },
  {
   "cell_type": "code",
   "execution_count": 26,
   "metadata": {},
   "outputs": [
    {
     "data": {
      "text/plain": [
       "3.3166247903554"
      ]
     },
     "execution_count": 26,
     "metadata": {},
     "output_type": "execute_result"
    }
   ],
   "source": [
    "np.sqrt(11)"
   ]
  },
  {
   "cell_type": "code",
   "execution_count": 49,
   "metadata": {},
   "outputs": [
    {
     "data": {
      "text/plain": [
       "-0.33543673964540455"
      ]
     },
     "execution_count": 49,
     "metadata": {},
     "output_type": "execute_result"
    }
   ],
   "source": [
    "(-np.sqrt(11)+np.sqrt(7))/2"
   ]
  },
  {
   "cell_type": "code",
   "execution_count": 50,
   "metadata": {},
   "outputs": [
    {
     "data": {
      "text/plain": [
       "-2.9811880507099953"
      ]
     },
     "execution_count": 50,
     "metadata": {},
     "output_type": "execute_result"
    }
   ],
   "source": [
    "(-np.sqrt(11)-np.sqrt(7))/2"
   ]
  },
  {
   "cell_type": "code",
   "execution_count": 42,
   "metadata": {},
   "outputs": [
    {
     "data": {
      "text/plain": [
       "matrix([[288.,  48.],\n",
       "        [ 48.,   8.]])"
      ]
     },
     "execution_count": 42,
     "metadata": {},
     "output_type": "execute_result"
    }
   ],
   "source": [
    "#章末問題９\n",
    "A = '1 1; 0 -5'\n",
    "B = '0; 1'\n",
    "C = '1 0 ; 0 1'\n",
    "D = '0; 0'\n",
    "P = ss(A, B, C, D)\n",
    "\n",
    "v = 3\n",
    "R = 1\n",
    "\n",
    "X, _, _ = care(P.A+v*np.eye(2), P.B, np.zeros([2,2]), R)\n",
    "X"
   ]
  },
  {
   "cell_type": "code",
   "execution_count": 44,
   "metadata": {},
   "outputs": [
    {
     "name": "stdout",
     "output_type": "stream",
     "text": [
      "[[-48.  -8.]]\n",
      "[-5. -7.]\n",
      "[ 1. -5.]\n"
     ]
    }
   ],
   "source": [
    "FF = - (1/R)*(P.B.T)*X\n",
    "print(FF)\n",
    "\n",
    "Acl = P.A + P.B*FF\n",
    "Pfb = ss(Acl, P.B, P.C, P.D)\n",
    "print(Pfb.pole())\n",
    "print(P.pole())"
   ]
  },
  {
   "cell_type": "markdown",
   "metadata": {},
   "source": [
    "## 付録：最適極"
   ]
  },
  {
   "cell_type": "code",
   "execution_count": 95,
   "metadata": {},
   "outputs": [
    {
     "data": {
      "image/png": "[encoded data removed]",
      "text/plain": [
       "<Figure size 216x216 with 1 Axes>"
      ]
     },
     "metadata": {
      "needs_background": "light"
     },
     "output_type": "display_data"
    }
   ],
   "source": [
    "Q = [ [100, 0], [0, 1]]\n",
    "R = 0.001\n",
    "\n",
    "_, _, E = lqr(P.A, P.B, Q, R)\n",
    "\n",
    "fig, ax = plt.subplots(figsize=(3, 3))\n",
    "ax.scatter(E.real, E.imag, s=50, marker='o',label='$R=$'+str(R), color='k')\n",
    "\n",
    "for i in np.arange(1,10,0.1):\n",
    "    _, _, E = lqr(P.A, P.B, Q, R*i)\n",
    "    ax.scatter(E.real, E.imag, s=5, marker='.', color='gray')\n",
    "for i in np.arange(10,100,1):\n",
    "    _, _, E = lqr(P.A, P.B, Q, R*i)\n",
    "    ax.scatter(E.real, E.imag, s=5, marker='.', color='gray')\n",
    "for i in np.arange(100,1000,10):\n",
    "    _, _, E = lqr(P.A, P.B, Q, R*i)\n",
    "    ax.scatter(E.real, E.imag, s=5, marker='.', color='gray')\n",
    "for i in np.arange(1000,100000,100):\n",
    "    _, _, E = lqr(P.A, P.B, Q, R*i)\n",
    "    ax.scatter(E.real, E.imag, s=5, marker='.', color='gray')\n",
    "\n",
    "_, _, E = lqr(P.A, P.B, Q, R*10000000)\n",
    "ax.scatter(E.real, E.imag, s=50, marker='*',label='$R=$'+str(R*10000000), color='k') \n",
    "ax.set_xlim(-31.2,1.2)\n",
    "ax.set_ylim(-16.2,16.2)\n",
    "plot_set(ax, 'Re', 'Im', 'best')\n",
    "\n",
    "#fig.savefig(\"lqr_opt_pole_locus.pdf\", transparent=True, bbox_inches=\"tight\", pad_inches=0.0)"
   ]
  },
  {
   "cell_type": "code",
   "execution_count": 181,
   "metadata": {},
   "outputs": [
    {
     "name": "stdout",
     "output_type": "stream",
     "text": [
      "[-10.60926 +0.j -29.806772+0.j]\n"
     ]
    }
   ],
   "source": [
    "_, _, E = lqr(P.A, P.B, Q, R)\n",
    "print(E)"
   ]
  },
  {
   "cell_type": "code",
   "execution_count": 617,
   "metadata": {},
   "outputs": [
    {
     "data": {
      "text/plain": [
       "(2.7755575615628168e-18, 70.74566579604317, 0.0, 4.258373891200274)"
      ]
     },
     "execution_count": 617,
     "metadata": {},
     "output_type": "execute_result"
    }
   ],
   "source": [
    "margin(L)"
   ]
  }
 ],
 "metadata": {
  "kernelspec": {
   "display_name": "Python 3",
   "language": "python",
   "name": "python3"
  },
  "language_info": {
   "codemirror_mode": {
    "name": "ipython",
    "version": 3
   },
   "file_extension": ".py",
   "mimetype": "text/x-python",
   "name": "python",
   "nbconvert_exporter": "python",
   "pygments_lexer": "ipython3",
   "version": "3.8.5"
  }
 },
 "nbformat": 4,
 "nbformat_minor": 4
}
